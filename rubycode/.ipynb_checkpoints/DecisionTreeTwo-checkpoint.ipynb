{
 "cells": [
  {
   "cell_type": "markdown",
   "metadata": {},
   "source": [
    "# Decision Trees w/ MNIST"
   ]
  },
  {
   "cell_type": "code",
   "execution_count": null,
   "metadata": {
    "collapsed": true
   },
   "outputs": [],
   "source": [
    "# To support both python 2 and python 3\n",
    "from __future__ import division, print_function, unicode_literals\n",
    "\n",
    "# Common imports\n",
    "import numpy as np\n",
    "\n",
    "# to make this notebook's output stable across runs\n",
    "np.random.seed(42)\n",
    "\n",
    "# To plot pretty figures\n",
    "%matplotlib inline\n",
    "import matplotlib\n",
    "import matplotlib.pyplot as plt\n",
    "\n",
    "import pandas as pd"
   ]
  },
  {
   "cell_type": "code",
   "execution_count": null,
   "metadata": {},
   "outputs": [],
   "source": [
    "from sklearn.datasets import fetch_mldata\n",
    "mnist = fetch_mldata('MNIST original')\n",
    "mnist"
   ]
  },
  {
   "cell_type": "code",
   "execution_count": null,
   "metadata": {},
   "outputs": [],
   "source": [
    "from sklearn.model_selection import train_test_split\n",
    "\n",
    "train_X, test_X, train_Y, test_Y = train_test_split(mnist['data'], mnist['target'], test_size=0.2, random_state=42)\n",
    "\n",
    "print( \"\\nTraining Percentages:\\n\" )\n",
    "print(train_X.shape[0]/len(mnist['data']))\n",
    "print(train_Y.shape[0]/len(mnist['data']))"
   ]
  },
  {
   "cell_type": "markdown",
   "metadata": {},
   "source": [
    "Let's look at a number."
   ]
  },
  {
   "cell_type": "code",
   "execution_count": null,
   "metadata": {},
   "outputs": [],
   "source": [
    "# No shaping\n",
    "myNumber = train_X[5]\n",
    "myNumberLabel = train_Y[5]\n",
    "myNumber2 = train_X[7]\n",
    "myNumberLabel2 = train_Y[7]\n",
    "print (myNumber)\n",
    "print (myNumberLabel)"
   ]
  },
  {
   "cell_type": "code",
   "execution_count": null,
   "metadata": {},
   "outputs": [],
   "source": [
    "## Shape it into the 28x28 image.\n",
    "myNumber = myNumber.reshape((28,28))\n",
    "print(myNumber.shape)\n",
    "for x in myNumber: print (' '.join('%s'%n for n in x))"
   ]
  },
  {
   "cell_type": "code",
   "execution_count": null,
   "metadata": {},
   "outputs": [],
   "source": [
    "plt.imshow(myNumber, cmap = matplotlib.cm.binary,\n",
    "           interpolation=\"nearest\")\n",
    "plt.axis(\"off\")\n",
    "plt.show()"
   ]
  },
  {
   "cell_type": "code",
   "execution_count": null,
   "metadata": {},
   "outputs": [],
   "source": [
    "from sklearn.tree import DecisionTreeClassifier\n",
    "\n",
    "classifier = DecisionTreeClassifier(max_depth=2)\n",
    "classifier.fit(train_X,train_Y)\n",
    "y_pred = classifier.predict(train_X)\n",
    "print (\"Accuracy on Training: \",sum(y_pred==train_Y)/len(train_Y))\n",
    "\n",
    "y_pred = classifier.predict(test_X)\n",
    "print (\"Accuracy on Training: \",sum(y_pred==test_Y)/len(test_Y))\n",
    "myNumber = myNumber.reshape(1,-1)\n",
    "print ('Prediction on myNumber: %i'%classifier.predict(myNumber))"
   ]
  },
  {
   "cell_type": "code",
   "execution_count": null,
   "metadata": {},
   "outputs": [],
   "source": [
    "plt.imshow(myNumber2.reshape((28,28)), cmap = matplotlib.cm.binary,\n",
    "           interpolation=\"nearest\")\n",
    "plt.axis(\"off\")\n",
    "plt.show()\n",
    "myNumber2 = myNumber2.reshape(1,-1)\n",
    "print ('Prediction on myNumber: %i'%classifier.predict(myNumber2))"
   ]
  },
  {
   "cell_type": "code",
   "execution_count": null,
   "metadata": {},
   "outputs": [],
   "source": [
    "import StringIO\n",
    "from sklearn import tree\n",
    "#from graphviz import *\n",
    "\n",
    "import matplotlib.image as mpimg\n",
    "import pydotplus\n",
    "\n",
    "dotfile = open(\"dtree2.dot\", 'w')\n",
    "tree.export_graphviz(classifier, out_file = dotfile)\n",
    "dotfile.close()\n",
    "dot_data = StringIO.StringIO()\n",
    "tree.export_graphviz(classifier, out_file=dot_data)\n",
    "graph = pydotplus.graph_from_dot_file(\"dtree2.dot\")\n",
    "graph.write_png('test.png')\n",
    "img=mpimg.imread('test.png')\n",
    "fig = plt.figure(figsize=(100, 100)) \n",
    "plt.axis(\"off\")\n",
    "plt.imshow(img, cmap = plt.cm.binary,\n",
    "           interpolation=\"nearest\")\n",
    "plt.show()"
   ]
  },
  {
   "cell_type": "code",
   "execution_count": null,
   "metadata": {},
   "outputs": [],
   "source": [
    "from sklearn.tree import DecisionTreeClassifier\n",
    "\n",
    "classifier = DecisionTreeClassifier(max_depth=3)\n",
    "classifier.fit(train_X,train_Y)\n",
    "y_pred = classifier.predict(train_X)\n",
    "print (\"Accuracy on Training: \",sum(y_pred==train_Y)/len(train_Y))\n",
    "\n",
    "y_pred = classifier.predict(test_X)\n",
    "print (\"Accuracy on Training: \",sum(y_pred==test_Y)/len(test_Y))"
   ]
  },
  {
   "cell_type": "code",
   "execution_count": null,
   "metadata": {},
   "outputs": [],
   "source": [
    "classifier = DecisionTreeClassifier(max_depth=5)\n",
    "classifier.fit(train_X,train_Y)\n",
    "y_pred = classifier.predict(train_X)\n",
    "print (\"Accuracy on Training: \",sum(y_pred==train_Y)/len(train_Y))\n",
    "\n",
    "y_pred = classifier.predict(test_X)\n",
    "print (\"Accuracy on Training: \",sum(y_pred==test_Y)/len(test_Y))"
   ]
  },
  {
   "cell_type": "code",
   "execution_count": null,
   "metadata": {},
   "outputs": [],
   "source": [
    "classifier = DecisionTreeClassifier(max_depth=7)\n",
    "classifier.fit(train_X,train_Y)\n",
    "y_pred = classifier.predict(train_X)\n",
    "print (\"Accuracy on Training: \",sum(y_pred==train_Y)/len(train_Y))\n",
    "\n",
    "y_pred = classifier.predict(test_X)\n",
    "print (\"Accuracy on Training: \",sum(y_pred==test_Y)/len(test_Y))"
   ]
  },
  {
   "cell_type": "code",
   "execution_count": null,
   "metadata": {},
   "outputs": [],
   "source": [
    "classifier = DecisionTreeClassifier(max_depth=9)\n",
    "classifier.fit(train_X,train_Y)\n",
    "y_pred = classifier.predict(train_X)\n",
    "print (\"Accuracy on Training: \",sum(y_pred==train_Y)/len(train_Y))\n",
    "\n",
    "y_pred = classifier.predict(test_X)\n",
    "print (\"Accuracy on Training: \",sum(y_pred==test_Y)/len(test_Y))"
   ]
  },
  {
   "cell_type": "code",
   "execution_count": null,
   "metadata": {},
   "outputs": [],
   "source": [
    "plt.imshow(myNumber2.reshape((28,28)), cmap = matplotlib.cm.binary,\n",
    "           interpolation=\"nearest\")\n",
    "plt.axis(\"off\")\n",
    "plt.show()\n",
    "myNumber2 = myNumber2.reshape(1,-1)\n",
    "print ('Prediction on myNumber: %i'%classifier.predict(myNumber2))"
   ]
  },
  {
   "cell_type": "code",
   "execution_count": null,
   "metadata": {},
   "outputs": [],
   "source": [
    "classifier = DecisionTreeClassifier(max_depth=2, criterion='entropy')\n",
    "classifier.fit(train_X,train_Y)\n",
    "y_pred = classifier.predict(train_X)\n",
    "print (\"Accuracy on Training: \",sum(y_pred==train_Y)/len(train_Y))\n",
    "\n",
    "y_pred = classifier.predict(test_X)\n",
    "print (\"Accuracy on Training: \",sum(y_pred==test_Y)/len(test_Y))"
   ]
  },
  {
   "cell_type": "code",
   "execution_count": null,
   "metadata": {},
   "outputs": [],
   "source": [
    "import StringIO\n",
    "from sklearn import tree\n",
    "#from graphviz import *\n",
    "\n",
    "import matplotlib.image as mpimg\n",
    "import pydotplus\n",
    "\n",
    "dotfile = open(\"dtree2.dot\", 'w')\n",
    "tree.export_graphviz(classifier, out_file = dotfile)\n",
    "dotfile.close()\n",
    "dot_data = StringIO.StringIO()\n",
    "tree.export_graphviz(classifier, out_file=dot_data)\n",
    "graph = pydotplus.graph_from_dot_file(\"dtree2.dot\")\n",
    "graph.write_png('test.png')\n",
    "img=mpimg.imread('test.png')\n",
    "fig = plt.figure(figsize=(100, 100)) \n",
    "plt.axis(\"off\")\n",
    "plt.imshow(img, cmap = plt.cm.binary,\n",
    "           interpolation=\"nearest\")\n",
    "plt.show()"
   ]
  },
  {
   "cell_type": "markdown",
   "metadata": {},
   "source": [
    "### Where are those pixels use first?"
   ]
  },
  {
   "cell_type": "code",
   "execution_count": null,
   "metadata": {},
   "outputs": [],
   "source": [
    "shell = np.zeros(28*28)\n",
    "shell[350]=1\n",
    "shell[461]=2\n",
    "shell = shell.reshape((28,28))\n",
    "for x in shell: print (' '.join('%i'%n for n in x))"
   ]
  }
 ],
 "metadata": {
  "kernelspec": {
   "display_name": "Python 2",
   "language": "python",
   "name": "python2"
  },
  "language_info": {
   "codemirror_mode": {
    "name": "ipython",
    "version": 2
   },
   "file_extension": ".py",
   "mimetype": "text/x-python",
   "name": "python",
   "nbconvert_exporter": "python",
   "pygments_lexer": "ipython2",
   "version": "2.7.13"
  }
 },
 "nbformat": 4,
 "nbformat_minor": 2
}
