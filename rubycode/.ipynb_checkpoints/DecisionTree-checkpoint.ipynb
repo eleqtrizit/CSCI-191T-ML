{
 "cells": [
  {
   "cell_type": "code",
   "execution_count": 1,
   "metadata": {},
   "outputs": [],
   "source": [
    "# To support both python 2 and python 3\n",
    "from __future__ import division, print_function, unicode_literals\n",
    "\n",
    "# Common imports\n",
    "import numpy as np\n",
    "\n",
    "# to make this notebook's output stable across runs\n",
    "np.random.seed(42)\n",
    "\n",
    "# To plot pretty figures\n",
    "%matplotlib inline\n",
    "import matplotlib\n",
    "import matplotlib.pyplot as plt\n",
    "\n",
    "import pandas as pd\n",
    "\n",
    "from sklearn.datasets import load_iris\n",
    "from sklearn.tree import DecisionTreeClassifier\n",
    "from sklearn.model_selection import train_test_split"
   ]
  },
  {
   "cell_type": "code",
   "execution_count": 7,
   "metadata": {},
   "outputs": [
    {
     "name": "stdout",
     "output_type": "stream",
     "text": [
      "Data Shape:  (150, 4)\n",
      "df describe\n",
      "       sepal length (cm)  sepal width (cm)  petal length (cm)  \\\n",
      "count         150.000000        150.000000         150.000000   \n",
      "mean            5.843333          3.057333           3.758000   \n",
      "std             0.828066          0.435866           1.765298   \n",
      "min             4.300000          2.000000           1.000000   \n",
      "25%             5.100000          2.800000           1.600000   \n",
      "50%             5.800000          3.000000           4.350000   \n",
      "75%             6.400000          3.300000           5.100000   \n",
      "max             7.900000          4.400000           6.900000   \n",
      "\n",
      "       petal width (cm)      target  \n",
      "count        150.000000  150.000000  \n",
      "mean           1.199333    1.000000  \n",
      "std            0.762238    0.819232  \n",
      "min            0.100000    0.000000  \n",
      "25%            0.300000    0.000000  \n",
      "50%            1.300000    1.000000  \n",
      "75%            1.800000    2.000000  \n",
      "max            2.500000    2.000000  \n",
      "   sepal length (cm)  sepal width (cm)  petal length (cm)  petal width (cm)  \\\n",
      "0                5.1               3.5                1.4               0.2   \n",
      "1                4.9               3.0                1.4               0.2   \n",
      "2                4.7               3.2                1.3               0.2   \n",
      "3                4.6               3.1                1.5               0.2   \n",
      "\n",
      "   target  \n",
      "0       0  \n",
      "1       0  \n",
      "2       0  \n",
      "3       0  \n"
     ]
    }
   ],
   "source": [
    "# load data\n",
    "iris = load_iris()\n",
    "print(\"Data Shape: \", iris.data.shape, end='\\n\\n')\n",
    "\n",
    "\n",
    "df = pd.DataFrame(iris['data'], columns=iris['feature_names'])\n",
    "df['target'] = iris['target']\n",
    "\n",
    "print(\"df describe\")\n",
    "print(df.describe())\n",
    "print(df.head(4))"
   ]
  },
  {
   "cell_type": "code",
   "execution_count": 3,
   "metadata": {},
   "outputs": [
    {
     "name": "stdout",
     "output_type": "stream",
     "text": [
      "       sepal length (cm)  sepal width (cm)  petal length (cm)  \\\n",
      "count         120.000000        120.000000         120.000000   \n",
      "mean            5.809167          3.057500           3.727500   \n",
      "std             0.823805          0.446398           1.751252   \n",
      "min             4.300000          2.000000           1.000000   \n",
      "25%             5.100000          2.800000           1.500000   \n",
      "50%             5.750000          3.000000           4.250000   \n",
      "75%             6.400000          3.325000           5.100000   \n",
      "max             7.700000          4.400000           6.700000   \n",
      "\n",
      "       petal width (cm)      target  \n",
      "count        120.000000  120.000000  \n",
      "mean           1.182500    0.991667  \n",
      "std            0.753442    0.814736  \n",
      "min            0.100000    0.000000  \n",
      "25%            0.300000    0.000000  \n",
      "50%            1.300000    1.000000  \n",
      "75%            1.800000    2.000000  \n",
      "max            2.500000    2.000000  \n",
      "\n",
      "Training Percentages:\n",
      "\n",
      "sepal length (cm)    0.8\n",
      "sepal width (cm)     0.8\n",
      "petal length (cm)    0.8\n",
      "petal width (cm)     0.8\n",
      "target               0.8\n",
      "dtype: float64\n"
     ]
    }
   ],
   "source": [
    "from sklearn.model_selection import train_test_split\n",
    "\n",
    "train_set, test_set = train_test_split(df, test_size=0.2, random_state=42)\n",
    "\n",
    "print(train_set.describe())\n",
    "print( \"\\nTraining Percentages:\\n\" )\n",
    "print(train_set.count()/df.count())"
   ]
  },
  {
   "cell_type": "code",
   "execution_count": 5,
   "metadata": {},
   "outputs": [
    {
     "name": "stdout",
     "output_type": "stream",
     "text": [
      "Accuracy on Training:  0.958333333333\n",
      "Accuracy on Training:  0.958333333333\n"
     ]
    }
   ],
   "source": [
    "X = train_set.drop(\"target\", axis=1) # drop labels for training set\n",
    "Y = train_set['target'].copy()\n",
    "\n",
    "classifier = DecisionTreeClassifier(max_depth=3)\n",
    "classifier.fit(X,Y)\n",
    "y_pred = classifier.predict(X)\n",
    "print (\"Accuracy on Training: \",sum(y_pred==Y)/len(Y))\n",
    "\n",
    "y_pred = classifier.predict(X)\n",
    "print (\"Accuracy on Training: \",sum(y_pred==Y)/len(Y))"
   ]
  },
  {
   "cell_type": "code",
   "execution_count": 6,
   "metadata": {},
   "outputs": [
    {
     "name": "stdout",
     "output_type": "stream",
     "text": [
      "Accuracy on Test Set:  1.0\n"
     ]
    }
   ],
   "source": [
    "X = test_set.drop(\"target\", axis=1) # drop labels for training set\n",
    "Y = test_set['target'].copy()\n",
    "\n",
    "y_pred = classifier.predict(X)\n",
    "print (\"Accuracy on Test Set: \",sum(y_pred==Y)/len(Y))"
   ]
  },
  {
   "cell_type": "code",
   "execution_count": 7,
   "metadata": {},
   "outputs": [
    {
     "data": {
      "image/png": "[encoded data removed]",
      "text/plain": [
       "<matplotlib.figure.Figure at 0x1eb35390>"
      ]
     },
     "metadata": {},
     "output_type": "display_data"
    }
   ],
   "source": [
    "import StringIO\n",
    "from sklearn import tree\n",
    "#from graphviz import *\n",
    "\n",
    "import matplotlib.image as mpimg\n",
    "import pydotplus\n",
    "\n",
    "dotfile = open(\"dtree2.dot\", 'w')\n",
    "tree.export_graphviz(classifier, out_file = dotfile)\n",
    "dotfile.close()\n",
    "dot_data = StringIO.StringIO()\n",
    "tree.export_graphviz(classifier, out_file=dot_data)\n",
    "graph = pydotplus.graph_from_dot_file(\"dtree2.dot\")\n",
    "graph.write_png('test.png')\n",
    "img=mpimg.imread('test.png')\n",
    "fig = plt.figure(figsize=(10, 10)) \n",
    "plt.axis(\"off\")\n",
    "plt.imshow(img, cmap = plt.cm.binary,\n",
    "           interpolation=\"nearest\")\n",
    "plt.show()"
   ]
  }
 ],
 "metadata": {
  "kernelspec": {
   "display_name": "Python 3",
   "language": "python",
   "name": "python3"
  },
  "language_info": {
   "codemirror_mode": {
    "name": "ipython",
    "version": 3
   },
   "file_extension": ".py",
   "mimetype": "text/x-python",
   "name": "python",
   "nbconvert_exporter": "python",
   "pygments_lexer": "ipython3",
   "version": "3.6.7"
  }
 },
 "nbformat": 4,
 "nbformat_minor": 1
}
