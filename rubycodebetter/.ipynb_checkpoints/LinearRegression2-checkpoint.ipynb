{
 "cells": [
  {
   "cell_type": "code",
   "execution_count": 74,
   "metadata": {},
   "outputs": [],
   "source": [
    "# To support both python 2 and python 3\n",
    "from __future__ import division, print_function, unicode_literals\n",
    "\n",
    "# Common imports\n",
    "import numpy as np\n",
    "import os\n",
    "\n",
    "# to make this notebook's output stable across runs\n",
    "np.random.seed(42)\n",
    "\n",
    "# To plot pretty figures\n",
    "%matplotlib inline\n",
    "import matplotlib\n",
    "import matplotlib.pyplot as plt\n",
    "\n",
    "\n",
    "import pandas as pd\n",
    "import random\n",
    "\n",
    "from IPython.display import HTML, display\n",
    "#import tabulate\n",
    "\n",
    "def PrintL(*arg):\n",
    "    html=\"<span style='font-size: 18px;font-weight:700'>\"\n",
    "    for a in arg:\n",
    "        html += str(a)\n",
    "    html +=\"</span>\"\n",
    "    display(HTML(html))\n",
    "    \n",
    "def PrintM(*arg):\n",
    "    html=\"<span style='font-size: 14px;font-weight:500'>\"\n",
    "    for a in arg:\n",
    "        html += str(a)\n",
    "    html +=\"</span>\"\n",
    "    display(HTML(html))\n",
    "\n",
    "def BigTitle(title):\n",
    "    html=\"<div style='width: 100%; padding-bottom: 10px'><span style='font-size: 22px;font-weight:700'>\" + title + \"</span>\"\n",
    "    html +=\"</div>\"\n",
    "    display(HTML(html))\n",
    "    \n",
    "def EasyRead(title,text):\n",
    "    html=\"<div style='width: 100%; padding-bottom: 10px'><span style='font-weight:700'>\" + title + \":</span> &nbsp;&nbsp;\"\n",
    "    if type(text) is str:\n",
    "        html += text\n",
    "    elif type(text) is int:\n",
    "        html += str(text)\n",
    "    elif type(text) is float:\n",
    "        html += str(round(text,5))\n",
    "    else:\n",
    "        html += \"[ \"\n",
    "        for t in text:\n",
    "            if type(t) is int:\n",
    "                t = float(t)\n",
    "            if type(t) is list:\n",
    "                html += \" [ \"\n",
    "                for tt in t:\n",
    "                    html += str(round(tt,5)) + \" &nbsp; \"\n",
    "                html += \"] &nbsp; \"\n",
    "            else:\n",
    "                html += str(round(t,5)) + \" &nbsp; \"\n",
    "        html += \" ] \"\n",
    "        \n",
    "    html +=\"</div>\"\n",
    "    display(HTML(html))\n"
   ]
  },
  {
   "cell_type": "markdown",
   "metadata": {},
   "source": [
    "### What's going on?\n",
    "Create range of #'s from -100->100 for X<br>\n",
    "Create range of #'s from -200->200 for R (why not Y?)<br>\n",
    "<br>\n",
    "#### Variables\n",
    "X: X-axis points<br>\n",
    "R: Y-axis points<br>\n",
    "EPS: Epochs. One epoch is one forward pass AND one backward pass of all the training examples<br>\n",
    "<br>\n",
    "#### Numpy\n",
    "X=X.reshape(-1,1)   \n",
    "    This will reshape the matrix to a new format<br>\n",
    "    -1 simply means that it is an *unknown dimension* and we want numpy to figure it out. And numpy will figure this by looking at the 'length of the array and remaining dimensions' and making sure it satisfies the criteria.<br>\n",
    "    Example:\n",
    "    <img src=\"./files/reshape.png\">\n",
    "    \n",
    "                "
   ]
  },
  {
   "cell_type": "code",
   "execution_count": 3,
   "metadata": {},
   "outputs": [
    {
     "data": {
      "image/png": "[encoded data removed]",
      "text/plain": [
       "<Figure size 432x288 with 1 Axes>"
      ]
     },
     "metadata": {
      "needs_background": "light"
     },
     "output_type": "display_data"
    }
   ],
   "source": [
    "RANGE = 100\n",
    "COUNT = 20\n",
    "EPS = 50\n",
    "\n",
    "# create function that takes x and outputs 2x+10\n",
    "F_x = lambda x: 2*x + 10\n",
    "# create an array with values -RANGE->RANGE with COUNT examples\n",
    "X = np.array([random.randint(-RANGE,RANGE) for i in range(COUNT)])\n",
    "#print(np.sort(X));\n",
    "R = np.array([F_x(x)+random.random()*EPS-EPS/2 for x in X])\n",
    "#print(np.sort(R));\n",
    "\n",
    "X=X.reshape(-1,1)\n",
    "R=R.reshape(-1,1)\n",
    "\n",
    "plt.plot(X,R, '.')\n",
    "plt.show()"
   ]
  },
  {
   "cell_type": "markdown",
   "metadata": {},
   "source": [
    "## Hypothesis Function\n",
    "<img src=\"./files/hypothesis.png\">\n",
    "\n",
    "## Cost Function\n",
    "<img src=\"./files/costfunc.png\">"
   ]
  },
  {
   "cell_type": "markdown",
   "metadata": {},
   "source": [
    "### numpy.cov\n",
    "<img src=\"./files/numpycov.png\">\n",
    "<br><br>\n",
    "\n",
    "### numpy.append\n",
    "<img src=\"./files/numpyappend.png\">\n",
    "<br><br>\n",
    "\n",
    "### numpy.transpose\n",
    "<img src=\"./files/numpytranspose.png\">\n",
    "<br><br>\n",
    "\n",
    "### matrix multiplication reminder\n",
    "<img src=\"./files/matrixmult.png\">\n",
    "<br><br>\n",
    "\n",
    "### multiplicative inverse\n",
    "<img src=\"./files/inv.png\">\n",
    "<br><br>\n",
    "\n",
    "\n",
    "### matrix transpose\n",
    "<img src=\"./files/transpose.png\">\n",
    "<br><br>\n",
    "\n",
    "### dot product\n",
    "<img src=\"./files/dot.png\">\n",
    "<br><br>"
   ]
  },
  {
   "cell_type": "code",
   "execution_count": 73,
   "metadata": {},
   "outputs": [
    {
     "data": {
      "text/html": [
       "<span style='font-size: 14px;font-weight:500'>We need matrix multiply X1 and R.</span>"
      ],
      "text/plain": [
       "<IPython.core.display.HTML object>"
      ]
     },
     "metadata": {},
     "output_type": "display_data"
    },
    {
     "data": {
      "text/html": [
       "<span style='font-size: 14px;font-weight:500'>Matrix multiplication requires dimensions of (m,n) and (n,1) and will have shape of (m,1)</span>"
      ],
      "text/plain": [
       "<IPython.core.display.HTML object>"
      ]
     },
     "metadata": {},
     "output_type": "display_data"
    },
    {
     "data": {
      "text/html": [
       "<span style='font-size: 14px;font-weight:500'>Shape of X1 and R: (20, 2) (20, 1)</span>"
      ],
      "text/plain": [
       "<IPython.core.display.HTML object>"
      ]
     },
     "metadata": {},
     "output_type": "display_data"
    },
    {
     "data": {
      "text/html": [
       "<span style='font-size: 14px;font-weight:500'>It currently does not meet the requirement.\n",
       "</span>"
      ],
      "text/plain": [
       "<IPython.core.display.HTML object>"
      ]
     },
     "metadata": {},
     "output_type": "display_data"
    },
    {
     "data": {
      "text/html": [
       "<span style='font-size: 14px;font-weight:500'>Shape of transposed_X1 and R: (2, 20) (20, 1)</span>"
      ],
      "text/plain": [
       "<IPython.core.display.HTML object>"
      ]
     },
     "metadata": {},
     "output_type": "display_data"
    },
    {
     "data": {
      "text/html": [
       "<span style='font-size: 14px;font-weight:500'>This meets the requirements.</span>"
      ],
      "text/plain": [
       "<IPython.core.display.HTML object>"
      ]
     },
     "metadata": {},
     "output_type": "display_data"
    },
    {
     "data": {
      "text/html": [
       "<span style='font-size: 14px;font-weight:500'>Now we expect an output shape of 2,1</span>"
      ],
      "text/plain": [
       "<IPython.core.display.HTML object>"
      ]
     },
     "metadata": {},
     "output_type": "display_data"
    },
    {
     "data": {
      "text/html": [
       "<span style='font-size: 14px;font-weight:500'>The dot product shape of transposed_X1 and R: (2, 1) Perfect!</span>"
      ],
      "text/plain": [
       "<IPython.core.display.HTML object>"
      ]
     },
     "metadata": {},
     "output_type": "display_data"
    },
    {
     "name": "stdout",
     "output_type": "stream",
     "text": [
      "\n",
      "\n",
      "\n"
     ]
    },
    {
     "ename": "NameError",
     "evalue": "name 'PrintL' is not defined",
     "output_type": "error",
     "traceback": [
      "\u001b[1;31m---------------------------------------------------------------------------\u001b[0m",
      "\u001b[1;31mNameError\u001b[0m                                 Traceback (most recent call last)",
      "\u001b[1;32m<ipython-input-73-b2b1efe01d10>\u001b[0m in \u001b[0;36m<module>\u001b[1;34m\u001b[0m\n\u001b[0;32m     23\u001b[0m \u001b[0mPrintM\u001b[0m\u001b[1;33m(\u001b[0m\u001b[1;34m\"The dot product shape of transposed_X1 and R: \"\u001b[0m\u001b[1;33m,\u001b[0m \u001b[0mdotX1R\u001b[0m\u001b[1;33m.\u001b[0m\u001b[0mshape\u001b[0m\u001b[1;33m,\u001b[0m \u001b[1;34m\" Perfect!\"\u001b[0m\u001b[1;33m)\u001b[0m\u001b[1;33m\u001b[0m\u001b[1;33m\u001b[0m\u001b[0m\n\u001b[0;32m     24\u001b[0m \u001b[0mprint\u001b[0m\u001b[1;33m(\u001b[0m\u001b[1;34m\"\\n\\n\"\u001b[0m\u001b[1;33m)\u001b[0m\u001b[1;33m\u001b[0m\u001b[1;33m\u001b[0m\u001b[0m\n\u001b[1;32m---> 25\u001b[1;33m \u001b[0mPrintL\u001b[0m\u001b[1;33m(\u001b[0m\u001b[1;34m\"\"\u001b[0m\u001b[1;33m)\u001b[0m\u001b[1;33m\u001b[0m\u001b[1;33m\u001b[0m\u001b[0m\n\u001b[0m\u001b[0;32m     26\u001b[0m \u001b[0mPrintM\u001b[0m\u001b[1;33m(\u001b[0m\u001b[1;34m\"Now we need the dot product of transX1 and X1\"\u001b[0m\u001b[1;33m)\u001b[0m\u001b[1;33m\u001b[0m\u001b[1;33m\u001b[0m\u001b[0m\n\u001b[0;32m     27\u001b[0m \u001b[0mPrintM\u001b[0m\u001b[1;33m(\u001b[0m\u001b[1;34m\"The shapes are: \"\u001b[0m\u001b[1;33m,\u001b[0m \u001b[0mtransX1\u001b[0m\u001b[1;33m.\u001b[0m\u001b[0mshape\u001b[0m\u001b[1;33m,\u001b[0m\u001b[1;34m','\u001b[0m\u001b[1;33m,\u001b[0m\u001b[0mX_1\u001b[0m\u001b[1;33m.\u001b[0m\u001b[0mshape\u001b[0m\u001b[1;33m)\u001b[0m\u001b[1;33m\u001b[0m\u001b[1;33m\u001b[0m\u001b[0m\n",
      "\u001b[1;31mNameError\u001b[0m: name 'PrintL' is not defined"
     ]
    }
   ],
   "source": [
    "from numpy.linalg import inv \n",
    "from numpy import dot, transpose\n",
    "\n",
    "# to array X append ones, along axis 1\n",
    "X_1 = np.append(X,np.ones([len(X),1]),1)\n",
    "#print (X_1)\n",
    "\n",
    "\n",
    "################\n",
    "# original was:   W = (dot  (  inv(dot(transpose(X_1), X_1)), dot(transpose(X_1), R)  )  )\n",
    "\n",
    "# we are going to break it down to see what is going on\n",
    "PrintM(\"We need matrix multiply X1 and R.\")\n",
    "PrintM(\"Matrix multiplication requires dimensions of (m,n) and (n,1) and will have shape of (m,1)\")\n",
    "PrintM(\"Shape of X1 and R: \", X_1.shape, \" \", R.shape)\n",
    "PrintM(\"It currently does not meet the requirement.\\n\")\n",
    "transX1 = transpose(X_1)\n",
    "(m,n) = transX1.shape\n",
    "PrintM(\"Shape of transposed_X1 and R: \", transX1.shape, \" \", R.shape)\n",
    "PrintM(\"This meets the requirements.\")\n",
    "PrintM(\"Now we expect an output shape of \", m, \",\", 1)\n",
    "dotX1R = dot(transX1,R)\n",
    "PrintM(\"The dot product shape of transposed_X1 and R: \", dotX1R.shape, \" Perfect!\")\n",
    "print(\"\\n\\n\")\n",
    "PrintL(\"dot(transpose(X_1), X_1)\")\n",
    "PrintM(\"Now we need the dot product of transX1 and X1\")\n",
    "PrintM(\"The shapes are: \", transX1.shape,',',X_1.shape)\n",
    "dotTX1_X1=dot(transpose(X_1), X_1)\n",
    "PrintM(\"Result shape: \", dotTX1_X1.shape)\n",
    "PrintM(\"\")\n",
    "\n",
    "#print (W)\n",
    "theta = (W[1],W[0])\n",
    "H_x = lambda x: theta[0] + theta[1]*x\n",
    "\n",
    "# these are called GENERATORS\n",
    "Y = map(H_x, X)\n",
    "#print ( sum ([(r-H_x(x))**2 for x,r in zip(X,R)] ))\n",
    "\n",
    "plt.plot(X,R, '.')\n",
    "X_plt = np.arange(-RANGE,RANGE, 0.1)\n",
    "\n",
    "Y_plt = map(H_x,X_plt)\n",
    "#plt.plot(X_plt, Y_plt)"
   ]
  },
  {
   "cell_type": "code",
   "execution_count": null,
   "metadata": {},
   "outputs": [],
   "source": [
    "from numpy.linalg import lstsq\n",
    "print(lstsq(X_1, R)[0])"
   ]
  },
  {
   "cell_type": "code",
   "execution_count": null,
   "metadata": {},
   "outputs": [],
   "source": [
    "theta = (0,0)\n",
    "#theta=(10,2)\n",
    "print (theta)\n",
    "Y = map(H_x, X)\n",
    "print ( sum ([(r-H_x(x))**2 for x,r in zip(X,R)] ))\n",
    "\n",
    "plt.plot(X,R, '.')\n",
    "X_plt = np.arange(-RANGE,RANGE, 0.1)\n",
    "\n",
    "Y_plt = map(H_x,X_plt)\n",
    "plt.plot(X_plt, Y_plt)"
   ]
  },
  {
   "cell_type": "code",
   "execution_count": null,
   "metadata": {},
   "outputs": [],
   "source": [
    "alpha = 0.0001\n",
    "print (theta)\n",
    "\n",
    "w0Grad = -2*sum(R-H_x(X))/len(X)\n",
    "w1Grad = -2*sum( (R-H_x(X))*X )/len(X)\n",
    "\n",
    "print (\"Gradient: \", w0Grad, w1Grad)\n",
    "theta = theta[0]-alpha*w0Grad, theta[1]-alpha*w1Grad\n",
    "print (\"Theta: \", theta)\n",
    "\n",
    "Y = H_x(X)\n",
    "print ( sum ([(r-H_x(x))**2 for x,r in zip(X,R)] ))\n",
    "\n",
    "plt.plot(X,R, '.')\n",
    "X_plt = np.arange(-RANGE,RANGE, 0.1)\n",
    "\n",
    "Y_plt = map(H_x,X_plt)\n",
    "plt.plot(X_plt, Y_plt)"
   ]
  },
  {
   "cell_type": "code",
   "execution_count": null,
   "metadata": {},
   "outputs": [],
   "source": [
    "rate = 0.0001\n",
    "#rate = 1\n",
    "X = np.array([ [1, 2, 3], [1,3,4], [1,4,5] , [1,5,6] , [1,6,7], [1,8,9]])\n",
    "c = [1, 2, 3]\n",
    "R = np.array([14, 19, 24, 29, 34, 44])\n",
    "w = np.array([0,0,0])\n",
    "g = np.array([0,0,0])\n",
    "e = 0\n",
    "for x, r in zip(X,R):\n",
    "    print (\"input: \", x)\n",
    "    print (\"required output: \", r)\n",
    "    print (\"Y, Derivative: \", sum(w*x), -2*(r-sum(w*x)))\n",
    "    g = g + (-2*(r-sum(w*x)) * x)\n",
    "    e = e + (r-sum(w*x))**2\n",
    "    print (\"gradient: \", g)\n",
    "\n",
    "print (g/len(X))\n",
    "print (\"Error: \", e/len(X))\n",
    "w1 = w - g*rate\n",
    "print (w1)\n",
    "e=0\n",
    "for x, r in zip(X,R):\n",
    "    e = (r-sum(w1*x))**2\n",
    "print (\"Revised Error: \", e/len(X))\n",
    "iterations = 1"
   ]
  },
  {
   "cell_type": "code",
   "execution_count": null,
   "metadata": {},
   "outputs": [],
   "source": [
    "wF = [ 0.43322452,  2.30207072,  2.73529524]  #50 iterations\n",
    "w = w1\n",
    "g = np.array([0,0,0])\n",
    "e = 0\n",
    "for x, r in zip(X,R):\n",
    "    print (\"input: \", x)\n",
    "    print (\"required output: \", r)\n",
    "    print (\"Y, Derivative: \", sum(w*x), -2*(r-sum(w*x)))\n",
    "    g = g + (-2*(r-sum(w*x)) * x)\n",
    "    e = e + (r-sum(w*x))**2\n",
    "    print (\"gradient: \", g)\n",
    "\n",
    "print (g/len(X))\n",
    "print (\"Error: \", e/len(X))\n",
    "w1 = w - g*rate\n",
    "print (w1)\n",
    "e=0\n",
    "for x, r in zip(X,R):\n",
    "    e = (r-sum(w1*x))**2\n",
    "print (\"Revised Error: \", e/len(X))\n",
    "iterations = iterations + 1\n",
    "print (\"Iterations: \", iterations)"
   ]
  },
  {
   "cell_type": "code",
   "execution_count": null,
   "metadata": {},
   "outputs": [],
   "source": [
    "wF = [ 0.06315024,  0.33956832,  0.40271856]\n",
    "wF = [ 0.43322452,  2.30207072,  2.73529524]  #50 iterations\n",
    "pX = [x for (a,x,y) in X ]\n",
    "pY = R\n",
    "plt.axis([0,10, 0, 50])\n",
    "plt.plot(pX, pY, \"ko\")\n",
    "wFun = lambda ws, p: (wF[0]+wF[1]*p[1]+wF[2]*p[2])\n",
    "pX = [x for (a,x,y) in X]\n",
    "pY = [wFun(wF, p) for p in X ]\n",
    "print (pX, pY)\n",
    "plt.plot(pX, pY, \"k-\")"
   ]
  },
  {
   "cell_type": "code",
   "execution_count": null,
   "metadata": {},
   "outputs": [],
   "source": [
    "import math\n",
    "sigmoid = lambda y: 1.0/(1+math.exp(-y))\n",
    "print (sigmoid(0))\n",
    "print (sigmoid(10))\n",
    "print (sigmoid(-10))\n",
    "\n",
    "slog = lambda x: 0 if x==0 else math.log(x)\n",
    "CrossEntropy = lambda r, y: -1*(r*slog(y) + (1-r)*slog(1-y))\n",
    "\n",
    "pX = [x for x in range(-10,10)]\n",
    "pY = [sigmoid(x) for x in range(-10,10) ]\n",
    "print (pX, pY)\n",
    "plt.plot(pX, pY, \"k-\")"
   ]
  },
  {
   "cell_type": "code",
   "execution_count": null,
   "metadata": {},
   "outputs": [],
   "source": [
    "rate = 0.020\n",
    "#rate = 1\n",
    "X = np.array([ [1, 2, 3], [1,3,4], [1,4,5] , [1,5,6] , [1,6,7], [1,8,9]])\n",
    "R = np.array([0, 0, 0, 1, 1, 1])\n",
    "w = np.array([0,0,0])\n",
    "g = np.array([0,0,0])\n",
    "e = 0\n",
    "for x, r in zip(X,R):\n",
    "    print (\"input: \", x)\n",
    "    print (\"required output: \", r)\n",
    "    print (\"Y, Sigmoid(Y), Derivative: \", sum(w*x), sigmoid(sum(w*x)), -(r-sigmoid(sum(w*x))) )\n",
    "    g = g + (-(r-sigmoid(sum(w*x))) * x)\n",
    "    e = e + CrossEntropy(r,sigmoid(sum(w*x)))\n",
    "    print (\"gradient: \", g)\n",
    "\n",
    "print (g/len(X))\n",
    "print (\"Error: \", e/len(X))\n",
    "w1 = w - g*rate\n",
    "print (w1)\n",
    "e=0\n",
    "for x, r in zip(X,R):\n",
    "    e = e + CrossEntropy(r, sigmoid(sum(w1*x)))\n",
    "print (\"Revised Error: \", e/len(X))\n",
    "iterations = 1"
   ]
  },
  {
   "cell_type": "code",
   "execution_count": null,
   "metadata": {},
   "outputs": [],
   "source": [
    "wF = [ 0. ,        -0.83333333, -0.83333333]\n",
    "wF = [-0.65004852,  0.46679243, -0.18325608]\n",
    "wF = [-1.30847755,  0.88594056, -0.42253699] # 100 iterations\n",
    "xPositive = [[1,5,6] , [1,6,7], [1,8,9]]\n",
    "pX = [x for (a,x,y) in X if [a,x,y] in xPositive]\n",
    "pY = [y for (a,x,y) in X if [a,x,y] in xPositive]\n",
    "plt.axis([0,20, -20, 20])\n",
    "plt.plot(pX, pY, \"ro\")\n",
    "pX = [x for (a,x,y) in X if [a,x,y] not in xPositive]\n",
    "pY = [y for (a,x,y) in X if [a,x,y] not in xPositive]\n",
    "plt.plot(pX, pY, \"bo\")\n",
    "\n",
    "wFun = lambda ws, p: (wF[0]+wF[1]*p[1])/-wF[2]\n",
    "pX = [x for (a,x,y) in X]\n",
    "pY = [wFun(wF, p) for p in X ]\n",
    "print (pX, pY)\n",
    "plt.plot(pX, pY, \"k-\")\n",
    "\n",
    "for x, r in zip(X,R):\n",
    "    print (\"input: \", x)\n",
    "    print (\"required output: \", r)\n",
    "    print (\"wx, Y: \", sum(wF*x), sigmoid(sum(wF*x)) )\n"
   ]
  },
  {
   "cell_type": "code",
   "execution_count": null,
   "metadata": {},
   "outputs": [],
   "source": [
    "rate = 0.02\n",
    "print (w1)\n",
    "w=w1\n",
    "g = np.array([0,0,0])\n",
    "e = 0\n",
    "for x, r in zip(X,R):\n",
    "    print (\"input: \", x)\n",
    "    print (\"required output: \", r)\n",
    "    print (\"Y, Derivative: \", sigmoid(sum(w*x)), -(r-sigmoid(sum(w*x))) )\n",
    "    g = g + (-(r-sigmoid(sum(w*x))) * x)\n",
    "    e = e + CrossEntropy(r,sigmoid(sum(w*x)))\n",
    "    print (\"gradient: \", g)\n",
    "\n",
    "print (g/len(X))\n",
    "print (\"Error: \", e/len(X))\n",
    "w1 = w - g*rate\n",
    "print (w1)\n",
    "e=0\n",
    "for x, r in zip(X,R):\n",
    "    e = e + CrossEntropy(r,sigmoid(sum(w1*x)))\n",
    "print (\"Revised Error: \", e/len(X))\n",
    "iterations = iterations + 1\n",
    "print (\"Iterations:  \", iterations)"
   ]
  },
  {
   "cell_type": "code",
   "execution_count": null,
   "metadata": {},
   "outputs": [],
   "source": [
    "xPositive = [[1,5,6] , [1,6,7], [1,8,9]]\n",
    "pX = [x for (a,x,y) in X if [a,x,y] in xPositive]\n",
    "pY = [y for (a,x,y) in X if [a,x,y] in xPositive]\n",
    "plt.axis([0,10, 0, 10])\n",
    "plt.plot(pX, pY, \"ro\")\n",
    "pX = [x for (a,x,y) in X if [a,x,y] not in xPositive]\n",
    "pY = [y for (a,x,y) in X if [a,x,y] not in xPositive]\n",
    "plt.plot(pX, pY, \"bo\")\n",
    "\n",
    "wF = [-0.90969232,  0.63174364, -0.27794868]\n",
    "wFun = lambda ws, p: (wF[0]+wF[1]*p[1])/-wF[2]\n",
    "pX = [x for (a,x,y) in X]\n",
    "pY = [wFun(wF, p) for p in X ]\n",
    "print (pX, pY)\n",
    "plt.plot(pX, pY, \"k-\")\n",
    "\n",
    "w= wF\n",
    "for x, r in zip(X,R):\n",
    "    print (\"input: \", x)\n",
    "    print (\"required output: \", r)\n",
    "    print (\"wx, Y: \", sum(w*x), sigmoid(sum(w*x)) )\n"
   ]
  },
  {
   "cell_type": "code",
   "execution_count": null,
   "metadata": {},
   "outputs": [],
   "source": [
    "#340 iterations\n",
    "xPositive = [[1,5,6] , [1,6,7], [1,8,9]]\n",
    "pX = [x for (a,x,y) in X if [a,x,y] in xPositive]\n",
    "pY = [y for (a,x,y) in X if [a,x,y] in xPositive]\n",
    "plt.axis([0,10, 0, 10])\n",
    "plt.plot(pX, pY, \"ro\")\n",
    "pX = [x for (a,x,y) in X if [a,x,y] not in xPositive]\n",
    "pY = [y for (a,x,y) in X if [a,x,y] not in xPositive]\n",
    "plt.plot(pX, pY, \"bo\")\n",
    "\n",
    "wF = [-1.94183024,  1.29157013, -0.65026011]\n",
    "wFun = lambda ws, p: (wF[0]+wF[1]*p[1])/-wF[2]\n",
    "pX = [x for (a,x,y) in X]\n",
    "pY = [wFun(wF, p) for p in X ]\n",
    "print (pX, pY)\n",
    "plt.plot(pX, pY, \"k-\")\n",
    "\n",
    "w= wF\n",
    "for x, r in zip(X,R):\n",
    "    print (\"input: \", x)\n",
    "    print (\"required output: \", r)\n",
    "    print (\"wx, Y: \", sum(w*x), sigmoid(sum(w*x)) )\n"
   ]
  },
  {
   "cell_type": "code",
   "execution_count": null,
   "metadata": {},
   "outputs": [],
   "source": [
    "wF = [-11.2784868 ,  7.3432829 , -3.9352039] #6477\n",
    "wF = [-11.0 ,  7.0 , -4.0] #6477\n",
    "\n",
    "xPositive = [[1,5,6] , [1,6,7], [1,8,9]]\n",
    "pX = [x for (a,x,y) in X if [a,x,y] in xPositive]\n",
    "pY = [y for (a,x,y) in X if [a,x,y] in xPositive]\n",
    "plt.axis([0,10, 0, 10])\n",
    "plt.plot(pX, pY, \"ro\")\n",
    "pX = [x for (a,x,y) in X if [a,x,y] not in xPositive]\n",
    "pY = [y for (a,x,y) in X if [a,x,y] not in xPositive]\n",
    "plt.plot(pX, pY, \"bo\")\n",
    "\n",
    "wFun = lambda ws, p: (wF[0]+wF[1]*p[1])/-wF[2]\n",
    "pX = [x for (a,x,y) in X]\n",
    "pY = [wFun(wF, p) for p in X ]\n",
    "print (pX, pY)\n",
    "plt.plot(pX, pY, \"k-\")\n",
    "\n",
    "wF = [-23.14034607 , 15.05128403 , -8.08906203] #55677\n",
    "wF = [-23.0, 15.0, -8.0]\n",
    "wFun = lambda ws, p: (wF[0]+wF[1]*p[1])/-wF[2]\n",
    "pX = [x for (a,x,y) in X]\n",
    "pY = [wFun(wF, p) for p in X ]\n",
    "print (pX, pY)\n",
    "plt.plot(pX, pY, \"m-\")\n",
    "\n",
    "w= wF\n",
    "for x, r in zip(X,R):\n",
    "    print (\"input: \", x)\n",
    "    print (\"required output: \", r)\n",
    "    print (\"wx, Y: \", sum(w*x), sigmoid(sum(w*x)) )\n"
   ]
  },
  {
   "cell_type": "code",
   "execution_count": null,
   "metadata": {},
   "outputs": [],
   "source": [
    "rate = 0.02\n",
    "print (w1)\n",
    "for i in range(1000):\n",
    "    w=w1\n",
    "    g = np.array([0,0,0])\n",
    "    e = 0\n",
    "    for x, r in zip(X,R):\n",
    "        g = g + (-(r-sigmoid(sum(w*x))) * x)\n",
    "        e = e + CrossEntropy(r,sigmoid(sum(w*x)))\n",
    "    w1 = w - g*rate\n",
    "    iterations = iterations + 1\n",
    "for x, r in zip(X,R):\n",
    "    e = e + CrossEntropy(r,sigmoid(sum(w1*x)))\n",
    "print (\"Revised Error: \", e/len(X))\n",
    "print (\"Iterations: \", iterations)\n",
    "\n"
   ]
  }
 ],
 "metadata": {
  "kernelspec": {
   "display_name": "Python 3",
   "language": "python",
   "name": "python3"
  },
  "language_info": {
   "codemirror_mode": {
    "name": "ipython",
    "version": 3
   },
   "file_extension": ".py",
   "mimetype": "text/x-python",
   "name": "python",
   "nbconvert_exporter": "python",
   "pygments_lexer": "ipython3",
   "version": "3.6.8"
  }
 },
 "nbformat": 4,
 "nbformat_minor": 1
}
