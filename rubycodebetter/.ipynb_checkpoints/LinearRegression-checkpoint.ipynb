{
 "cells": [
  {
   "cell_type": "code",
   "execution_count": 46,
   "metadata": {},
   "outputs": [],
   "source": [
    "# To support both python 2 and python 3\n",
    "from __future__ import division, print_function, unicode_literals\n",
    "\n",
    "# Common imports\n",
    "import numpy as np\n",
    "import os\n",
    "\n",
    "# to make this notebook's output stable across runs\n",
    "np.random.seed(42)\n",
    "\n",
    "# To plot pretty figures\n",
    "%matplotlib inline\n",
    "import matplotlib\n",
    "import matplotlib.pyplot as plt\n",
    "\n",
    "\n",
    "import pandas as pd\n",
    "import random\n",
    "\n",
    "from IPython.display import HTML, display\n",
    "#import tabulate\n",
    "\n",
    "def PrintXL(*arg):\n",
    "    html=\"<span style='font-size: 22px;font-weight:700'>\"\n",
    "    for a in arg:\n",
    "        html += str(a)\n",
    "    html +=\"</span>\"\n",
    "    display(HTML(html))\n",
    "    \n",
    "def PrintL(*arg):\n",
    "    html=\"<span style='font-size: 18px;font-weight:700'>\"\n",
    "    for a in arg:\n",
    "        html += str(a)\n",
    "    html +=\"</span>\"\n",
    "    display(HTML(html))\n",
    "    \n",
    "def PrintM(*arg):\n",
    "    html=\"<div width='100%'' style='font-size: 15px;font-weight:500; line-height:14px'>\"\n",
    "    for a in arg:\n",
    "        html += str(a)\n",
    "    html +=\"</div>\"\n",
    "    display(HTML(html))\n",
    "    \n",
    "import math\n",
    "sigmoid = lambda y: 1.0/(1+math.exp(-y))"
   ]
  },
  {
   "cell_type": "markdown",
   "metadata": {},
   "source": [
    "### What's going on?\n",
    "Create range of #'s from -100->100 for X<br>\n",
    "Create range of #'s from -200->200 for R (why not Y?)<br>\n",
    "<br>\n",
    "#### Variables\n",
    "X: X-axis points<br>\n",
    "R: Y-axis points<br>\n",
    "EPS: Epochs. One epoch is one forward pass AND one backward pass of all the training examples<br>\n",
    "<br>\n",
    "#### Numpy\n",
    "X=X.reshape(-1,1)   \n",
    "    This will reshape the matrix to a new format<br>\n",
    "    -1 simply means that it is an *unknown dimension* and we want numpy to figure it out. And numpy will figure this by looking at the 'length of the array and remaining dimensions' and making sure it satisfies the criteria.<br>\n",
    "    Example:\n",
    "    <img src=\"./files/reshape.png\">\n",
    "    \n",
    "        "
   ]
  },
  {
   "cell_type": "code",
   "execution_count": 53,
   "metadata": {},
   "outputs": [
    {
     "data": {
      "image/png": "[encoded data removed]",
      "text/plain": [
       "<Figure size 432x288 with 1 Axes>"
      ]
     },
     "metadata": {
      "needs_background": "light"
     },
     "output_type": "display_data"
    }
   ],
   "source": [
    "RANGE = 100\n",
    "COUNT = 20\n",
    "EPS = 50\n",
    "alpha = 0.0001 # learning rate\n",
    "\n",
    "# create function that takes x and outputs 2x+10\n",
    "F_x = lambda x: 2*x + 10\n",
    "# create an array with values -RANGE->RANGE with COUNT examples\n",
    "X = np.array([random.randint(-RANGE,RANGE) for i in range(COUNT)])\n",
    "#print(np.sort(X));\n",
    "R = np.array([F_x(x)+random.random()*EPS-EPS/2 for x in X])\n",
    "#print(np.sort(R));\n",
    "\n",
    "X=X.reshape(-1,1)\n",
    "R=R.reshape(-1,1)\n",
    "\n",
    "plt.plot(X,R, '.')\n",
    "plt.show()"
   ]
  },
  {
   "cell_type": "markdown",
   "metadata": {},
   "source": [
    "## Hypothesis Function For One Feature\n",
    "<img src=\"./files/hypothesis.png\">\n",
    "<br><br>\n",
    "\n",
    "## Hypothesis Function for Many Features\n",
    "<img src=\"./files/bighyp.png\">\n",
    "<br><br>\n",
    "\n",
    "## Features (x) and Weights (theta)\n",
    "<img src=\"./files/weightsfeatures.png\">\n",
    "<br><br>\n",
    "\n",
    "θ's are actually the weights assigned to a particular feature. Not all parameters affect the hypothesis function equally.  \n",
    "\n"
   ]
  },
  {
   "cell_type": "code",
   "execution_count": 80,
   "metadata": {},
   "outputs": [],
   "source": [
    "# theta are the weights\n",
    "# xs is an array for one feature x\n",
    "def hypothesisSimple(theta,xs):\n",
    "    H_x = lambda x: theta[0] + theta[1]*x\n",
    "    m = list(map(H_x,xs))\n",
    "    return m"
   ]
  },
  {
   "cell_type": "markdown",
   "metadata": {},
   "source": [
    "# Cost Function\n",
    "\n",
    "\n"
   ]
  },
  {
   "cell_type": "code",
   "execution_count": 63,
   "metadata": {},
   "outputs": [
    {
     "data": {
      "text/html": [
       "<div width='100%'' style='font-size: 15px;font-weight:500; line-height:14px'><img src=\"./files/costfunction.png\"></div>"
      ],
      "text/plain": [
       "<IPython.core.display.HTML object>"
      ]
     },
     "metadata": {},
     "output_type": "display_data"
    },
    {
     "data": {
      "text/html": [
       "<div width='100%'' style='font-size: 15px;font-weight:500; line-height:14px'><b>m</b> = number of training samples<br></div>"
      ],
      "text/plain": [
       "<IPython.core.display.HTML object>"
      ]
     },
     "metadata": {},
     "output_type": "display_data"
    },
    {
     "data": {
      "text/html": [
       "<div width='100%'' style='font-size: 15px;font-weight:500; line-height:14px'><b>y</b> = known correct answers<br></div>"
      ],
      "text/plain": [
       "<IPython.core.display.HTML object>"
      ]
     },
     "metadata": {},
     "output_type": "display_data"
    },
    {
     "data": {
      "text/html": [
       "<div width='100%'' style='font-size: 15px;font-weight:500; line-height:14px'><b>x</b> = features<br></div>"
      ],
      "text/plain": [
       "<IPython.core.display.HTML object>"
      ]
     },
     "metadata": {},
     "output_type": "display_data"
    },
    {
     "data": {
      "text/html": [
       "<div width='100%'' style='font-size: 15px;font-weight:500; line-height:14px'><b>θ</b> = theta - set of weights</div>"
      ],
      "text/plain": [
       "<IPython.core.display.HTML object>"
      ]
     },
     "metadata": {},
     "output_type": "display_data"
    },
    {
     "data": {
      "text/html": [
       "<div width='100%'' style='font-size: 15px;font-weight:500; line-height:14px'><b>h</b> = hypothesis - predictions that try to get close to the correct answer<br></div>"
      ],
      "text/plain": [
       "<IPython.core.display.HTML object>"
      ]
     },
     "metadata": {},
     "output_type": "display_data"
    },
    {
     "data": {
      "text/html": [
       "<div width='100%'' style='font-size: 15px;font-weight:500; line-height:14px'><b>!! (i) is NOT an exponent.</b>  It is like an array index.  More like y[i].</div>"
      ],
      "text/plain": [
       "<IPython.core.display.HTML object>"
      ]
     },
     "metadata": {},
     "output_type": "display_data"
    },
    {
     "data": {
      "text/html": [
       "<div width='100%'' style='font-size: 15px;font-weight:500; line-height:14px'><b>Hypothesisθ - Answers </b>= [0, 0, 0, 0] - [460 232 315 178] = [-460 -232 -315 -178]</div>"
      ],
      "text/plain": [
       "<IPython.core.display.HTML object>"
      ]
     },
     "metadata": {},
     "output_type": "display_data"
    },
    {
     "data": {
      "text/html": [
       "<div width='100%'' style='font-size: 15px;font-weight:500; line-height:14px'><b>Squared</b>: [211600  53824  99225  31684]</div>"
      ],
      "text/plain": [
       "<IPython.core.display.HTML object>"
      ]
     },
     "metadata": {},
     "output_type": "display_data"
    },
    {
     "data": {
      "text/html": [
       "<div width='100%'' style='font-size: 15px;font-weight:500; line-height:14px'><b>Sum of squares</b>: 396333</div>"
      ],
      "text/plain": [
       "<IPython.core.display.HTML object>"
      ]
     },
     "metadata": {},
     "output_type": "display_data"
    },
    {
     "data": {
      "text/html": [
       "<div width='100%'' style='font-size: 15px;font-weight:500; line-height:14px'><b>1/numSamples * Sum</b> =  99083.25</div>"
      ],
      "text/plain": [
       "<IPython.core.display.HTML object>"
      ]
     },
     "metadata": {},
     "output_type": "display_data"
    }
   ],
   "source": [
    "\n",
    "def costFunction2(theta,xs,ys):\n",
    "    PrintM('<img src=\"./files/costfunction.png\">')\n",
    "    PrintM('<b>m</b> = number of training samples<br>')\n",
    "    PrintM('<b>y</b> = known correct answers<br>')\n",
    "    PrintM('<b>x</b> = features<br>')\n",
    "    PrintM('<b>θ</b> = theta - set of weights')\n",
    "    PrintM('<b>h</b> = hypothesis - predictions that try to get close to the correct answer<br>')\n",
    "    PrintM('<b>!! (i) is NOT an exponent.</b>  It is like an array index.  More like y[i].')\n",
    "    hypothesi = hypothesisSimple(theta,xs)\n",
    "    subtracted = np.subtract(hypothesi,ys)\n",
    "    PrintM(\"<b>Hypothesisθ - Answers </b>= \",hypothesi, ' - ', ys, ' = ', subtracted);\n",
    "    squared = np.multiply(subtracted,subtracted)\n",
    "    PrintM(\"<b>Squared</b>: \", squared)\n",
    "    summed = np.sum(squared)\n",
    "    PrintM(\"<b>Sum of squares</b>: \", summed)\n",
    "    answer = 1/xs.shape[0] * summed\n",
    "    PrintM(\"<b>1/numSamples * Sum</b> =  \",answer )\n",
    "    \n",
    "theta=[0,0.5]\n",
    "xs=np.array([2104,1416,1534,852])\n",
    "ys=np.array([460,232,315,178])\n",
    "#plt.plot(xs,ys, 'x')\n",
    "#plt.show()\n",
    "\n",
    "costs=costFunction(theta,xs,ys)"
   ]
  },
  {
   "cell_type": "code",
   "execution_count": 168,
   "metadata": {},
   "outputs": [],
   "source": [
    "def costFunction(b,m, X, Y):\n",
    "    sumOfSE=0\n",
    "    n = float(len(X))\n",
    "    for x,y in zip(xs,ys):\n",
    "        hypothesis = m*x+b\n",
    "        error = y - hypothesis\n",
    "        squaredError = error**2\n",
    "        sumOfSE += squaredError\n",
    "    cost = 1/n * sumOfSE\n",
    "    return cost;"
   ]
  },
  {
   "cell_type": "markdown",
   "metadata": {},
   "source": [
    "### Update Weights\n",
    "### α = learning rate\n",
    "\n",
    "<img src=\"./files/gradientdescent.png\">\n",
    "<br><br>\n",
    "\n",
    "You have to take the partial derivate of the cost function, base on the theta you are currently updating.<br>\n",
    "You have to update all thetas at the same time.  The update of one theta cannot interfere with the update of another.<br>\n"
   ]
  },
  {
   "cell_type": "code",
   "execution_count": 171,
   "metadata": {},
   "outputs": [
    {
     "data": {
      "text/html": [
       "<span style='font-size: 18px;font-weight:700'>Results for Weights:</span>"
      ],
      "text/plain": [
       "<IPython.core.display.HTML object>"
      ]
     },
     "metadata": {},
     "output_type": "display_data"
    },
    {
     "data": {
      "text/html": [
       "<div width='100%'' style='font-size: 15px;font-weight:500; line-height:14px'>θ(0)=2.9974312655778137   θ(1)=2.0007114982451566</div>"
      ],
      "text/plain": [
       "<IPython.core.display.HTML object>"
      ]
     },
     "metadata": {},
     "output_type": "display_data"
    },
    {
     "data": {
      "text/html": [
       "<span style='font-size: 18px;font-weight:700'>Final Cost at Last Iteration:</span>"
      ],
      "text/plain": [
       "<IPython.core.display.HTML object>"
      ]
     },
     "metadata": {},
     "output_type": "display_data"
    },
    {
     "data": {
      "text/html": [
       "<div width='100%'' style='font-size: 15px;font-weight:500; line-height:14px'>Cost = 1.2174323159230584e-06<-- should be small #</div>"
      ],
      "text/plain": [
       "<IPython.core.display.HTML object>"
      ]
     },
     "metadata": {},
     "output_type": "display_data"
    },
    {
     "data": {
      "image/png": "[encoded data removed]",
      "text/plain": [
       "<Figure size 432x288 with 1 Axes>"
      ]
     },
     "metadata": {
      "needs_background": "light"
     },
     "output_type": "display_data"
    }
   ],
   "source": [
    "# don't worry about any of this\n",
    "# https://scriptverse.academy/tutorials/python-matplotlib-plot-straight-line.html\n",
    "def elPlotto(m,b,xs,ys,show):\n",
    "    x = np.linspace(0,5,65)\n",
    "    y=m*x+b\n",
    "    plt.plot(xs,ys, '.')\n",
    "    plt.plot(x,y,'-r')\n",
    "    if show is True:\n",
    "        plt.show()\n",
    "\n",
    "## this code is written to be human readable and look like the formulas.\n",
    "# other versions of this would try to be effecient for Python, not a human\n",
    "def updateWeights(b,m, X, Y, learning_rate):\n",
    "    bDerivativeSum=0\n",
    "    mDerivativeSum=0\n",
    "    n = float(len(X))\n",
    "    for x,y in zip(xs,ys):\n",
    "        hypothesis = m*x+b\n",
    "        error = y - hypothesis\n",
    "        # Calculate partial derivatives\n",
    "        # -2(y - (mx + b))\n",
    "        bDerivativeSum +=  - (error)      \n",
    "        # -2(y - (mx + b)) * x\n",
    "        mDerivativeSum +=  - (error * x)\n",
    "        cost=costFunction(b,m,X,Y)\n",
    "\n",
    "    # We subtract because the derivatives point in direction of steepest ascent\n",
    "    # equation to adjust the weights is \n",
    "    #   b = b - learningRate*sum\n",
    "    #   m = m - learningRate*sum * x\n",
    "    # They must be updated simultaneously, which is why we use derivative variables\n",
    "    b -= 2/n * bDerivativeSum * learning_rate\n",
    "    m -= 2/n * mDerivativeSum * learning_rate\n",
    "   \n",
    "\n",
    "    return [b,m,cost]\n",
    "\n",
    "# some of the below is just restated for ease of reading\n",
    "# alpha is the learning rate\n",
    "b=0  \n",
    "m=0\n",
    "alpha=0.02\n",
    "cost=0\n",
    "xs = np.array([1, 2, 3, 4, 5])\n",
    "ys = np.array([5, 7, 9, 11, 13])\n",
    "iterations=1000\n",
    "\n",
    "elPlotto(m,b,xs,ys,False)\n",
    "\n",
    "for i in range(iterations):\n",
    "    [b,m,cost] = updateWeights(b,m,xs,ys,alpha)\n",
    "    elPlotto(m,b,xs,ys,False)\n",
    "\n",
    "\n",
    "PrintL(\"Results for Weights:\")\n",
    "PrintM('θ(0)=',b, '   θ(1)=',m)\n",
    "PrintL(\"Final Cost at Last Iteration:\")\n",
    "PrintM(\"Cost = \", cost, \"   <-- should be small #\")"
   ]
  },
  {
   "cell_type": "code",
   "execution_count": null,
   "metadata": {},
   "outputs": [],
   "source": []
  }
 ],
 "metadata": {
  "kernelspec": {
   "display_name": "Python 3",
   "language": "python",
   "name": "python3"
  },
  "language_info": {
   "codemirror_mode": {
    "name": "ipython",
    "version": 3
   },
   "file_extension": ".py",
   "mimetype": "text/x-python",
   "name": "python",
   "nbconvert_exporter": "python",
   "pygments_lexer": "ipython3",
   "version": "3.6.8"
  }
 },
 "nbformat": 4,
 "nbformat_minor": 2
}
