{
 "cells": [
  {
   "cell_type": "code",
   "execution_count": 1,
   "metadata": {},
   "outputs": [],
   "source": [
    "# To support both python 2 and python 3\n",
    "from __future__ import division, print_function, unicode_literals\n",
    "\n",
    "# Common imports\n",
    "import numpy as np\n",
    "import os\n",
    "\n",
    "# to make this notebook's output stable across runs\n",
    "np.random.seed(42)\n",
    "\n",
    "# To plot pretty figures\n",
    "%matplotlib inline\n",
    "import matplotlib\n",
    "import matplotlib.pyplot as plt\n",
    "\n",
    "\n",
    "import pandas as pd\n",
    "import random"
   ]
  },
  {
   "cell_type": "markdown",
   "metadata": {},
   "source": [
    "### What's going on?\n",
    "Create range of #'s from -100->100 for X<br>\n",
    "Create range of #'s from -200->200 for R (why not Y?)<br>\n",
    "<br>\n",
    "#### Variables\n",
    "X: X-axis points<br>\n",
    "R: Y-axis points<br>\n",
    "EPS: Epochs. One epoch is one forward pass AND one backward pass of all the training examples<br>\n",
    "<br>\n",
    "#### Numpy\n",
    "X=X.reshape(-1,1)   \n",
    "    This will reshape the matrix to a new format<br>\n",
    "    -1 simply means that it is an *unknown dimension* and we want numpy to figure it out. And numpy will figure this by looking at the 'length of the array and remaining dimensions' and making sure it satisfies the criteria.<br>\n",
    "    Example:\n",
    "    <img src=\"./files/reshape.png\">\n",
    "    \n",
    "                "
   ]
  },
  {
   "cell_type": "code",
   "execution_count": 12,
   "metadata": {},
   "outputs": [
    {
     "name": "stdout",
     "output_type": "stream",
     "text": [
      "[-89 -82 -75 -75 -51 -44 -40  -3  10  29  40  43  51  66  68  74  81  82\n",
      "  92  95]\n",
      "[-176.34904014 -148.80454702 -143.02767411 -141.88777822 -113.92142235\n",
      "  -94.82497432  -53.02305267   -1.30315768    7.63253067   86.53174596\n",
      "  100.70945897  117.41693212  136.24373613  140.13591943  151.70525831\n",
      "  155.64093477  159.77119232  175.77237454  188.24951559  223.91961182]\n",
      "[[ -94.82497432]\n",
      " [ 223.91961182]\n",
      " [-176.34904014]\n",
      " [ 117.41693212]\n",
      " [ -53.02305267]\n",
      " [-148.80454702]\n",
      " [ 155.64093477]\n",
      " [  -1.30315768]\n",
      " [   7.63253067]\n",
      " [-141.88777822]\n",
      " [ 188.24951559]\n",
      " [ 151.70525831]\n",
      " [ 100.70945897]\n",
      " [ 136.24373613]\n",
      " [ 175.77237454]\n",
      " [-113.92142235]\n",
      " [ 140.13591943]\n",
      " [-143.02767411]\n",
      " [ 159.77119232]\n",
      " [  86.53174596]]\n"
     ]
    },
    {
     "data": {
      "image/png": "[encoded data removed]",
      "text/plain": [
       "<Figure size 432x288 with 1 Axes>"
      ]
     },
     "metadata": {
      "needs_background": "light"
     },
     "output_type": "display_data"
    }
   ],
   "source": [
    "RANGE = 100\n",
    "COUNT = 20\n",
    "EPS = 50\n",
    "\n",
    "# create function that takes x and outputs 2x+10\n",
    "F_x = lambda x: 2*x + 10\n",
    "# create an array with values -RANGE->RANGE with COUNT examples\n",
    "X = np.array([random.randint(-RANGE,RANGE) for i in range(COUNT)])\n",
    "#print(np.sort(X));\n",
    "R = np.array([F_x(x)+random.random()*EPS-EPS/2 for x in X])\n",
    "#print(np.sort(R));\n",
    "\n",
    "X=X.reshape(-1,1)\n",
    "R=R.reshape(-1,1)\n",
    "\n",
    "plt.plot(X,R, '.')\n",
    "plt.show()"
   ]
  },
  {
   "cell_type": "code",
   "execution_count": 49,
   "metadata": {},
   "outputs": [
    {
     "name": "stdout",
     "output_type": "stream",
     "text": [
      "[ 274019.15947635]\n"
     ]
    },
    {
     "data": {
      "text/plain": [
       "[<matplotlib.lines.Line2D at 0x79fd570>]"
      ]
     },
     "execution_count": 49,
     "metadata": {},
     "output_type": "execute_result"
    },
    {
     "data": {
      "image/png": "[encoded data removed]",
      "text/plain": [
       "<matplotlib.figure.Figure at 0x7614d10>"
      ]
     },
     "metadata": {},
     "output_type": "display_data"
    }
   ],
   "source": [
    "theta = (0,0)\n",
    "H_x = lambda x: theta[0] + theta[1]*x\n",
    "\n",
    "Y = map(H_x, X)\n",
    "print ( sum ([(r-H_x(x))**2 for x,r in zip(X,R)] ))\n",
    "\n",
    "plt.plot(X,R, '.')\n",
    "X_plt = np.arange(-RANGE,RANGE, 0.1)\n",
    "\n",
    "Y_plt = map(H_x,X_plt)\n",
    "plt.plot(X_plt, Y_plt)"
   ]
  },
  {
   "cell_type": "code",
   "execution_count": 67,
   "metadata": {},
   "outputs": [
    {
     "name": "stdout",
     "output_type": "stream",
     "text": [
      "10.7407657902 2.01242334522\n",
      "[ 2737.56947243]\n"
     ]
    },
    {
     "data": {
      "text/plain": [
       "[<matplotlib.lines.Line2D at 0x7ef7a70>]"
      ]
     },
     "execution_count": 67,
     "metadata": {},
     "output_type": "execute_result"
    },
    {
     "data": {
      "image/png": "[encoded data removed]",
      "text/plain": [
       "<matplotlib.figure.Figure at 0x7ef7d90>"
      ]
     },
     "metadata": {},
     "output_type": "display_data"
    }
   ],
   "source": [
    "cv = np.cov(X, R, bias=True, rowvar=False)\n",
    "w1 = cv[1][0]/cv[0][0]\n",
    "\n",
    "Xbar, Ybar = np.mean(X), np.mean(R)\n",
    "\n",
    "w0 = Ybar - w1*Xbar\n",
    "print (w0, w1)\n",
    "\n",
    "theta = (10.7,2)\n",
    "H_x = lambda x: theta[0] + theta[1]*x\n",
    "\n",
    "Y = map(H_x, X)\n",
    "print ( sum ([(r-H_x(x))**2 for x,r in zip(X,R)] ))\n",
    "\n",
    "plt.plot(X,R, '.')\n",
    "X_plt = np.arange(-RANGE,RANGE, 0.1)\n",
    "\n",
    "Y_plt = map(H_x,X_plt)\n",
    "plt.plot(X_plt, Y_plt)"
   ]
  },
  {
   "cell_type": "code",
   "execution_count": 80,
   "metadata": {},
   "outputs": [
    {
     "name": "stdout",
     "output_type": "stream",
     "text": [
      "[[-41.   1.]\n",
      " [ 33.   1.]\n",
      " [-99.   1.]\n",
      " [-74.   1.]\n",
      " [ 70.   1.]\n",
      " [ 31.   1.]\n",
      " [ 85.   1.]\n",
      " [ 68.   1.]\n",
      " [-17.   1.]\n",
      " [ 18.   1.]\n",
      " [-87.   1.]\n",
      " [ 65.   1.]\n",
      " [-23.   1.]\n",
      " [ 58.   1.]\n",
      " [ 63.   1.]\n",
      " [-16.   1.]\n",
      " [-31.   1.]\n",
      " [ 36.   1.]\n",
      " [ 57.   1.]\n",
      " [-56.   1.]]\n",
      "[[  2.01242335]\n",
      " [ 10.74076579]]\n",
      "[ 2727.37409202]\n"
     ]
    },
    {
     "data": {
      "text/plain": [
       "[<matplotlib.lines.Line2D at 0x80a67f0>]"
      ]
     },
     "execution_count": 80,
     "metadata": {},
     "output_type": "execute_result"
    },
    {
     "data": {
      "image/png": "[encoded data removed]",
      "text/plain": [
       "<matplotlib.figure.Figure at 0x80a6730>"
      ]
     },
     "metadata": {},
     "output_type": "display_data"
    }
   ],
   "source": [
    "from numpy.linalg import inv \n",
    "from numpy import dot, transpose\n",
    "\n",
    "X_1 = np.append(X,np.ones([len(X),1]),1)\n",
    "print (X_1)\n",
    "W = (dot(inv(dot(transpose(X_1), X_1)), dot(transpose(X_1), R)))\n",
    "\n",
    "print (W)\n",
    "theta = (W[1],W[0])\n",
    "H_x = lambda x: theta[0] + theta[1]*x\n",
    "\n",
    "Y = map(H_x, X)\n",
    "print ( sum ([(r-H_x(x))**2 for x,r in zip(X,R)] ))\n",
    "\n",
    "plt.plot(X,R, '.')\n",
    "X_plt = np.arange(-RANGE,RANGE, 0.1)\n",
    "\n",
    "Y_plt = map(H_x,X_plt)\n",
    "plt.plot(X_plt, Y_plt)"
   ]
  },
  {
   "cell_type": "code",
   "execution_count": 78,
   "metadata": {},
   "outputs": [
    {
     "name": "stdout",
     "output_type": "stream",
     "text": [
      "[[  2.01242335]\n",
      " [ 10.74076579]]\n"
     ]
    }
   ],
   "source": [
    "from numpy.linalg import lstsq\n",
    "print(lstsq(X_1, R)[0])"
   ]
  },
  {
   "cell_type": "code",
   "execution_count": 357,
   "metadata": {},
   "outputs": [
    {
     "name": "stdout",
     "output_type": "stream",
     "text": [
      "(0, 0)\n",
      "[ 274019.15947635]\n"
     ]
    },
    {
     "data": {
      "text/plain": [
       "[<matplotlib.lines.Line2D at 0x18b7f470>]"
      ]
     },
     "execution_count": 357,
     "metadata": {},
     "output_type": "execute_result"
    },
    {
     "data": {
      "image/png": "[encoded data removed]",
      "text/plain": [
       "<matplotlib.figure.Figure at 0x185131b0>"
      ]
     },
     "metadata": {},
     "output_type": "display_data"
    }
   ],
   "source": [
    "theta = (0,0)\n",
    "#theta=(10,2)\n",
    "print (theta)\n",
    "Y = map(H_x, X)\n",
    "print ( sum ([(r-H_x(x))**2 for x,r in zip(X,R)] ))\n",
    "\n",
    "plt.plot(X,R, '.')\n",
    "X_plt = np.arange(-RANGE,RANGE, 0.1)\n",
    "\n",
    "Y_plt = map(H_x,X_plt)\n",
    "plt.plot(X_plt, Y_plt)"
   ]
  },
  {
   "cell_type": "code",
   "execution_count": 362,
   "metadata": {},
   "outputs": [
    {
     "name": "stdout",
     "output_type": "stream",
     "text": [
      "(array([ 0.01278125]), array([ 2.00475213]))\n",
      "Gradient:  [-21.56336616] [-199.99640889]\n",
      "Theta:  (array([ 0.01493758]), array([ 2.02475177]))\n",
      "[ 5001.08459533]\n"
     ]
    },
    {
     "data": {
      "text/plain": [
       "[<matplotlib.lines.Line2D at 0x197fccb0>]"
      ]
     },
     "execution_count": 362,
     "metadata": {},
     "output_type": "execute_result"
    },
    {
     "data": {
      "image/png": "[encoded data removed]",
      "text/plain": [
       "<matplotlib.figure.Figure at 0x197fccd0>"
      ]
     },
     "metadata": {},
     "output_type": "display_data"
    }
   ],
   "source": [
    "alpha = 0.0001\n",
    "print (theta)\n",
    "\n",
    "w0Grad = -2*sum(R-H_x(X))/len(X)\n",
    "w1Grad = -2*sum( (R-H_x(X))*X )/len(X)\n",
    "\n",
    "print (\"Gradient: \", w0Grad, w1Grad)\n",
    "theta = theta[0]-alpha*w0Grad, theta[1]-alpha*w1Grad\n",
    "print (\"Theta: \", theta)\n",
    "\n",
    "Y = H_x(X)\n",
    "print ( sum ([(r-H_x(x))**2 for x,r in zip(X,R)] ))\n",
    "\n",
    "plt.plot(X,R, '.')\n",
    "X_plt = np.arange(-RANGE,RANGE, 0.1)\n",
    "\n",
    "Y_plt = map(H_x,X_plt)\n",
    "plt.plot(X_plt, Y_plt)"
   ]
  },
  {
   "cell_type": "code",
   "execution_count": 2,
   "metadata": {},
   "outputs": [
    {
     "name": "stdout",
     "output_type": "stream",
     "text": [
      "input:  [1 2 3]\n",
      "required output:  14\n",
      "Y, Derivative:  0 -28\n",
      "gradient:  [-28 -56 -84]\n",
      "input:  [1 3 4]\n",
      "required output:  19\n",
      "Y, Derivative:  0 -38\n",
      "gradient:  [ -66 -170 -236]\n",
      "input:  [1 4 5]\n",
      "required output:  24\n",
      "Y, Derivative:  0 -48\n",
      "gradient:  [-114 -362 -476]\n",
      "input:  [1 5 6]\n",
      "required output:  29\n",
      "Y, Derivative:  0 -58\n",
      "gradient:  [-172 -652 -824]\n",
      "input:  [1 6 7]\n",
      "required output:  34\n",
      "Y, Derivative:  0 -68\n",
      "gradient:  [ -240 -1060 -1300]\n",
      "input:  [1 8 9]\n",
      "required output:  44\n",
      "Y, Derivative:  0 -88\n",
      "gradient:  [ -328 -1764 -2092]\n",
      "[ -54.66666667 -294.         -348.66666667]\n",
      "Error:  844.333333333\n",
      "[ 0.0328  0.1764  0.2092]\n",
      "Revised Error:  275.718199707\n"
     ]
    }
   ],
   "source": [
    "rate = 0.0001\n",
    "#rate = 1\n",
    "X = np.array([ [1, 2, 3], [1,3,4], [1,4,5] , [1,5,6] , [1,6,7], [1,8,9]])\n",
    "c = [1, 2, 3]\n",
    "R = np.array([14, 19, 24, 29, 34, 44])\n",
    "w = np.array([0,0,0])\n",
    "g = np.array([0,0,0])\n",
    "e = 0\n",
    "for x, r in zip(X,R):\n",
    "    print (\"input: \", x)\n",
    "    print (\"required output: \", r)\n",
    "    print (\"Y, Derivative: \", sum(w*x), -2*(r-sum(w*x)))\n",
    "    g = g + (-2*(r-sum(w*x)) * x)\n",
    "    e = e + (r-sum(w*x))**2\n",
    "    print (\"gradient: \", g)\n",
    "\n",
    "print (g/len(X))\n",
    "print (\"Error: \", e/len(X))\n",
    "w1 = w - g*rate\n",
    "print (w1)\n",
    "e=0\n",
    "for x, r in zip(X,R):\n",
    "    e = (r-sum(w1*x))**2\n",
    "print (\"Revised Error: \", e/len(X))\n",
    "iterations = 1"
   ]
  },
  {
   "cell_type": "code",
   "execution_count": 3,
   "metadata": {},
   "outputs": [
    {
     "name": "stdout",
     "output_type": "stream",
     "text": [
      "input:  [1 2 3]\n",
      "required output:  14\n",
      "Y, Derivative:  1.0132 -25.9736\n",
      "gradient:  [-25.9736 -51.9472 -77.9208]\n",
      "input:  [1 3 4]\n",
      "required output:  19\n",
      "Y, Derivative:  1.3988 -35.2024\n",
      "gradient:  [ -61.176  -157.5544 -218.7304]\n",
      "input:  [1 4 5]\n",
      "required output:  24\n",
      "Y, Derivative:  1.7844 -44.4312\n",
      "gradient:  [-105.6072 -335.2792 -440.8864]\n",
      "input:  [1 5 6]\n",
      "required output:  29\n",
      "Y, Derivative:  2.17 -53.66\n",
      "gradient:  [-159.2672 -603.5792 -762.8464]\n",
      "input:  [1 6 7]\n",
      "required output:  34\n",
      "Y, Derivative:  2.5556 -62.8888\n",
      "gradient:  [ -222.156  -980.912 -1203.068]\n",
      "input:  [1 8 9]\n",
      "required output:  44\n",
      "Y, Derivative:  3.3268 -81.3464\n",
      "gradient:  [ -303.5024 -1631.6832 -1935.1856]\n",
      "[ -50.58373333 -271.9472     -322.53093333]\n",
      "Error:  722.483414773\n",
      "[ 0.06315024  0.33956832  0.40271856]\n",
      "Revised Error:  235.574482762\n",
      "Iterations:  2\n"
     ]
    }
   ],
   "source": [
    "wF = [ 0.43322452,  2.30207072,  2.73529524]  #50 iterations\n",
    "w = w1\n",
    "g = np.array([0,0,0])\n",
    "e = 0\n",
    "for x, r in zip(X,R):\n",
    "    print (\"input: \", x)\n",
    "    print (\"required output: \", r)\n",
    "    print (\"Y, Derivative: \", sum(w*x), -2*(r-sum(w*x)))\n",
    "    g = g + (-2*(r-sum(w*x)) * x)\n",
    "    e = e + (r-sum(w*x))**2\n",
    "    print (\"gradient: \", g)\n",
    "\n",
    "print (g/len(X))\n",
    "print (\"Error: \", e/len(X))\n",
    "w1 = w - g*rate\n",
    "print (w1)\n",
    "e=0\n",
    "for x, r in zip(X,R):\n",
    "    e = (r-sum(w1*x))**2\n",
    "print (\"Revised Error: \", e/len(X))\n",
    "iterations = iterations + 1\n",
    "print (\"Iterations: \", iterations)"
   ]
  },
  {
   "cell_type": "code",
   "execution_count": 4,
   "metadata": {},
   "outputs": [
    {
     "name": "stdout",
     "output_type": "stream",
     "text": [
      "[2, 3, 4, 5, 6, 8] [13.243251680000002, 18.280617640000003, 23.317983599999998, 28.35534956, 33.39271552, 43.46744744]\n"
     ]
    },
    {
     "data": {
      "text/plain": [
       "[<matplotlib.lines.Line2D at 0xcfb6828>]"
      ]
     },
     "execution_count": 4,
     "metadata": {},
     "output_type": "execute_result"
    },
    {
     "data": {
      "image/png": "[encoded data removed]",
      "text/plain": [
       "<matplotlib.figure.Figure at 0xcf866d8>"
      ]
     },
     "metadata": {},
     "output_type": "display_data"
    }
   ],
   "source": [
    "wF = [ 0.06315024,  0.33956832,  0.40271856]\n",
    "wF = [ 0.43322452,  2.30207072,  2.73529524]  #50 iterations\n",
    "pX = [x for (a,x,y) in X ]\n",
    "pY = R\n",
    "plt.axis([0,10, 0, 50])\n",
    "plt.plot(pX, pY, \"ko\")\n",
    "wFun = lambda ws, p: (wF[0]+wF[1]*p[1]+wF[2]*p[2])\n",
    "pX = [x for (a,x,y) in X]\n",
    "pY = [wFun(wF, p) for p in X ]\n",
    "print (pX, pY)\n",
    "plt.plot(pX, pY, \"k-\")"
   ]
  },
  {
   "cell_type": "code",
   "execution_count": 10,
   "metadata": {},
   "outputs": [
    {
     "name": "stdout",
     "output_type": "stream",
     "text": [
      "0.5\n",
      "0.999954602131\n",
      "4.53978687024e-05\n",
      "[-10, -9, -8, -7, -6, -5, -4, -3, -2, -1, 0, 1, 2, 3, 4, 5, 6, 7, 8, 9] [4.5397868702434395e-05, 0.00012339457598623172, 0.0003353501304664781, 0.0009110511944006454, 0.0024726231566347743, 0.0066928509242848554, 0.01798620996209156, 0.04742587317756678, 0.11920292202211755, 0.2689414213699951, 0.5, 0.7310585786300049, 0.8807970779778823, 0.9525741268224334, 0.9820137900379085, 0.9933071490757153, 0.9975273768433653, 0.9990889488055994, 0.9996646498695336, 0.9998766054240137]\n"
     ]
    },
    {
     "data": {
      "text/plain": [
       "[<matplotlib.lines.Line2D at 0xd5125c0>]"
      ]
     },
     "execution_count": 10,
     "metadata": {},
     "output_type": "execute_result"
    },
    {
     "data": {
      "image/png": "[encoded data removed]",
      "text/plain": [
       "<matplotlib.figure.Figure at 0xcfef358>"
      ]
     },
     "metadata": {},
     "output_type": "display_data"
    }
   ],
   "source": [
    "import math\n",
    "sigmoid = lambda y: 1.0/(1+math.exp(-y))\n",
    "print (sigmoid(0))\n",
    "print (sigmoid(10))\n",
    "print (sigmoid(-10))\n",
    "\n",
    "slog = lambda x: 0 if x==0 else math.log(x)\n",
    "CrossEntropy = lambda r, y: -1*(r*slog(y) + (1-r)*slog(1-y))\n",
    "\n",
    "pX = [x for x in range(-10,10)]\n",
    "pY = [sigmoid(x) for x in range(-10,10) ]\n",
    "print (pX, pY)\n",
    "plt.plot(pX, pY, \"k-\")"
   ]
  },
  {
   "cell_type": "code",
   "execution_count": 11,
   "metadata": {},
   "outputs": [
    {
     "name": "stdout",
     "output_type": "stream",
     "text": [
      "input:  [1 2 3]\n",
      "required output:  0\n",
      "Y, Sigmoid(Y), Derivative:  0 0.5 0.5\n",
      "gradient:  [ 0.5  1.   1.5]\n",
      "input:  [1 3 4]\n",
      "required output:  0\n",
      "Y, Sigmoid(Y), Derivative:  0 0.5 0.5\n",
      "gradient:  [ 1.   2.5  3.5]\n",
      "input:  [1 4 5]\n",
      "required output:  0\n",
      "Y, Sigmoid(Y), Derivative:  0 0.5 0.5\n",
      "gradient:  [ 1.5  4.5  6. ]\n",
      "input:  [1 5 6]\n",
      "required output:  1\n",
      "Y, Sigmoid(Y), Derivative:  0 0.5 -0.5\n",
      "gradient:  [ 1.  2.  3.]\n",
      "input:  [1 6 7]\n",
      "required output:  1\n",
      "Y, Sigmoid(Y), Derivative:  0 0.5 -0.5\n",
      "gradient:  [ 0.5 -1.  -0.5]\n",
      "input:  [1 8 9]\n",
      "required output:  1\n",
      "Y, Sigmoid(Y), Derivative:  0 0.5 -0.5\n",
      "gradient:  [ 0. -5. -5.]\n",
      "[ 0.         -0.83333333 -0.83333333]\n",
      "Error:  0.69314718056\n",
      "[ 0.   0.1  0.1]\n",
      "Revised Error:  0.669091119355\n"
     ]
    }
   ],
   "source": [
    "rate = 0.020\n",
    "#rate = 1\n",
    "X = np.array([ [1, 2, 3], [1,3,4], [1,4,5] , [1,5,6] , [1,6,7], [1,8,9]])\n",
    "R = np.array([0, 0, 0, 1, 1, 1])\n",
    "w = np.array([0,0,0])\n",
    "g = np.array([0,0,0])\n",
    "e = 0\n",
    "for x, r in zip(X,R):\n",
    "    print (\"input: \", x)\n",
    "    print (\"required output: \", r)\n",
    "    print (\"Y, Sigmoid(Y), Derivative: \", sum(w*x), sigmoid(sum(w*x)), -(r-sigmoid(sum(w*x))) )\n",
    "    g = g + (-(r-sigmoid(sum(w*x))) * x)\n",
    "    e = e + CrossEntropy(r,sigmoid(sum(w*x)))\n",
    "    print (\"gradient: \", g)\n",
    "\n",
    "print (g/len(X))\n",
    "print (\"Error: \", e/len(X))\n",
    "w1 = w - g*rate\n",
    "print (w1)\n",
    "e=0\n",
    "for x, r in zip(X,R):\n",
    "    e = e + CrossEntropy(r, sigmoid(sum(w1*x)))\n",
    "print (\"Revised Error: \", e/len(X))\n",
    "iterations = 1"
   ]
  },
  {
   "cell_type": "code",
   "execution_count": 115,
   "metadata": {},
   "outputs": [
    {
     "name": "stdout",
     "output_type": "stream",
     "text": [
      "[2, 3, 4, 5, 6, 8] [1.0967171655196386, 3.1934343310392777, 5.2901514965589165, 7.386868662078556, 9.483585827598194, 13.677020158637472]\n",
      "input:  [1 2 3]\n",
      "required output:  0\n",
      "wx, Y:  -0.8042074 0.309126235338\n",
      "input:  [1 3 4]\n",
      "required output:  0\n",
      "wx, Y:  -0.34080383 0.415614230371\n",
      "input:  [1 4 5]\n",
      "required output:  0\n",
      "wx, Y:  0.12259974 0.530611601795\n",
      "input:  [1 5 6]\n",
      "required output:  1\n",
      "wx, Y:  0.58600331 0.6424475949\n",
      "input:  [1 6 7]\n",
      "required output:  1\n",
      "wx, Y:  1.04940688 0.740660987598\n",
      "input:  [1 8 9]\n",
      "required output:  1\n",
      "wx, Y:  1.97621402 0.878276995491\n"
     ]
    },
    {
     "data": {
      "image/png": "[encoded data removed]",
      "text/plain": [
       "<matplotlib.figure.Figure at 0xdc7b2e8>"
      ]
     },
     "metadata": {},
     "output_type": "display_data"
    }
   ],
   "source": [
    "wF = [ 0. ,        -0.83333333, -0.83333333]\n",
    "wF = [-0.65004852,  0.46679243, -0.18325608]\n",
    "wF = [-1.30847755,  0.88594056, -0.42253699] # 100 iterations\n",
    "xPositive = [[1,5,6] , [1,6,7], [1,8,9]]\n",
    "pX = [x for (a,x,y) in X if [a,x,y] in xPositive]\n",
    "pY = [y for (a,x,y) in X if [a,x,y] in xPositive]\n",
    "plt.axis([0,20, -20, 20])\n",
    "plt.plot(pX, pY, \"ro\")\n",
    "pX = [x for (a,x,y) in X if [a,x,y] not in xPositive]\n",
    "pY = [y for (a,x,y) in X if [a,x,y] not in xPositive]\n",
    "plt.plot(pX, pY, \"bo\")\n",
    "\n",
    "wFun = lambda ws, p: (wF[0]+wF[1]*p[1])/-wF[2]\n",
    "pX = [x for (a,x,y) in X]\n",
    "pY = [wFun(wF, p) for p in X ]\n",
    "print (pX, pY)\n",
    "plt.plot(pX, pY, \"k-\")\n",
    "\n",
    "for x, r in zip(X,R):\n",
    "    print (\"input: \", x)\n",
    "    print (\"required output: \", r)\n",
    "    print (\"wx, Y: \", sum(wF*x), sigmoid(sum(wF*x)) )\n"
   ]
  },
  {
   "cell_type": "code",
   "execution_count": 114,
   "metadata": {},
   "outputs": [
    {
     "name": "stdout",
     "output_type": "stream",
     "text": [
      "[-1.29809955  0.87931282 -0.41878673]\n",
      "input:  [1 2 3]\n",
      "required output:  0\n",
      "Y, Derivative:  0.310917349964 0.310917349964\n",
      "gradient:  [ 0.31091735  0.6218347   0.93275205]\n",
      "input:  [1 3 4]\n",
      "required output:  0\n",
      "Y, Derivative:  0.416949665918 0.416949665918\n",
      "gradient:  [ 0.72786702  1.8726837   2.60055071]\n",
      "input:  [1 4 5]\n",
      "required output:  0\n",
      "Y, Derivative:  0.531263680554 0.531263680554\n",
      "gradient:  [ 1.2591307   3.99773842  5.25686912]\n",
      "input:  [1 5 6]\n",
      "required output:  1\n",
      "Y, Derivative:  0.642388065857 -0.357611934143\n",
      "gradient:  [ 0.90151876  2.20967875  3.11119751]\n",
      "input:  [1 6 7]\n",
      "required output:  1\n",
      "Y, Derivative:  0.740058043599 -0.259941956401\n",
      "gradient:  [ 0.64157681  0.65002701  1.29160382]\n",
      "input:  [1 8 9]\n",
      "required output:  1\n",
      "Y, Derivative:  0.877323225749 -0.122676774251\n",
      "gradient:  [ 0.51890003 -0.33138718  0.18751285]\n",
      "[ 0.08648334 -0.0552312   0.03125214]\n",
      "Error:  0.424009975763\n",
      "[-1.30847755  0.88594056 -0.42253699]\n",
      "Revised Error:  0.422632060707\n",
      "Iterations:   100\n"
     ]
    }
   ],
   "source": [
    "rate = 0.02\n",
    "print (w1)\n",
    "w=w1\n",
    "g = np.array([0,0,0])\n",
    "e = 0\n",
    "for x, r in zip(X,R):\n",
    "    print (\"input: \", x)\n",
    "    print (\"required output: \", r)\n",
    "    print (\"Y, Derivative: \", sigmoid(sum(w*x)), -(r-sigmoid(sum(w*x))) )\n",
    "    g = g + (-(r-sigmoid(sum(w*x))) * x)\n",
    "    e = e + CrossEntropy(r,sigmoid(sum(w*x)))\n",
    "    print (\"gradient: \", g)\n",
    "\n",
    "print (g/len(X))\n",
    "print (\"Error: \", e/len(X))\n",
    "w1 = w - g*rate\n",
    "print (w1)\n",
    "e=0\n",
    "for x, r in zip(X,R):\n",
    "    e = e + CrossEntropy(r,sigmoid(sum(w1*x)))\n",
    "print (\"Revised Error: \", e/len(X))\n",
    "iterations = iterations + 1\n",
    "print (\"Iterations:  \", iterations)"
   ]
  },
  {
   "cell_type": "code",
   "execution_count": 8,
   "metadata": {},
   "outputs": [
    {
     "name": "stdout",
     "output_type": "stream",
     "text": [
      "[2, 3, 4, 5, 6, 8] [1.2728787199133311, 3.5457574398266622, 5.818636159739993, 8.091514879653323, 10.364393599566656, 14.910151039393318]\n",
      "input:  [1 2 3]\n",
      "required output:  0\n",
      "wx, Y:  -0.48005108 0.382240063505\n",
      "input:  [1 3 4]\n",
      "required output:  0\n",
      "wx, Y:  -0.12625612 0.468477832422\n",
      "input:  [1 4 5]\n",
      "required output:  0\n",
      "wx, Y:  0.22753884 0.556640545339\n",
      "input:  [1 5 6]\n",
      "required output:  1\n",
      "wx, Y:  0.5813338 0.641374255916\n",
      "input:  [1 6 7]\n",
      "required output:  1\n",
      "wx, Y:  0.93512876 0.718114640288\n",
      "input:  [1 8 9]\n",
      "required output:  1\n",
      "wx, Y:  1.64271868 0.837904529275\n"
     ]
    },
    {
     "data": {
      "image/png": "[encoded data removed]",
      "text/plain": [
       "<matplotlib.figure.Figure at 0xd0c8940>"
      ]
     },
     "metadata": {},
     "output_type": "display_data"
    }
   ],
   "source": [
    "xPositive = [[1,5,6] , [1,6,7], [1,8,9]]\n",
    "pX = [x for (a,x,y) in X if [a,x,y] in xPositive]\n",
    "pY = [y for (a,x,y) in X if [a,x,y] in xPositive]\n",
    "plt.axis([0,10, 0, 10])\n",
    "plt.plot(pX, pY, \"ro\")\n",
    "pX = [x for (a,x,y) in X if [a,x,y] not in xPositive]\n",
    "pY = [y for (a,x,y) in X if [a,x,y] not in xPositive]\n",
    "plt.plot(pX, pY, \"bo\")\n",
    "\n",
    "wF = [-0.90969232,  0.63174364, -0.27794868]\n",
    "wFun = lambda ws, p: (wF[0]+wF[1]*p[1])/-wF[2]\n",
    "pX = [x for (a,x,y) in X]\n",
    "pY = [wFun(wF, p) for p in X ]\n",
    "print (pX, pY)\n",
    "plt.plot(pX, pY, \"k-\")\n",
    "\n",
    "w= wF\n",
    "for x, r in zip(X,R):\n",
    "    print (\"input: \", x)\n",
    "    print (\"required output: \", r)\n",
    "    print (\"wx, Y: \", sum(w*x), sigmoid(sum(w*x)) )\n"
   ]
  },
  {
   "cell_type": "code",
   "execution_count": 19,
   "metadata": {},
   "outputs": [
    {
     "name": "stdout",
     "output_type": "stream",
     "text": [
      "[2, 3, 4, 5, 6, 8] [0.9862361386430424, 2.9724722772860845, 4.958708415929128, 6.944944554572171, 8.931180693215213, 12.903652970501298]\n",
      "input:  [1 2 3]\n",
      "required output:  0\n",
      "wx, Y:  -1.30947031 0.212575493925\n",
      "input:  [1 3 4]\n",
      "required output:  0\n",
      "wx, Y:  -0.66816029 0.338908904959\n",
      "input:  [1 4 5]\n",
      "required output:  0\n",
      "wx, Y:  -0.02685027 0.493287835749\n",
      "input:  [1 5 6]\n",
      "required output:  1\n",
      "wx, Y:  0.61445975 0.648957458894\n",
      "input:  [1 6 7]\n",
      "required output:  1\n",
      "wx, Y:  1.25576977 0.778297037776\n",
      "input:  [1 8 9]\n",
      "required output:  1\n",
      "wx, Y:  2.53838981 0.926789649279\n"
     ]
    },
    {
     "data": {
      "image/png": "[encoded data removed]",
      "text/plain": [
       "<matplotlib.figure.Figure at 0xde58e80>"
      ]
     },
     "metadata": {},
     "output_type": "display_data"
    }
   ],
   "source": [
    "#340 iterations\n",
    "xPositive = [[1,5,6] , [1,6,7], [1,8,9]]\n",
    "pX = [x for (a,x,y) in X if [a,x,y] in xPositive]\n",
    "pY = [y for (a,x,y) in X if [a,x,y] in xPositive]\n",
    "plt.axis([0,10, 0, 10])\n",
    "plt.plot(pX, pY, \"ro\")\n",
    "pX = [x for (a,x,y) in X if [a,x,y] not in xPositive]\n",
    "pY = [y for (a,x,y) in X if [a,x,y] not in xPositive]\n",
    "plt.plot(pX, pY, \"bo\")\n",
    "\n",
    "wF = [-1.94183024,  1.29157013, -0.65026011]\n",
    "wFun = lambda ws, p: (wF[0]+wF[1]*p[1])/-wF[2]\n",
    "pX = [x for (a,x,y) in X]\n",
    "pY = [wFun(wF, p) for p in X ]\n",
    "print (pX, pY)\n",
    "plt.plot(pX, pY, \"k-\")\n",
    "\n",
    "w= wF\n",
    "for x, r in zip(X,R):\n",
    "    print (\"input: \", x)\n",
    "    print (\"required output: \", r)\n",
    "    print (\"wx, Y: \", sum(w*x), sigmoid(sum(w*x)) )\n"
   ]
  },
  {
   "cell_type": "code",
   "execution_count": 117,
   "metadata": {},
   "outputs": [
    {
     "name": "stdout",
     "output_type": "stream",
     "text": [
      "[2, 3, 4, 5, 6, 8] [0.75, 2.5, 4.25, 6.0, 7.75, 11.25]\n",
      "[2, 3, 4, 5, 6, 8] [0.875, 2.75, 4.625, 6.5, 8.375, 12.125]\n",
      "input:  [1 2 3]\n",
      "required output:  0\n",
      "wx, Y:  -17.0 4.13993754739e-08\n",
      "input:  [1 3 4]\n",
      "required output:  0\n",
      "wx, Y:  -10.0 4.53978687024e-05\n",
      "input:  [1 4 5]\n",
      "required output:  0\n",
      "wx, Y:  -3.0 0.0474258731776\n",
      "input:  [1 5 6]\n",
      "required output:  1\n",
      "wx, Y:  4.0 0.982013790038\n",
      "input:  [1 6 7]\n",
      "required output:  1\n",
      "wx, Y:  11.0 0.999983298578\n",
      "input:  [1 8 9]\n",
      "required output:  1\n",
      "wx, Y:  25.0 0.999999999986\n"
     ]
    },
    {
     "data": {
      "image/png": "[encoded data removed]",
      "text/plain": [
       "<matplotlib.figure.Figure at 0xe9250b8>"
      ]
     },
     "metadata": {},
     "output_type": "display_data"
    }
   ],
   "source": [
    "wF = [-11.2784868 ,  7.3432829 , -3.9352039] #6477\n",
    "wF = [-11.0 ,  7.0 , -4.0] #6477\n",
    "\n",
    "xPositive = [[1,5,6] , [1,6,7], [1,8,9]]\n",
    "pX = [x for (a,x,y) in X if [a,x,y] in xPositive]\n",
    "pY = [y for (a,x,y) in X if [a,x,y] in xPositive]\n",
    "plt.axis([0,10, 0, 10])\n",
    "plt.plot(pX, pY, \"ro\")\n",
    "pX = [x for (a,x,y) in X if [a,x,y] not in xPositive]\n",
    "pY = [y for (a,x,y) in X if [a,x,y] not in xPositive]\n",
    "plt.plot(pX, pY, \"bo\")\n",
    "\n",
    "wFun = lambda ws, p: (wF[0]+wF[1]*p[1])/-wF[2]\n",
    "pX = [x for (a,x,y) in X]\n",
    "pY = [wFun(wF, p) for p in X ]\n",
    "print (pX, pY)\n",
    "plt.plot(pX, pY, \"k-\")\n",
    "\n",
    "wF = [-23.14034607 , 15.05128403 , -8.08906203] #55677\n",
    "wF = [-23.0, 15.0, -8.0]\n",
    "wFun = lambda ws, p: (wF[0]+wF[1]*p[1])/-wF[2]\n",
    "pX = [x for (a,x,y) in X]\n",
    "pY = [wFun(wF, p) for p in X ]\n",
    "print (pX, pY)\n",
    "plt.plot(pX, pY, \"m-\")\n",
    "\n",
    "w= wF\n",
    "for x, r in zip(X,R):\n",
    "    print (\"input: \", x)\n",
    "    print (\"required output: \", r)\n",
    "    print (\"wx, Y: \", sum(w*x), sigmoid(sum(w*x)) )\n"
   ]
  },
  {
   "cell_type": "code",
   "execution_count": 977,
   "metadata": {},
   "outputs": [
    {
     "name": "stdout",
     "output_type": "stream",
     "text": [
      "[-23.14034607  15.05128403  -8.08906203]\n",
      "Revised Error:  0.0199781140751\n",
      "Iterations:  55677\n"
     ]
    }
   ],
   "source": [
    "rate = 0.02\n",
    "print (w1)\n",
    "for i in range(1000):\n",
    "    w=w1\n",
    "    g = np.array([0,0,0])\n",
    "    e = 0\n",
    "    for x, r in zip(X,R):\n",
    "        g = g + (-(r-sigmoid(sum(w*x))) * x)\n",
    "        e = e + CrossEntropy(r,sigmoid(sum(w*x)))\n",
    "    w1 = w - g*rate\n",
    "    iterations = iterations + 1\n",
    "for x, r in zip(X,R):\n",
    "    e = e + CrossEntropy(r,sigmoid(sum(w1*x)))\n",
    "print (\"Revised Error: \", e/len(X))\n",
    "print (\"Iterations: \", iterations)\n",
    "\n"
   ]
  }
 ],
 "metadata": {
  "kernelspec": {
   "display_name": "Python 3",
   "language": "python",
   "name": "python3"
  },
  "language_info": {
   "codemirror_mode": {
    "name": "ipython",
    "version": 3
   },
   "file_extension": ".py",
   "mimetype": "text/x-python",
   "name": "python",
   "nbconvert_exporter": "python",
   "pygments_lexer": "ipython3",
   "version": "3.6.8"
  }
 },
 "nbformat": 4,
 "nbformat_minor": 1
}
