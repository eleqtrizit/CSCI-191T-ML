{
 "cells": [
  {
   "cell_type": "code",
   "execution_count": 83,
   "metadata": {},
   "outputs": [],
   "source": [
    "# To support both python 2 and python 3\n",
    "from __future__ import division, print_function, unicode_literals\n",
    "\n",
    "# Common imports\n",
    "import numpy as np\n",
    "import os\n",
    "\n",
    "# to make this notebook's output stable across runs\n",
    "np.random.seed(42)\n",
    "\n",
    "# To plot pretty figures\n",
    "%matplotlib inline\n",
    "import matplotlib\n",
    "import matplotlib.pyplot as plt\n",
    "\n",
    "\n",
    "import pandas as pd\n",
    "import random\n",
    "\n",
    "from IPython.display import HTML, display\n",
    "#import tabulate\n",
    "\n",
    "def PrintXL(*arg):\n",
    "    html=\"<span style='font-size: 22px;font-weight:700'>\"\n",
    "    for a in arg:\n",
    "        html += str(a)\n",
    "    html +=\"</span>\"\n",
    "    display(HTML(html))\n",
    "    \n",
    "def PrintL(*arg):\n",
    "    html=\"<span style='font-size: 18px;font-weight:700'>\"\n",
    "    for a in arg:\n",
    "        html += str(a)\n",
    "    html +=\"</span>\"\n",
    "    display(HTML(html))\n",
    "    \n",
    "def PrintM(*arg):\n",
    "    html=\"<span style='font-size: 14px;font-weight:500'>\"\n",
    "    for a in arg:\n",
    "        html += str(a)\n",
    "    html +=\"</span>\"\n",
    "    display(HTML(html))\n",
    "\n",
    "def BigTitle(title):\n",
    "    html=\"<div style='width: 100%; padding-bottom: 10px'><span style='font-size: 22px;font-weight:700'>\" + title + \"</span>\"\n",
    "    html +=\"</div>\"\n",
    "    display(HTML(html))\n",
    "    \n",
    "def EasyRead(title,text):\n",
    "    html=\"<div style='width: 100%; padding-bottom: 10px'><span style='font-weight:700'>\" + title + \":</span> &nbsp;&nbsp;\"\n",
    "    if type(text) is str:\n",
    "        html += text\n",
    "    elif type(text) is int:\n",
    "        html += str(text)\n",
    "    elif type(text) is float:\n",
    "        html += str(round(text,5))\n",
    "    else:\n",
    "        html += \"[ \"\n",
    "        for t in text:\n",
    "            if type(t) is int:\n",
    "                t = float(t)\n",
    "            if type(t) is list:\n",
    "                html += \" [ \"\n",
    "                for tt in t:\n",
    "                    html += str(round(tt,5)) + \" &nbsp; \"\n",
    "                html += \"] &nbsp; \"\n",
    "            else:\n",
    "                html += str(round(t,5)) + \" &nbsp; \"\n",
    "        html += \" ] \"\n",
    "        \n",
    "    html +=\"</div>\"\n",
    "    display(HTML(html))\n"
   ]
  },
  {
   "cell_type": "markdown",
   "metadata": {},
   "source": [
    "### What's going on?\n",
    "Create range of #'s from -100->100 for X<br>\n",
    "Create range of #'s from -200->200 for R (why not Y?)<br>\n",
    "<br>\n",
    "#### Variables\n",
    "X: X-axis points<br>\n",
    "R: Y-axis points<br>\n",
    "EPS: Epochs. One epoch is one forward pass AND one backward pass of all the training examples<br>\n",
    "<br>\n",
    "#### Numpy\n",
    "X=X.reshape(-1,1)   \n",
    "    This will reshape the matrix to a new format<br>\n",
    "    -1 simply means that it is an *unknown dimension* and we want numpy to figure it out. And numpy will figure this by looking at the 'length of the array and remaining dimensions' and making sure it satisfies the criteria.<br>\n",
    "    Example:\n",
    "    <img src=\"./files/reshape.png\">\n",
    "    \n",
    "                "
   ]
  },
  {
   "cell_type": "code",
   "execution_count": 3,
   "metadata": {},
   "outputs": [
    {
     "data": {
      "image/png": "[encoded data removed]",
      "text/plain": [
       "<Figure size 432x288 with 1 Axes>"
      ]
     },
     "metadata": {
      "needs_background": "light"
     },
     "output_type": "display_data"
    }
   ],
   "source": [
    "RANGE = 100\n",
    "COUNT = 20\n",
    "EPS = 50\n",
    "\n",
    "# create function that takes x and outputs 2x+10\n",
    "F_x = lambda x: 2*x + 10\n",
    "# create an array with values -RANGE->RANGE with COUNT examples\n",
    "X = np.array([random.randint(-RANGE,RANGE) for i in range(COUNT)])\n",
    "#print(np.sort(X));\n",
    "R = np.array([F_x(x)+random.random()*EPS-EPS/2 for x in X])\n",
    "#print(np.sort(R));\n",
    "\n",
    "X=X.reshape(-1,1)\n",
    "R=R.reshape(-1,1)\n",
    "\n",
    "plt.plot(X,R, '.')\n",
    "plt.show()"
   ]
  },
  {
   "cell_type": "markdown",
   "metadata": {},
   "source": [
    "## Hypothesis Function\n",
    "<img src=\"./files/hypothesis.png\">\n",
    "\n",
    "## Cost Function\n",
    "<img src=\"./files/costfunc.png\">"
   ]
  },
  {
   "cell_type": "markdown",
   "metadata": {},
   "source": [
    "### numpy.cov\n",
    "<img src=\"./files/numpycov.png\">\n",
    "<br><br>\n",
    "\n",
    "### numpy.append\n",
    "<img src=\"./files/numpyappend.png\">\n",
    "<br><br>\n",
    "\n",
    "### numpy.transpose\n",
    "<img src=\"./files/numpytranspose.png\">\n",
    "<br><br>\n",
    "\n",
    "### matrix multiplication reminder\n",
    "<img src=\"./files/matrixmult.png\">\n",
    "<br><br>\n",
    "\n",
    "### multiplicative inverse\n",
    "<img src=\"./files/inv.png\">\n",
    "<br><br>\n",
    "\n",
    "\n",
    "### matrix transpose\n",
    "<img src=\"./files/transpose.png\">\n",
    "<br><br>\n",
    "\n",
    "### dot product\n",
    "<img src=\"./files/dot.png\">\n",
    "<br><br>"
   ]
  },
  {
   "cell_type": "code",
   "execution_count": 88,
   "metadata": {},
   "outputs": [
    {
     "data": {
      "text/html": [
       "<span style='font-size: 22px;font-weight:700'>original was:<br>   W = (dot  (  inv(dot(transpose(X_1), X_1)), dot(transpose(X_1), R)  )  )</span>"
      ],
      "text/plain": [
       "<IPython.core.display.HTML object>"
      ]
     },
     "metadata": {},
     "output_type": "display_data"
    },
    {
     "data": {
      "text/html": [
       "<span style='font-size: 14px;font-weight:500'>We are going to break it down to see what is going on.<br><br></span>"
      ],
      "text/plain": [
       "<IPython.core.display.HTML object>"
      ]
     },
     "metadata": {},
     "output_type": "display_data"
    },
    {
     "data": {
      "text/html": [
       "<span style='font-size: 18px;font-weight:700'>dotX1_R = dot(transpose(X_1), R)</span>"
      ],
      "text/plain": [
       "<IPython.core.display.HTML object>"
      ]
     },
     "metadata": {},
     "output_type": "display_data"
    },
    {
     "data": {
      "text/html": [
       "<span style='font-size: 14px;font-weight:500'>This dot product is matrix multiplication of X1 and R.</span>"
      ],
      "text/plain": [
       "<IPython.core.display.HTML object>"
      ]
     },
     "metadata": {},
     "output_type": "display_data"
    },
    {
     "data": {
      "text/html": [
       "<span style='font-size: 14px;font-weight:500'>Matrix multiplication requires dimensions of (m,n) and (n,1) and will have shape of (m,1)</span>"
      ],
      "text/plain": [
       "<IPython.core.display.HTML object>"
      ]
     },
     "metadata": {},
     "output_type": "display_data"
    },
    {
     "data": {
      "text/html": [
       "<span style='font-size: 14px;font-weight:500'>Shape of X1 and R: (20, 2) (20, 1)</span>"
      ],
      "text/plain": [
       "<IPython.core.display.HTML object>"
      ]
     },
     "metadata": {},
     "output_type": "display_data"
    },
    {
     "data": {
      "text/html": [
       "<span style='font-size: 14px;font-weight:500'>It currently does not meet the requirement.\n",
       "</span>"
      ],
      "text/plain": [
       "<IPython.core.display.HTML object>"
      ]
     },
     "metadata": {},
     "output_type": "display_data"
    },
    {
     "data": {
      "text/html": [
       "<span style='font-size: 14px;font-weight:500'>Shape of transposed_X1 and R: (2, 20) (20, 1)</span>"
      ],
      "text/plain": [
       "<IPython.core.display.HTML object>"
      ]
     },
     "metadata": {},
     "output_type": "display_data"
    },
    {
     "data": {
      "text/html": [
       "<span style='font-size: 14px;font-weight:500'>This meets the requirements.</span>"
      ],
      "text/plain": [
       "<IPython.core.display.HTML object>"
      ]
     },
     "metadata": {},
     "output_type": "display_data"
    },
    {
     "data": {
      "text/html": [
       "<span style='font-size: 14px;font-weight:500'>Now we expect an output shape of 2,1</span>"
      ],
      "text/plain": [
       "<IPython.core.display.HTML object>"
      ]
     },
     "metadata": {},
     "output_type": "display_data"
    },
    {
     "data": {
      "text/html": [
       "<span style='font-size: 14px;font-weight:500'>The dot product shape of transposed_X1 and R: (2, 1) Perfect!</span>"
      ],
      "text/plain": [
       "<IPython.core.display.HTML object>"
      ]
     },
     "metadata": {},
     "output_type": "display_data"
    },
    {
     "name": "stdout",
     "output_type": "stream",
     "text": [
      "\n",
      "\n",
      "\n"
     ]
    },
    {
     "data": {
      "text/html": [
       "<span style='font-size: 18px;font-weight:700'>invDotTX1_X1 = inv(dot(transpose(X_1), X_1))</span>"
      ],
      "text/plain": [
       "<IPython.core.display.HTML object>"
      ]
     },
     "metadata": {},
     "output_type": "display_data"
    },
    {
     "data": {
      "text/html": [
       "<span style='font-size: 14px;font-weight:500'>Now we need the dot product of transX1 and X1</span>"
      ],
      "text/plain": [
       "<IPython.core.display.HTML object>"
      ]
     },
     "metadata": {},
     "output_type": "display_data"
    },
    {
     "data": {
      "text/html": [
       "<span style='font-size: 14px;font-weight:500'>The shapes are: (2, 20),(20, 2)</span>"
      ],
      "text/plain": [
       "<IPython.core.display.HTML object>"
      ]
     },
     "metadata": {},
     "output_type": "display_data"
    },
    {
     "data": {
      "text/html": [
       "<span style='font-size: 14px;font-weight:500'>Result shape: (2, 2)</span>"
      ],
      "text/plain": [
       "<IPython.core.display.HTML object>"
      ]
     },
     "metadata": {},
     "output_type": "display_data"
    },
    {
     "data": {
      "text/html": [
       "<span style='font-size: 14px;font-weight:500'>Then we'll take the multiplicative inverse of that table with inv()</span>"
      ],
      "text/plain": [
       "<IPython.core.display.HTML object>"
      ]
     },
     "metadata": {},
     "output_type": "display_data"
    },
    {
     "data": {
      "text/html": [
       "<span style='font-size: 18px;font-weight:700'>W = dot  (invDotTX1_X1, dotX1_R)  </span>"
      ],
      "text/plain": [
       "<IPython.core.display.HTML object>"
      ]
     },
     "metadata": {},
     "output_type": "display_data"
    },
    {
     "data": {
      "text/html": [
       "<span style='font-size: 14px;font-weight:500'>Final shape of W: (2, 1)</span>"
      ],
      "text/plain": [
       "<IPython.core.display.HTML object>"
      ]
     },
     "metadata": {},
     "output_type": "display_data"
    },
    {
     "data": {
      "text/html": [
       "<span style='font-size: 18px;font-weight:700'>Set Weights:</span>"
      ],
      "text/plain": [
       "<IPython.core.display.HTML object>"
      ]
     },
     "metadata": {},
     "output_type": "display_data"
    },
    {
     "data": {
      "text/html": [
       "<span style='font-size: 14px;font-weight:500'>Set theta (weights) to (W[1],W[0]): [11.44090977][2.02545205]</span>"
      ],
      "text/plain": [
       "<IPython.core.display.HTML object>"
      ]
     },
     "metadata": {},
     "output_type": "display_data"
    },
    {
     "data": {
      "image/png": "[encoded data removed]",
      "text/plain": [
       "<Figure size 432x288 with 1 Axes>"
      ]
     },
     "metadata": {
      "needs_background": "light"
     },
     "output_type": "display_data"
    }
   ],
   "source": [
    "from numpy.linalg import inv \n",
    "from numpy import dot, transpose\n",
    "\n",
    "# to array X append ones, along axis 1\n",
    "X_1 = np.append(X,np.ones([len(X),1]),1)\n",
    "#print (X_1)\n",
    "\n",
    "\n",
    "################\n",
    "# \n",
    "\n",
    "PrintXL(\"original was:<br>   W = (dot  (  inv(dot(transpose(X_1), X_1)), dot(transpose(X_1), R)  )  )\")\n",
    "PrintM(\"We are going to break it down to see what is going on.<br><br>\")\n",
    "PrintL(\"dotX1_R = dot(transpose(X_1), R)\")\n",
    "PrintM(\"This dot product is matrix multiplication of X1 and R.\")\n",
    "PrintM(\"Matrix multiplication requires dimensions of (m,n) and (n,1) and will have shape of (m,1)\")\n",
    "PrintM(\"Shape of X1 and R: \", X_1.shape, \" \", R.shape)\n",
    "PrintM(\"It currently does not meet the requirement.\\n\")\n",
    "transX1 = transpose(X_1)\n",
    "(m,n) = transX1.shape\n",
    "PrintM(\"Shape of transposed_X1 and R: \", transX1.shape, \" \", R.shape)\n",
    "PrintM(\"This meets the requirements.\")\n",
    "PrintM(\"Now we expect an output shape of \", m, \",\", 1)\n",
    "dotX1_R = dot(transX1,R)\n",
    "PrintM(\"The dot product shape of transposed_X1 and R: \", dotX1R.shape, \" Perfect!\")\n",
    "print(\"\\n\\n\")\n",
    "\n",
    "PrintL(\"invDotTX1_X1 = inv(dot(transpose(X_1), X_1))\")\n",
    "PrintM(\"Now we need the dot product of transX1 and X1\")\n",
    "PrintM(\"The shapes are: \", transX1.shape,',',X_1.shape)\n",
    "dotTX1_X1=dot(transpose(X_1), X_1)\n",
    "PrintM(\"Result shape: \", dotTX1_X1.shape)\n",
    "PrintM(\"Then we'll take the multiplicative inverse of that table with inv()\")\n",
    "invDotTX1_X1 = inv(dotTX1_X1)\n",
    "PrintL(\"W = dot  (invDotTX1_X1, dotX1_R)  \")\n",
    "PrintM(\"Final shape of W: \", W.shape)\n",
    "\n"
   ]
  },
  {
   "cell_type": "code",
   "execution_count": 92,
   "metadata": {},
   "outputs": [
    {
     "data": {
      "text/html": [
       "<span style='font-size: 18px;font-weight:700'>Set Weights:</span>"
      ],
      "text/plain": [
       "<IPython.core.display.HTML object>"
      ]
     },
     "metadata": {},
     "output_type": "display_data"
    },
    {
     "data": {
      "text/html": [
       "<span style='font-size: 14px;font-weight:500'>Set theta (weights) to (W[1],W[0]): [11.44090977][2.02545205]</span>"
      ],
      "text/plain": [
       "<IPython.core.display.HTML object>"
      ]
     },
     "metadata": {},
     "output_type": "display_data"
    },
    {
     "ename": "RuntimeError",
     "evalue": "matplotlib does not support generators as input",
     "output_type": "error",
     "traceback": [
      "\u001b[1;31m---------------------------------------------------------------------------\u001b[0m",
      "\u001b[1;31mAttributeError\u001b[0m                            Traceback (most recent call last)",
      "\u001b[1;32m~\\Anaconda3\\lib\\site-packages\\matplotlib\\units.py\u001b[0m in \u001b[0;36mget_converter\u001b[1;34m(self, x)\u001b[0m\n\u001b[0;32m    167\u001b[0m                 \u001b[1;31m# get_converter\u001b[0m\u001b[1;33m\u001b[0m\u001b[1;33m\u001b[0m\u001b[1;33m\u001b[0m\u001b[0m\n\u001b[1;32m--> 168\u001b[1;33m                 \u001b[1;32mif\u001b[0m \u001b[1;32mnot\u001b[0m \u001b[0mnp\u001b[0m\u001b[1;33m.\u001b[0m\u001b[0mall\u001b[0m\u001b[1;33m(\u001b[0m\u001b[0mxravel\u001b[0m\u001b[1;33m.\u001b[0m\u001b[0mmask\u001b[0m\u001b[1;33m)\u001b[0m\u001b[1;33m:\u001b[0m\u001b[1;33m\u001b[0m\u001b[1;33m\u001b[0m\u001b[0m\n\u001b[0m\u001b[0;32m    169\u001b[0m                     \u001b[1;31m# some elements are not masked\u001b[0m\u001b[1;33m\u001b[0m\u001b[1;33m\u001b[0m\u001b[1;33m\u001b[0m\u001b[0m\n",
      "\u001b[1;31mAttributeError\u001b[0m: 'numpy.ndarray' object has no attribute 'mask'",
      "\nDuring handling of the above exception, another exception occurred:\n",
      "\u001b[1;31mRuntimeError\u001b[0m                              Traceback (most recent call last)",
      "\u001b[1;32m<ipython-input-92-ce762b917b14>\u001b[0m in \u001b[0;36m<module>\u001b[1;34m\u001b[0m\n\u001b[0;32m     12\u001b[0m \u001b[1;33m\u001b[0m\u001b[0m\n\u001b[0;32m     13\u001b[0m \u001b[0mY_plt\u001b[0m \u001b[1;33m=\u001b[0m \u001b[0mmap\u001b[0m\u001b[1;33m(\u001b[0m\u001b[0mH_x\u001b[0m\u001b[1;33m,\u001b[0m\u001b[0mX_plt\u001b[0m\u001b[1;33m)\u001b[0m\u001b[1;33m\u001b[0m\u001b[1;33m\u001b[0m\u001b[0m\n\u001b[1;32m---> 14\u001b[1;33m \u001b[0mplt\u001b[0m\u001b[1;33m.\u001b[0m\u001b[0mplot\u001b[0m\u001b[1;33m(\u001b[0m\u001b[0mX_plt\u001b[0m\u001b[1;33m,\u001b[0m \u001b[0mY_plt\u001b[0m\u001b[1;33m)\u001b[0m\u001b[1;33m\u001b[0m\u001b[1;33m\u001b[0m\u001b[0m\n\u001b[0m",
      "\u001b[1;32m~\\Anaconda3\\lib\\site-packages\\matplotlib\\pyplot.py\u001b[0m in \u001b[0;36mplot\u001b[1;34m(scalex, scaley, data, *args, **kwargs)\u001b[0m\n\u001b[0;32m   2811\u001b[0m     return gca().plot(\n\u001b[0;32m   2812\u001b[0m         *args, scalex=scalex, scaley=scaley, **({\"data\": data} if data\n\u001b[1;32m-> 2813\u001b[1;33m         is not None else {}), **kwargs)\n\u001b[0m\u001b[0;32m   2814\u001b[0m \u001b[1;33m\u001b[0m\u001b[0m\n\u001b[0;32m   2815\u001b[0m \u001b[1;33m\u001b[0m\u001b[0m\n",
      "\u001b[1;32m~\\Anaconda3\\lib\\site-packages\\matplotlib\\__init__.py\u001b[0m in \u001b[0;36minner\u001b[1;34m(ax, data, *args, **kwargs)\u001b[0m\n\u001b[0;32m   1808\u001b[0m                         \u001b[1;34m\"the Matplotlib list!)\"\u001b[0m \u001b[1;33m%\u001b[0m \u001b[1;33m(\u001b[0m\u001b[0mlabel_namer\u001b[0m\u001b[1;33m,\u001b[0m \u001b[0mfunc\u001b[0m\u001b[1;33m.\u001b[0m\u001b[0m__name__\u001b[0m\u001b[1;33m)\u001b[0m\u001b[1;33m,\u001b[0m\u001b[1;33m\u001b[0m\u001b[1;33m\u001b[0m\u001b[0m\n\u001b[0;32m   1809\u001b[0m                         RuntimeWarning, stacklevel=2)\n\u001b[1;32m-> 1810\u001b[1;33m             \u001b[1;32mreturn\u001b[0m \u001b[0mfunc\u001b[0m\u001b[1;33m(\u001b[0m\u001b[0max\u001b[0m\u001b[1;33m,\u001b[0m \u001b[1;33m*\u001b[0m\u001b[0margs\u001b[0m\u001b[1;33m,\u001b[0m \u001b[1;33m**\u001b[0m\u001b[0mkwargs\u001b[0m\u001b[1;33m)\u001b[0m\u001b[1;33m\u001b[0m\u001b[1;33m\u001b[0m\u001b[0m\n\u001b[0m\u001b[0;32m   1811\u001b[0m \u001b[1;33m\u001b[0m\u001b[0m\n\u001b[0;32m   1812\u001b[0m         inner.__doc__ = _add_data_doc(inner.__doc__,\n",
      "\u001b[1;32m~\\Anaconda3\\lib\\site-packages\\matplotlib\\axes\\_axes.py\u001b[0m in \u001b[0;36mplot\u001b[1;34m(self, scalex, scaley, *args, **kwargs)\u001b[0m\n\u001b[0;32m   1609\u001b[0m         \u001b[0mkwargs\u001b[0m \u001b[1;33m=\u001b[0m \u001b[0mcbook\u001b[0m\u001b[1;33m.\u001b[0m\u001b[0mnormalize_kwargs\u001b[0m\u001b[1;33m(\u001b[0m\u001b[0mkwargs\u001b[0m\u001b[1;33m,\u001b[0m \u001b[0mmlines\u001b[0m\u001b[1;33m.\u001b[0m\u001b[0mLine2D\u001b[0m\u001b[1;33m.\u001b[0m\u001b[0m_alias_map\u001b[0m\u001b[1;33m)\u001b[0m\u001b[1;33m\u001b[0m\u001b[1;33m\u001b[0m\u001b[0m\n\u001b[0;32m   1610\u001b[0m \u001b[1;33m\u001b[0m\u001b[0m\n\u001b[1;32m-> 1611\u001b[1;33m         \u001b[1;32mfor\u001b[0m \u001b[0mline\u001b[0m \u001b[1;32min\u001b[0m \u001b[0mself\u001b[0m\u001b[1;33m.\u001b[0m\u001b[0m_get_lines\u001b[0m\u001b[1;33m(\u001b[0m\u001b[1;33m*\u001b[0m\u001b[0margs\u001b[0m\u001b[1;33m,\u001b[0m \u001b[1;33m**\u001b[0m\u001b[0mkwargs\u001b[0m\u001b[1;33m)\u001b[0m\u001b[1;33m:\u001b[0m\u001b[1;33m\u001b[0m\u001b[1;33m\u001b[0m\u001b[0m\n\u001b[0m\u001b[0;32m   1612\u001b[0m             \u001b[0mself\u001b[0m\u001b[1;33m.\u001b[0m\u001b[0madd_line\u001b[0m\u001b[1;33m(\u001b[0m\u001b[0mline\u001b[0m\u001b[1;33m)\u001b[0m\u001b[1;33m\u001b[0m\u001b[1;33m\u001b[0m\u001b[0m\n\u001b[0;32m   1613\u001b[0m             \u001b[0mlines\u001b[0m\u001b[1;33m.\u001b[0m\u001b[0mappend\u001b[0m\u001b[1;33m(\u001b[0m\u001b[0mline\u001b[0m\u001b[1;33m)\u001b[0m\u001b[1;33m\u001b[0m\u001b[1;33m\u001b[0m\u001b[0m\n",
      "\u001b[1;32m~\\Anaconda3\\lib\\site-packages\\matplotlib\\axes\\_base.py\u001b[0m in \u001b[0;36m_grab_next_args\u001b[1;34m(self, *args, **kwargs)\u001b[0m\n\u001b[0;32m    391\u001b[0m                 \u001b[0mthis\u001b[0m \u001b[1;33m+=\u001b[0m \u001b[0margs\u001b[0m\u001b[1;33m[\u001b[0m\u001b[1;36m0\u001b[0m\u001b[1;33m]\u001b[0m\u001b[1;33m,\u001b[0m\u001b[1;33m\u001b[0m\u001b[1;33m\u001b[0m\u001b[0m\n\u001b[0;32m    392\u001b[0m                 \u001b[0margs\u001b[0m \u001b[1;33m=\u001b[0m \u001b[0margs\u001b[0m\u001b[1;33m[\u001b[0m\u001b[1;36m1\u001b[0m\u001b[1;33m:\u001b[0m\u001b[1;33m]\u001b[0m\u001b[1;33m\u001b[0m\u001b[1;33m\u001b[0m\u001b[0m\n\u001b[1;32m--> 393\u001b[1;33m             \u001b[1;32myield\u001b[0m \u001b[1;32mfrom\u001b[0m \u001b[0mself\u001b[0m\u001b[1;33m.\u001b[0m\u001b[0m_plot_args\u001b[0m\u001b[1;33m(\u001b[0m\u001b[0mthis\u001b[0m\u001b[1;33m,\u001b[0m \u001b[0mkwargs\u001b[0m\u001b[1;33m)\u001b[0m\u001b[1;33m\u001b[0m\u001b[1;33m\u001b[0m\u001b[0m\n\u001b[0m\u001b[0;32m    394\u001b[0m \u001b[1;33m\u001b[0m\u001b[0m\n\u001b[0;32m    395\u001b[0m \u001b[1;33m\u001b[0m\u001b[0m\n",
      "\u001b[1;32m~\\Anaconda3\\lib\\site-packages\\matplotlib\\axes\\_base.py\u001b[0m in \u001b[0;36m_plot_args\u001b[1;34m(self, tup, kwargs)\u001b[0m\n\u001b[0;32m    368\u001b[0m             \u001b[0mx\u001b[0m\u001b[1;33m,\u001b[0m \u001b[0my\u001b[0m \u001b[1;33m=\u001b[0m \u001b[0mindex_of\u001b[0m\u001b[1;33m(\u001b[0m\u001b[0mtup\u001b[0m\u001b[1;33m[\u001b[0m\u001b[1;33m-\u001b[0m\u001b[1;36m1\u001b[0m\u001b[1;33m]\u001b[0m\u001b[1;33m)\u001b[0m\u001b[1;33m\u001b[0m\u001b[1;33m\u001b[0m\u001b[0m\n\u001b[0;32m    369\u001b[0m \u001b[1;33m\u001b[0m\u001b[0m\n\u001b[1;32m--> 370\u001b[1;33m         \u001b[0mx\u001b[0m\u001b[1;33m,\u001b[0m \u001b[0my\u001b[0m \u001b[1;33m=\u001b[0m \u001b[0mself\u001b[0m\u001b[1;33m.\u001b[0m\u001b[0m_xy_from_xy\u001b[0m\u001b[1;33m(\u001b[0m\u001b[0mx\u001b[0m\u001b[1;33m,\u001b[0m \u001b[0my\u001b[0m\u001b[1;33m)\u001b[0m\u001b[1;33m\u001b[0m\u001b[1;33m\u001b[0m\u001b[0m\n\u001b[0m\u001b[0;32m    371\u001b[0m \u001b[1;33m\u001b[0m\u001b[0m\n\u001b[0;32m    372\u001b[0m         \u001b[1;32mif\u001b[0m \u001b[0mself\u001b[0m\u001b[1;33m.\u001b[0m\u001b[0mcommand\u001b[0m \u001b[1;33m==\u001b[0m \u001b[1;34m'plot'\u001b[0m\u001b[1;33m:\u001b[0m\u001b[1;33m\u001b[0m\u001b[1;33m\u001b[0m\u001b[0m\n",
      "\u001b[1;32m~\\Anaconda3\\lib\\site-packages\\matplotlib\\axes\\_base.py\u001b[0m in \u001b[0;36m_xy_from_xy\u001b[1;34m(self, x, y)\u001b[0m\n\u001b[0;32m    203\u001b[0m         \u001b[1;32mif\u001b[0m \u001b[0mself\u001b[0m\u001b[1;33m.\u001b[0m\u001b[0maxes\u001b[0m\u001b[1;33m.\u001b[0m\u001b[0mxaxis\u001b[0m \u001b[1;32mis\u001b[0m \u001b[1;32mnot\u001b[0m \u001b[1;32mNone\u001b[0m \u001b[1;32mand\u001b[0m \u001b[0mself\u001b[0m\u001b[1;33m.\u001b[0m\u001b[0maxes\u001b[0m\u001b[1;33m.\u001b[0m\u001b[0myaxis\u001b[0m \u001b[1;32mis\u001b[0m \u001b[1;32mnot\u001b[0m \u001b[1;32mNone\u001b[0m\u001b[1;33m:\u001b[0m\u001b[1;33m\u001b[0m\u001b[1;33m\u001b[0m\u001b[0m\n\u001b[0;32m    204\u001b[0m             \u001b[0mbx\u001b[0m \u001b[1;33m=\u001b[0m \u001b[0mself\u001b[0m\u001b[1;33m.\u001b[0m\u001b[0maxes\u001b[0m\u001b[1;33m.\u001b[0m\u001b[0mxaxis\u001b[0m\u001b[1;33m.\u001b[0m\u001b[0mupdate_units\u001b[0m\u001b[1;33m(\u001b[0m\u001b[0mx\u001b[0m\u001b[1;33m)\u001b[0m\u001b[1;33m\u001b[0m\u001b[1;33m\u001b[0m\u001b[0m\n\u001b[1;32m--> 205\u001b[1;33m             \u001b[0mby\u001b[0m \u001b[1;33m=\u001b[0m \u001b[0mself\u001b[0m\u001b[1;33m.\u001b[0m\u001b[0maxes\u001b[0m\u001b[1;33m.\u001b[0m\u001b[0myaxis\u001b[0m\u001b[1;33m.\u001b[0m\u001b[0mupdate_units\u001b[0m\u001b[1;33m(\u001b[0m\u001b[0my\u001b[0m\u001b[1;33m)\u001b[0m\u001b[1;33m\u001b[0m\u001b[1;33m\u001b[0m\u001b[0m\n\u001b[0m\u001b[0;32m    206\u001b[0m \u001b[1;33m\u001b[0m\u001b[0m\n\u001b[0;32m    207\u001b[0m             \u001b[1;32mif\u001b[0m \u001b[0mself\u001b[0m\u001b[1;33m.\u001b[0m\u001b[0mcommand\u001b[0m \u001b[1;33m!=\u001b[0m \u001b[1;34m'plot'\u001b[0m\u001b[1;33m:\u001b[0m\u001b[1;33m\u001b[0m\u001b[1;33m\u001b[0m\u001b[0m\n",
      "\u001b[1;32m~\\Anaconda3\\lib\\site-packages\\matplotlib\\axis.py\u001b[0m in \u001b[0;36mupdate_units\u001b[1;34m(self, data)\u001b[0m\n\u001b[0;32m   1465\u001b[0m         \"\"\"\n\u001b[0;32m   1466\u001b[0m \u001b[1;33m\u001b[0m\u001b[0m\n\u001b[1;32m-> 1467\u001b[1;33m         \u001b[0mconverter\u001b[0m \u001b[1;33m=\u001b[0m \u001b[0mmunits\u001b[0m\u001b[1;33m.\u001b[0m\u001b[0mregistry\u001b[0m\u001b[1;33m.\u001b[0m\u001b[0mget_converter\u001b[0m\u001b[1;33m(\u001b[0m\u001b[0mdata\u001b[0m\u001b[1;33m)\u001b[0m\u001b[1;33m\u001b[0m\u001b[1;33m\u001b[0m\u001b[0m\n\u001b[0m\u001b[0;32m   1468\u001b[0m         \u001b[1;32mif\u001b[0m \u001b[0mconverter\u001b[0m \u001b[1;32mis\u001b[0m \u001b[1;32mNone\u001b[0m\u001b[1;33m:\u001b[0m\u001b[1;33m\u001b[0m\u001b[1;33m\u001b[0m\u001b[0m\n\u001b[0;32m   1469\u001b[0m             \u001b[1;32mreturn\u001b[0m \u001b[1;32mFalse\u001b[0m\u001b[1;33m\u001b[0m\u001b[1;33m\u001b[0m\u001b[0m\n",
      "\u001b[1;32m~\\Anaconda3\\lib\\site-packages\\matplotlib\\units.py\u001b[0m in \u001b[0;36mget_converter\u001b[1;34m(self, x)\u001b[0m\n\u001b[0;32m    179\u001b[0m                 if (not isinstance(next_item, np.ndarray) or\n\u001b[0;32m    180\u001b[0m                         next_item.shape != x.shape):\n\u001b[1;32m--> 181\u001b[1;33m                     \u001b[0mconverter\u001b[0m \u001b[1;33m=\u001b[0m \u001b[0mself\u001b[0m\u001b[1;33m.\u001b[0m\u001b[0mget_converter\u001b[0m\u001b[1;33m(\u001b[0m\u001b[0mnext_item\u001b[0m\u001b[1;33m)\u001b[0m\u001b[1;33m\u001b[0m\u001b[1;33m\u001b[0m\u001b[0m\n\u001b[0m\u001b[0;32m    182\u001b[0m                 \u001b[1;32mreturn\u001b[0m \u001b[0mconverter\u001b[0m\u001b[1;33m\u001b[0m\u001b[1;33m\u001b[0m\u001b[0m\n\u001b[0;32m    183\u001b[0m \u001b[1;33m\u001b[0m\u001b[0m\n",
      "\u001b[1;32m~\\Anaconda3\\lib\\site-packages\\matplotlib\\units.py\u001b[0m in \u001b[0;36mget_converter\u001b[1;34m(self, x)\u001b[0m\n\u001b[0;32m    185\u001b[0m         \u001b[1;32mif\u001b[0m \u001b[0mconverter\u001b[0m \u001b[1;32mis\u001b[0m \u001b[1;32mNone\u001b[0m\u001b[1;33m:\u001b[0m\u001b[1;33m\u001b[0m\u001b[1;33m\u001b[0m\u001b[0m\n\u001b[0;32m    186\u001b[0m             \u001b[1;32mtry\u001b[0m\u001b[1;33m:\u001b[0m\u001b[1;33m\u001b[0m\u001b[1;33m\u001b[0m\u001b[0m\n\u001b[1;32m--> 187\u001b[1;33m                 \u001b[0mthisx\u001b[0m \u001b[1;33m=\u001b[0m \u001b[0msafe_first_element\u001b[0m\u001b[1;33m(\u001b[0m\u001b[0mx\u001b[0m\u001b[1;33m)\u001b[0m\u001b[1;33m\u001b[0m\u001b[1;33m\u001b[0m\u001b[0m\n\u001b[0m\u001b[0;32m    188\u001b[0m             \u001b[1;32mexcept\u001b[0m \u001b[1;33m(\u001b[0m\u001b[0mTypeError\u001b[0m\u001b[1;33m,\u001b[0m \u001b[0mStopIteration\u001b[0m\u001b[1;33m)\u001b[0m\u001b[1;33m:\u001b[0m\u001b[1;33m\u001b[0m\u001b[1;33m\u001b[0m\u001b[0m\n\u001b[0;32m    189\u001b[0m                 \u001b[1;32mpass\u001b[0m\u001b[1;33m\u001b[0m\u001b[1;33m\u001b[0m\u001b[0m\n",
      "\u001b[1;32m~\\Anaconda3\\lib\\site-packages\\matplotlib\\cbook\\__init__.py\u001b[0m in \u001b[0;36msafe_first_element\u001b[1;34m(obj)\u001b[0m\n\u001b[0;32m   1633\u001b[0m         \u001b[1;32mexcept\u001b[0m \u001b[0mTypeError\u001b[0m\u001b[1;33m:\u001b[0m\u001b[1;33m\u001b[0m\u001b[1;33m\u001b[0m\u001b[0m\n\u001b[0;32m   1634\u001b[0m             \u001b[1;32mpass\u001b[0m\u001b[1;33m\u001b[0m\u001b[1;33m\u001b[0m\u001b[0m\n\u001b[1;32m-> 1635\u001b[1;33m         raise RuntimeError(\"matplotlib does not support generators \"\n\u001b[0m\u001b[0;32m   1636\u001b[0m                            \"as input\")\n\u001b[0;32m   1637\u001b[0m     \u001b[1;32mreturn\u001b[0m \u001b[0mnext\u001b[0m\u001b[1;33m(\u001b[0m\u001b[0miter\u001b[0m\u001b[1;33m(\u001b[0m\u001b[0mobj\u001b[0m\u001b[1;33m)\u001b[0m\u001b[1;33m)\u001b[0m\u001b[1;33m\u001b[0m\u001b[1;33m\u001b[0m\u001b[0m\n",
      "\u001b[1;31mRuntimeError\u001b[0m: matplotlib does not support generators as input"
     ]
    },
    {
     "data": {
      "image/png": "[encoded data removed]",
      "text/plain": [
       "<Figure size 432x288 with 1 Axes>"
      ]
     },
     "metadata": {
      "needs_background": "light"
     },
     "output_type": "display_data"
    }
   ],
   "source": [
    "PrintL(\"Set Weights:\")\n",
    "PrintM(\"Set theta (weights) to (W[1],W[0]): \", W[1], W[0])\n",
    "theta = (W[1],W[0])\n",
    "\n",
    "\n",
    "H_x = lambda x: theta[0] + theta[1]*x\n",
    "\n",
    "plt.plot(X,R, '.')\n",
    "X_plt = np.arange(-RANGE,RANGE, 0.1)\n",
    "\n",
    "\n",
    "plt.plot(X_plt, Y_plt)"
   ]
  },
  {
   "cell_type": "code",
   "execution_count": null,
   "metadata": {},
   "outputs": [],
   "source": [
    "\n",
    "\n",
    "\n",
    "\n",
    "from numpy.linalg import lstsq\n",
    "print(lstsq(X_1, R)[0])"
   ]
  },
  {
   "cell_type": "code",
   "execution_count": null,
   "metadata": {},
   "outputs": [],
   "source": [
    "theta = (0,0)\n",
    "#theta=(10,2)\n",
    "print (theta)\n",
    "Y = map(H_x, X)\n",
    "print ( sum ([(r-H_x(x))**2 for x,r in zip(X,R)] ))\n",
    "\n",
    "plt.plot(X,R, '.')\n",
    "X_plt = np.arange(-RANGE,RANGE, 0.1)\n",
    "\n",
    "Y_plt = map(H_x,X_plt)\n",
    "plt.plot(X_plt, Y_plt)"
   ]
  },
  {
   "cell_type": "code",
   "execution_count": null,
   "metadata": {},
   "outputs": [],
   "source": [
    "alpha = 0.0001\n",
    "print (theta)\n",
    "\n",
    "w0Grad = -2*sum(R-H_x(X))/len(X)\n",
    "w1Grad = -2*sum( (R-H_x(X))*X )/len(X)\n",
    "\n",
    "print (\"Gradient: \", w0Grad, w1Grad)\n",
    "theta = theta[0]-alpha*w0Grad, theta[1]-alpha*w1Grad\n",
    "print (\"Theta: \", theta)\n",
    "\n",
    "Y = H_x(X)\n",
    "print ( sum ([(r-H_x(x))**2 for x,r in zip(X,R)] ))\n",
    "\n",
    "plt.plot(X,R, '.')\n",
    "X_plt = np.arange(-RANGE,RANGE, 0.1)\n",
    "\n",
    "Y_plt = map(H_x,X_plt)\n",
    "plt.plot(X_plt, Y_plt)"
   ]
  },
  {
   "cell_type": "code",
   "execution_count": null,
   "metadata": {},
   "outputs": [],
   "source": [
    "rate = 0.0001\n",
    "#rate = 1\n",
    "X = np.array([ [1, 2, 3], [1,3,4], [1,4,5] , [1,5,6] , [1,6,7], [1,8,9]])\n",
    "c = [1, 2, 3]\n",
    "R = np.array([14, 19, 24, 29, 34, 44])\n",
    "w = np.array([0,0,0])\n",
    "g = np.array([0,0,0])\n",
    "e = 0\n",
    "for x, r in zip(X,R):\n",
    "    print (\"input: \", x)\n",
    "    print (\"required output: \", r)\n",
    "    print (\"Y, Derivative: \", sum(w*x), -2*(r-sum(w*x)))\n",
    "    g = g + (-2*(r-sum(w*x)) * x)\n",
    "    e = e + (r-sum(w*x))**2\n",
    "    print (\"gradient: \", g)\n",
    "\n",
    "print (g/len(X))\n",
    "print (\"Error: \", e/len(X))\n",
    "w1 = w - g*rate\n",
    "print (w1)\n",
    "e=0\n",
    "for x, r in zip(X,R):\n",
    "    e = (r-sum(w1*x))**2\n",
    "print (\"Revised Error: \", e/len(X))\n",
    "iterations = 1"
   ]
  },
  {
   "cell_type": "code",
   "execution_count": null,
   "metadata": {},
   "outputs": [],
   "source": [
    "wF = [ 0.43322452,  2.30207072,  2.73529524]  #50 iterations\n",
    "w = w1\n",
    "g = np.array([0,0,0])\n",
    "e = 0\n",
    "for x, r in zip(X,R):\n",
    "    print (\"input: \", x)\n",
    "    print (\"required output: \", r)\n",
    "    print (\"Y, Derivative: \", sum(w*x), -2*(r-sum(w*x)))\n",
    "    g = g + (-2*(r-sum(w*x)) * x)\n",
    "    e = e + (r-sum(w*x))**2\n",
    "    print (\"gradient: \", g)\n",
    "\n",
    "print (g/len(X))\n",
    "print (\"Error: \", e/len(X))\n",
    "w1 = w - g*rate\n",
    "print (w1)\n",
    "e=0\n",
    "for x, r in zip(X,R):\n",
    "    e = (r-sum(w1*x))**2\n",
    "print (\"Revised Error: \", e/len(X))\n",
    "iterations = iterations + 1\n",
    "print (\"Iterations: \", iterations)"
   ]
  },
  {
   "cell_type": "code",
   "execution_count": null,
   "metadata": {},
   "outputs": [],
   "source": [
    "wF = [ 0.06315024,  0.33956832,  0.40271856]\n",
    "wF = [ 0.43322452,  2.30207072,  2.73529524]  #50 iterations\n",
    "pX = [x for (a,x,y) in X ]\n",
    "pY = R\n",
    "plt.axis([0,10, 0, 50])\n",
    "plt.plot(pX, pY, \"ko\")\n",
    "wFun = lambda ws, p: (wF[0]+wF[1]*p[1]+wF[2]*p[2])\n",
    "pX = [x for (a,x,y) in X]\n",
    "pY = [wFun(wF, p) for p in X ]\n",
    "print (pX, pY)\n",
    "plt.plot(pX, pY, \"k-\")"
   ]
  },
  {
   "cell_type": "code",
   "execution_count": 94,
   "metadata": {},
   "outputs": [
    {
     "name": "stdout",
     "output_type": "stream",
     "text": [
      "0.5\n",
      "0.9999546021312976\n",
      "4.5397868702434395e-05\n",
      "[-10, -9, -8, -7, -6, -5, -4, -3, -2, -1, 0, 1, 2, 3, 4, 5, 6, 7, 8, 9] [4.5397868702434395e-05, 0.00012339457598623172, 0.0003353501304664781, 0.0009110511944006454, 0.0024726231566347743, 0.0066928509242848554, 0.01798620996209156, 0.04742587317756678, 0.11920292202211755, 0.2689414213699951, 0.5, 0.7310585786300049, 0.8807970779778823, 0.9525741268224334, 0.9820137900379085, 0.9933071490757153, 0.9975273768433653, 0.9990889488055994, 0.9996646498695336, 0.9998766054240137]\n"
     ]
    },
    {
     "data": {
      "text/plain": [
       "[<matplotlib.lines.Line2D at 0x24c8c38d780>]"
      ]
     },
     "execution_count": 94,
     "metadata": {},
     "output_type": "execute_result"
    },
    {
     "data": {
      "image/png": "[encoded data removed]",
      "text/plain": [
       "<Figure size 432x288 with 1 Axes>"
      ]
     },
     "metadata": {
      "needs_background": "light"
     },
     "output_type": "display_data"
    }
   ],
   "source": [
    "import math\n",
    "sigmoid = lambda y: 1.0/(1+math.exp(-y))\n",
    "print (sigmoid(0))\n",
    "print (sigmoid(10))\n",
    "print (sigmoid(-10))\n",
    "\n",
    "slog = lambda x: 0 if x==0 else math.log(x)\n",
    "CrossEntropy = lambda r, y: -1*(r*slog(y) + (1-r)*slog(1-y))\n",
    "\n",
    "pX = [x for x in range(-10,10)]\n",
    "pY = [sigmoid(x) for x in range(-10,10) ]\n",
    "print (pX, pY)\n",
    "plt.plot(pX, pY, \"k-\")"
   ]
  },
  {
   "cell_type": "code",
   "execution_count": 103,
   "metadata": {},
   "outputs": [
    {
     "name": "stdout",
     "output_type": "stream",
     "text": [
      "input:  [1 2 3]\n",
      "required output:  0\n",
      "w*x [0 0 0]\n",
      "Y, Sigmoid(Y), Derivative:  0 0.5 0.5\n",
      "e:  0.6931471805599453\n",
      "gradient:  [0.5 1.  1.5]\n",
      "input:  [1 3 4]\n",
      "required output:  0\n",
      "w*x [0 0 0]\n",
      "Y, Sigmoid(Y), Derivative:  0 0.5 0.5\n",
      "e:  1.3862943611198906\n",
      "gradient:  [1.  2.5 3.5]\n",
      "input:  [1 4 5]\n",
      "required output:  0\n",
      "w*x [0 0 0]\n",
      "Y, Sigmoid(Y), Derivative:  0 0.5 0.5\n",
      "e:  2.0794415416798357\n",
      "gradient:  [1.5 4.5 6. ]\n",
      "input:  [1 5 6]\n",
      "required output:  1\n",
      "w*x [0 0 0]\n",
      "Y, Sigmoid(Y), Derivative:  0 0.5 -0.5\n",
      "e:  2.772588722239781\n",
      "gradient:  [1. 2. 3.]\n",
      "input:  [1 6 7]\n",
      "required output:  1\n",
      "w*x [0 0 0]\n",
      "Y, Sigmoid(Y), Derivative:  0 0.5 -0.5\n",
      "e:  3.4657359027997265\n",
      "gradient:  [ 0.5 -1.  -0.5]\n",
      "input:  [1 8 9]\n",
      "required output:  1\n",
      "w*x [0 0 0]\n",
      "Y, Sigmoid(Y), Derivative:  0 0.5 -0.5\n",
      "e:  4.1588830833596715\n",
      "gradient:  [ 0. -5. -5.]\n",
      "[ 0.         -0.83333333 -0.83333333]\n",
      "Error:  0.6931471805599453\n",
      "[0.  0.1 0.1]\n",
      "Revised Error:  0.6690911193553902\n"
     ]
    }
   ],
   "source": [
    "rate = 0.020\n",
    "#rate = 1\n",
    "X = np.array([ [1, 2, 3], [1,3,4], [1,4,5] , [1,5,6] , [1,6,7], [1,8,9]])\n",
    "R = np.array([0, 0, 0, 1, 1, 1])\n",
    "w = np.array([0,0,0])\n",
    "g = np.array([0,0,0])\n",
    "e = 0\n",
    "\n",
    "for x, r in zip(X,R):\n",
    "    print (\"input: \", x)\n",
    "    print (\"required output: \", r)\n",
    "    print('w*x', w*x)\n",
    "    print (\"Y, Sigmoid(Y), Derivative: \", sum(w*x), sigmoid(sum(w*x)), -(r-sigmoid(sum(w*x))) )\n",
    "    g = g + (-(r-sigmoid(sum(w*x))) * x)\n",
    "    e = e + CrossEntropy(r,sigmoid(sum(w*x)))\n",
    "    print(\"e: \",e)\n",
    "    print (\"gradient: \", g)\n",
    "\n",
    "print (g/len(X))\n",
    "print (\"Error: \", e/len(X))\n",
    "w1 = w - g*rate\n",
    "print (w1)\n",
    "e=0\n",
    "for x, r in zip(X,R):\n",
    "    e = e + CrossEntropy(r, sigmoid(sum(w1*x)))\n",
    "print (\"Revised Error: \", e/len(X))\n",
    "iterations = 1"
   ]
  },
  {
   "cell_type": "code",
   "execution_count": null,
   "metadata": {},
   "outputs": [],
   "source": [
    "wF = [ 0. ,        -0.83333333, -0.83333333]\n",
    "wF = [-0.65004852,  0.46679243, -0.18325608]\n",
    "wF = [-1.30847755,  0.88594056, -0.42253699] # 100 iterations\n",
    "xPositive = [[1,5,6] , [1,6,7], [1,8,9]]\n",
    "pX = [x for (a,x,y) in X if [a,x,y] in xPositive]\n",
    "pY = [y for (a,x,y) in X if [a,x,y] in xPositive]\n",
    "plt.axis([0,20, -20, 20])\n",
    "plt.plot(pX, pY, \"ro\")\n",
    "pX = [x for (a,x,y) in X if [a,x,y] not in xPositive]\n",
    "pY = [y for (a,x,y) in X if [a,x,y] not in xPositive]\n",
    "plt.plot(pX, pY, \"bo\")\n",
    "\n",
    "wFun = lambda ws, p: (wF[0]+wF[1]*p[1])/-wF[2]\n",
    "pX = [x for (a,x,y) in X]\n",
    "pY = [wFun(wF, p) for p in X ]\n",
    "print (pX, pY)\n",
    "plt.plot(pX, pY, \"k-\")\n",
    "\n",
    "for x, r in zip(X,R):\n",
    "    print (\"input: \", x)\n",
    "    print (\"required output: \", r)\n",
    "    print (\"wx, Y: \", sum(wF*x), sigmoid(sum(wF*x)) )\n"
   ]
  },
  {
   "cell_type": "code",
   "execution_count": 99,
   "metadata": {},
   "outputs": [
    {
     "name": "stdout",
     "output_type": "stream",
     "text": [
      "[-0.02766453  0.05352263  0.02585811]\n",
      "input:  [1 2 3]\n",
      "w:  [-0.02766453  0.05352263  0.02585811]\n",
      "required output:  0\n",
      "Y, Derivative:  0.5391584084322553 0.5391584084322553\n",
      "gradient:  [0.53915841 1.07831682 1.61747523]\n",
      "input:  [1 3 4]\n",
      "w:  [-0.02766453  0.05352263  0.02585811]\n",
      "required output:  0\n",
      "Y, Derivative:  0.5588104671220999 0.5588104671220999\n",
      "gradient:  [1.09796888 2.75474822 3.85271709]\n",
      "input:  [1 4 5]\n",
      "w:  [-0.02766453  0.05352263  0.02585811]\n",
      "required output:  0\n",
      "Y, Derivative:  0.5782799857646523 0.5782799857646523\n",
      "gradient:  [1.67624886 5.06786816 6.74411702]\n",
      "input:  [1 5 6]\n",
      "w:  [-0.02766453  0.05352263  0.02585811]\n",
      "required output:  1\n",
      "Y, Derivative:  0.5975091598973378 -0.40249084010266223\n",
      "gradient:  [1.27375802 3.05541396 4.32917198]\n",
      "input:  [1 6 7]\n",
      "w:  [-0.02766453  0.05352263  0.02585811]\n",
      "required output:  1\n",
      "Y, Derivative:  0.6164430932673464 -0.38355690673265364\n",
      "gradient:  [0.89020111 0.75407252 1.64427363]\n",
      "input:  [1 8 9]\n",
      "w:  [-0.02766453  0.05352263  0.02585811]\n",
      "required output:  1\n",
      "Y, Derivative:  0.6532236442568664 -0.3467763557431336\n",
      "gradient:  [ 0.54342476 -2.02013833 -1.47671357]\n",
      "[ 0.09057079 -0.33668972 -0.24611893]\n",
      "Error:  0.6468343235781631\n",
      "[-0.03853302  0.0939254   0.05539238]\n",
      "Revised Error:  0.640491913241495\n",
      "Iterations:   3\n"
     ]
    }
   ],
   "source": [
    "rate = 0.02\n",
    "print (w1)\n",
    "w=w1\n",
    "g = np.array([0,0,0])\n",
    "e = 0\n",
    "for x, r in zip(X,R):\n",
    "    print (\"input: \", x)\n",
    "    print('w: ',w)\n",
    "    print (\"required output: \", r)\n",
    "    print (\"Y, Derivative: \", sigmoid(sum(w*x)), -(r-sigmoid(sum(w*x))) )\n",
    "    g = g + (-(r-sigmoid(sum(w*x))) * x)\n",
    "    e = e + CrossEntropy(r,sigmoid(sum(w*x)))\n",
    "    print (\"gradient: \", g)\n",
    "\n",
    "print (g/len(X))\n",
    "print (\"Error: \", e/len(X))\n",
    "w1 = w - g*rate\n",
    "print (w1)\n",
    "e=0\n",
    "for x, r in zip(X,R):\n",
    "    e = e + CrossEntropy(r,sigmoid(sum(w1*x)))\n",
    "print (\"Revised Error: \", e/len(X))\n",
    "iterations = iterations + 1\n",
    "print (\"Iterations:  \", iterations)"
   ]
  },
  {
   "cell_type": "code",
   "execution_count": null,
   "metadata": {},
   "outputs": [],
   "source": [
    "xPositive = [[1,5,6] , [1,6,7], [1,8,9]]\n",
    "pX = [x for (a,x,y) in X if [a,x,y] in xPositive]\n",
    "pY = [y for (a,x,y) in X if [a,x,y] in xPositive]\n",
    "plt.axis([0,10, 0, 10])\n",
    "plt.plot(pX, pY, \"ro\")\n",
    "pX = [x for (a,x,y) in X if [a,x,y] not in xPositive]\n",
    "pY = [y for (a,x,y) in X if [a,x,y] not in xPositive]\n",
    "plt.plot(pX, pY, \"bo\")\n",
    "\n",
    "wF = [-0.90969232,  0.63174364, -0.27794868]\n",
    "wFun = lambda ws, p: (wF[0]+wF[1]*p[1])/-wF[2]\n",
    "pX = [x for (a,x,y) in X]\n",
    "pY = [wFun(wF, p) for p in X ]\n",
    "print (pX, pY)\n",
    "plt.plot(pX, pY, \"k-\")\n",
    "\n",
    "w= wF\n",
    "for x, r in zip(X,R):\n",
    "    print (\"input: \", x)\n",
    "    print (\"required output: \", r)\n",
    "    print (\"wx, Y: \", sum(w*x), sigmoid(sum(w*x)) )\n"
   ]
  },
  {
   "cell_type": "code",
   "execution_count": null,
   "metadata": {},
   "outputs": [],
   "source": [
    "#340 iterations\n",
    "xPositive = [[1,5,6] , [1,6,7], [1,8,9]]\n",
    "pX = [x for (a,x,y) in X if [a,x,y] in xPositive]\n",
    "pY = [y for (a,x,y) in X if [a,x,y] in xPositive]\n",
    "plt.axis([0,10, 0, 10])\n",
    "plt.plot(pX, pY, \"ro\")\n",
    "pX = [x for (a,x,y) in X if [a,x,y] not in xPositive]\n",
    "pY = [y for (a,x,y) in X if [a,x,y] not in xPositive]\n",
    "plt.plot(pX, pY, \"bo\")\n",
    "\n",
    "wF = [-1.94183024,  1.29157013, -0.65026011]\n",
    "wFun = lambda ws, p: (wF[0]+wF[1]*p[1])/-wF[2]\n",
    "pX = [x for (a,x,y) in X]\n",
    "pY = [wFun(wF, p) for p in X ]\n",
    "print (pX, pY)\n",
    "plt.plot(pX, pY, \"k-\")\n",
    "\n",
    "w= wF\n",
    "for x, r in zip(X,R):\n",
    "    print (\"input: \", x)\n",
    "    print (\"required output: \", r)\n",
    "    print (\"wx, Y: \", sum(w*x), sigmoid(sum(w*x)) )\n"
   ]
  },
  {
   "cell_type": "code",
   "execution_count": null,
   "metadata": {},
   "outputs": [],
   "source": [
    "wF = [-11.2784868 ,  7.3432829 , -3.9352039] #6477\n",
    "wF = [-11.0 ,  7.0 , -4.0] #6477\n",
    "\n",
    "xPositive = [[1,5,6] , [1,6,7], [1,8,9]]\n",
    "pX = [x for (a,x,y) in X if [a,x,y] in xPositive]\n",
    "pY = [y for (a,x,y) in X if [a,x,y] in xPositive]\n",
    "plt.axis([0,10, 0, 10])\n",
    "plt.plot(pX, pY, \"ro\")\n",
    "pX = [x for (a,x,y) in X if [a,x,y] not in xPositive]\n",
    "pY = [y for (a,x,y) in X if [a,x,y] not in xPositive]\n",
    "plt.plot(pX, pY, \"bo\")\n",
    "\n",
    "wFun = lambda ws, p: (wF[0]+wF[1]*p[1])/-wF[2]\n",
    "pX = [x for (a,x,y) in X]\n",
    "pY = [wFun(wF, p) for p in X ]\n",
    "print (pX, pY)\n",
    "plt.plot(pX, pY, \"k-\")\n",
    "\n",
    "wF = [-23.14034607 , 15.05128403 , -8.08906203] #55677\n",
    "wF = [-23.0, 15.0, -8.0]\n",
    "wFun = lambda ws, p: (wF[0]+wF[1]*p[1])/-wF[2]\n",
    "pX = [x for (a,x,y) in X]\n",
    "pY = [wFun(wF, p) for p in X ]\n",
    "print (pX, pY)\n",
    "plt.plot(pX, pY, \"m-\")\n",
    "\n",
    "w= wF\n",
    "for x, r in zip(X,R):\n",
    "    print (\"input: \", x)\n",
    "    print (\"required output: \", r)\n",
    "    print (\"wx, Y: \", sum(w*x), sigmoid(sum(w*x)) )\n"
   ]
  },
  {
   "cell_type": "code",
   "execution_count": null,
   "metadata": {},
   "outputs": [],
   "source": [
    "rate = 0.02\n",
    "print (w1)\n",
    "for i in range(1000):\n",
    "    w=w1\n",
    "    g = np.array([0,0,0])\n",
    "    e = 0\n",
    "    for x, r in zip(X,R):\n",
    "        g = g + (-(r-sigmoid(sum(w*x))) * x)\n",
    "        e = e + CrossEntropy(r,sigmoid(sum(w*x)))\n",
    "    w1 = w - g*rate\n",
    "    iterations = iterations + 1\n",
    "for x, r in zip(X,R):\n",
    "    e = e + CrossEntropy(r,sigmoid(sum(w1*x)))\n",
    "print (\"Revised Error: \", e/len(X))\n",
    "print (\"Iterations: \", iterations)\n",
    "\n"
   ]
  }
 ],
 "metadata": {
  "kernelspec": {
   "display_name": "Python 3",
   "language": "python",
   "name": "python3"
  },
  "language_info": {
   "codemirror_mode": {
    "name": "ipython",
    "version": 3
   },
   "file_extension": ".py",
   "mimetype": "text/x-python",
   "name": "python",
   "nbconvert_exporter": "python",
   "pygments_lexer": "ipython3",
   "version": "3.6.8"
  }
 },
 "nbformat": 4,
 "nbformat_minor": 1
}
