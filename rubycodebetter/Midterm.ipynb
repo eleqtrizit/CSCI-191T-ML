{
 "cells": [
  {
   "cell_type": "code",
   "execution_count": 1,
   "metadata": {},
   "outputs": [],
   "source": [
    "# To support both python 2 and python 3\n",
    "from __future__ import division, print_function, unicode_literals\n",
    "\n",
    "# Common imports\n",
    "import numpy as np\n",
    "import os\n",
    "\n",
    "# to make this notebook's output stable across runs\n",
    "np.random.seed(42)\n",
    "\n",
    "# To plot pretty figures\n",
    "%matplotlib inline\n",
    "import matplotlib\n",
    "import matplotlib.pyplot as plt\n",
    "\n",
    "\n",
    "import pandas as pd\n",
    "import random\n",
    "\n",
    "from IPython.display import HTML, display\n",
    "#import tabulate\n",
    "\n",
    "def PrintXL(*arg):\n",
    "    html=\"<span style='font-size: 22px;font-weight:700'>\"\n",
    "    for a in arg:\n",
    "        html += str(a)\n",
    "    html +=\"</span>\"\n",
    "    display(HTML(html))\n",
    "    \n",
    "def PrintL(*arg):\n",
    "    html=\"<span style='font-size: 18px;font-weight:700'>\"\n",
    "    for a in arg:\n",
    "        html += str(a)\n",
    "    html +=\"</span>\"\n",
    "    display(HTML(html))\n",
    "    \n",
    "def PrintM(*arg):\n",
    "    html=\"<div width='100%'' style='font-size: 15px;font-weight:500; line-height:14px'>\"\n",
    "    for a in arg:\n",
    "        html += str(a)\n",
    "    html +=\"</div>\"\n",
    "    display(HTML(html))\n",
    "    \n",
    "import math\n",
    "sigmoid = lambda y: 1.0/(1+math.exp(-y))"
   ]
  },
  {
   "cell_type": "markdown",
   "metadata": {},
   "source": [
    "## Hypothesis Function For One Feature\n",
    "<img src=\"./files/hypothesis.png\">\n",
    "<br><br>\n",
    "\n",
    "## Hypothesis Function for Many Features\n",
    "<img src=\"./files/bighyp.png\">\n",
    "<br><br>\n",
    "\n",
    "### Update Weights\n",
    "### α = learning rate\n",
    "\n",
    "<img src=\"./files/gradientdescent.png\">\n",
    "<br><br>\n",
    "\n",
    "You have to take the partial derivate of the cost function, relative to the theta you are currently updating.<br>\n",
    "You have to update all thetas at the same time.  The update of one theta cannot interfere with the update of another.<br>"
   ]
  },
  {
   "cell_type": "markdown",
   "metadata": {},
   "source": [
    "# Cost Function\n",
    "\n",
    "<img src=\"./files/costfunction.png\">\n",
    "\n"
   ]
  },
  {
   "cell_type": "code",
   "execution_count": 2,
   "metadata": {},
   "outputs": [],
   "source": [
    "# b and m are weights\n",
    "# X are features (ex sq ft of house)\n",
    "# Y are answers (ex price of house)\n",
    "# hypothesis =    hθ = mx+b   ..same as..   hθ = θ(0) + θ(1)x\n",
    "def costFunction(b,m, X, Y):\n",
    "    sumOfSE=0\n",
    "    n = float(len(X))  # I use m above but whatev\n",
    "    for x,y in zip(xs,ys):\n",
    "        hypothesis = m*x+b\n",
    "        error = y - hypothesis\n",
    "        squaredError = error**2\n",
    "        sumOfSE += squaredError\n",
    "    cost = 1/n * sumOfSE\n",
    "    return cost;"
   ]
  },
  {
   "cell_type": "markdown",
   "metadata": {},
   "source": [
    "\n"
   ]
  },
  {
   "cell_type": "code",
   "execution_count": 3,
   "metadata": {},
   "outputs": [
    {
     "data": {
      "text/html": [
       "<span style='font-size: 18px;font-weight:700'>Starting Weights:</span>"
      ],
      "text/plain": [
       "<IPython.core.display.HTML object>"
      ]
     },
     "metadata": {},
     "output_type": "display_data"
    },
    {
     "data": {
      "text/html": [
       "<div width='100%'' style='font-size: 15px;font-weight:500; line-height:14px'>θ(0) aka b = 0<br>θ(1) aka m = 0</div>"
      ],
      "text/plain": [
       "<IPython.core.display.HTML object>"
      ]
     },
     "metadata": {},
     "output_type": "display_data"
    },
    {
     "data": {
      "text/html": [
       "<span style='font-size: 18px;font-weight:700'>After 1 interation(s):</span>"
      ],
      "text/plain": [
       "<IPython.core.display.HTML object>"
      ]
     },
     "metadata": {},
     "output_type": "display_data"
    },
    {
     "data": {
      "text/html": [
       "<div width='100%'' style='font-size: 15px;font-weight:500; line-height:14px'>θ(0) aka b = 0.28<br>θ(1) aka m = 0.6133333333333333<br>Cost = 51.666666666666664</div>"
      ],
      "text/plain": [
       "<IPython.core.display.HTML object>"
      ]
     },
     "metadata": {},
     "output_type": "display_data"
    },
    {
     "data": {
      "text/html": [
       "<span style='font-size: 18px;font-weight:700'>After 2 interation(s):</span>"
      ],
      "text/plain": [
       "<IPython.core.display.HTML object>"
      ]
     },
     "metadata": {},
     "output_type": "display_data"
    },
    {
     "data": {
      "text/html": [
       "<div width='100%'' style='font-size: 15px;font-weight:500; line-height:14px'>θ(0) aka b = 0.49973333333333336<br>θ(1) aka m = 1.0897777777777777<br>Cost = 31.458607407407403</div>"
      ],
      "text/plain": [
       "<IPython.core.display.HTML object>"
      ]
     },
     "metadata": {},
     "output_type": "display_data"
    },
    {
     "data": {
      "image/png": "[encoded data removed]",
      "text/plain": [
       "<Figure size 432x288 with 1 Axes>"
      ]
     },
     "metadata": {
      "needs_background": "light"
     },
     "output_type": "display_data"
    }
   ],
   "source": [
    "# don't worry about any of this\n",
    "# https://scriptverse.academy/tutorials/python-matplotlib-plot-straight-line.html\n",
    "def elPlotto(m,b,xs,ys,show):\n",
    "    x = np.linspace(0,5,65)\n",
    "    y=m*x+b\n",
    "    plt.plot(xs,ys, '.')\n",
    "    plt.plot(x,y,'-r')\n",
    "    if show is True:\n",
    "        plt.show()\n",
    "\n",
    "## this code is written to be human readable and look like the formulas.\n",
    "# other versions of this would try to be effecient for Python, not a humans\n",
    "# b and m are weights\n",
    "# X are features (ex sq ft of house)\n",
    "# Y are answers (ex price of house)\n",
    "# hypothesis =    hθ = mx+b   ..same as..   hθ = θ(0) + θ(1)x\n",
    "def updateWeights(b,m, xs, ys, learning_rate):\n",
    "    #print(X,Y,xs,ys)\n",
    "    bDerivativeSum=0\n",
    "    mDerivativeSum=0\n",
    "    n = float(len(xs))\n",
    "    for x,y in zip(xs,ys):\n",
    "        hypothesis = m*x+b\n",
    "        error = y - hypothesis\n",
    "        # Calculate partial derivatives\n",
    "        # -2(y - (mx + b))\n",
    "        bDerivativeSum +=  - (error)      \n",
    "        # -2(y - (mx + b)) * x\n",
    "        mDerivativeSum +=  - (error * x)\n",
    "        \n",
    "    cost=costFunction(b,m,xs,ys)\n",
    "\n",
    "    # We subtract because the derivatives point in direction of steepest ascent\n",
    "    # equation to adjust the weights is \n",
    "    #   b = b - learningRate*sum\n",
    "    #   m = m - learningRate*sum * x\n",
    "    # They must be updated simultaneously, which is why we use derivative variables\n",
    "    b = b  -  2/n * bDerivativeSum * learning_rate\n",
    "    m = m  -  2/n * mDerivativeSum * learning_rate\n",
    "   \n",
    "\n",
    "    return [b,m,cost]\n",
    "\n",
    "# some of the below is just restated for ease of reading\n",
    "# alpha is the learning rate\n",
    "b=0  \n",
    "m=0\n",
    "alpha=0.02\n",
    "cost=0\n",
    "xs = np.array([1, 2, 3])\n",
    "ys = np.array([5, 7, 9])\n",
    "iterations=2\n",
    "\n",
    "elPlotto(m,b,xs,ys,False)\n",
    "\n",
    "PrintL(\"Starting Weights:\")\n",
    "PrintM('θ(0) aka b = ',b, '<br>θ(1) aka m = ',m)\n",
    "\n",
    "for i in range(iterations):\n",
    "    [b,m,cost] = updateWeights(b,m,xs,ys,alpha)\n",
    "    elPlotto(m,b,xs,ys,False)\n",
    "    PrintL(f\"After {i+1} interation(s):\")\n",
    "    PrintM('θ(0) aka b = ',b, '<br>θ(1) aka m = ',m,\"<br>Cost = \", cost)\n",
    "\n"
   ]
  },
  {
   "cell_type": "markdown",
   "metadata": {},
   "source": [
    "# Logistic Regression\n",
    "<img src=\"./files/crossentropy.png\">"
   ]
  },
  {
   "cell_type": "code",
   "execution_count": 4,
   "metadata": {},
   "outputs": [
    {
     "name": "stdout",
     "output_type": "stream",
     "text": [
      "4.1588830833596715\n"
     ]
    }
   ],
   "source": [
    "import numpy as np\n",
    "import math\n",
    "\n",
    "\n",
    "def sigmoid(z):\n",
    "    return 1.0/(1+math.exp(-z))\n",
    "\n",
    "def crossEntropy(features, targets, weights):\n",
    "    ce = 0\n",
    "    for x, t in zip(features, targets):\n",
    "        h = sigmoid(sum(weights*x))\n",
    "        ce = ce + -1*(t*slog(h) + (1-t)*slog(1-h))\n",
    "    return ce\n",
    "\n",
    "def hypothesis(ws, x):\n",
    "    return sigmoid(sum(np.dot(ws, x)))\n",
    "\n",
    "\n",
    "def costFunctionLogReg(theta):\n",
    "    if (y == 1):\n",
    "        -1 * math.log(hypothesis(x))\n",
    "    else:\n",
    "        -1 * math.log(1 - hypothesis(x))\n",
    "\n",
    "\n",
    "def logit(x):\n",
    "    odds = sigmoid(x) / (1 - sigmoid(x))\n",
    "\n",
    "\n",
    "def slog(x):\n",
    "    return 0 if x == 0 else math.log(x)\n",
    "\n",
    "\n",
    "\n",
    "\n",
    "\n",
    "features = np.array([[1, 2, 3], [1, 3, 4], [1, 4, 5],\n",
    "                     [1, 5, 6], [1, 6, 7], [1, 8, 9]])\n",
    "targets = np.array([0, 0, 0, 1, 1, 1])\n",
    "weights = np.array([0, 0, 0])\n",
    "g = np.array([0, 0, 0])\n",
    "e = 0\n",
    "rate = 0.020\n",
    "\n",
    "e = crossEntropy(features, targets, weights)\n",
    "print(e)\n"
   ]
  },
  {
   "cell_type": "code",
   "execution_count": null,
   "metadata": {},
   "outputs": [],
   "source": []
  },
  {
   "cell_type": "code",
   "execution_count": null,
   "metadata": {},
   "outputs": [],
   "source": []
  },
  {
   "cell_type": "code",
   "execution_count": null,
   "metadata": {},
   "outputs": [],
   "source": []
  },
  {
   "cell_type": "code",
   "execution_count": null,
   "metadata": {},
   "outputs": [],
   "source": []
  }
 ],
 "metadata": {
  "kernelspec": {
   "display_name": "Python 3",
   "language": "python",
   "name": "python3"
  },
  "language_info": {
   "codemirror_mode": {
    "name": "ipython",
    "version": 3
   },
   "file_extension": ".py",
   "mimetype": "text/x-python",
   "name": "python",
   "nbconvert_exporter": "python",
   "pygments_lexer": "ipython3",
   "version": "3.6.8"
  }
 },
 "nbformat": 4,
 "nbformat_minor": 2
}
