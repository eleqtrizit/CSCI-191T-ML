{
 "cells": [
  {
   "cell_type": "markdown",
   "metadata": {},
   "source": [
    "# Decision Trees 3 (expanded)\n"
   ]
  },
  {
   "cell_type": "code",
   "execution_count": null,
   "metadata": {},
   "outputs": [],
   "source": []
  },
  {
   "cell_type": "code",
   "execution_count": 12,
   "metadata": {},
   "outputs": [
    {
     "data": {
      "text/html": [
       "<div style='width: 100%; padding-bottom: 10px'><span style='font-size: 22px;font-weight:700'>Test</span></div>"
      ],
      "text/plain": [
       "<IPython.core.display.HTML object>"
      ]
     },
     "metadata": {},
     "output_type": "display_data"
    },
    {
     "data": {
      "text/html": [
       "<div style='width: 100%; padding-bottom: 10px'><span style='font-weight:700'>title:</span> &nbsp;&nbsp;[ 1.0 &nbsp; 2.0 &nbsp; 3.568 &nbsp;  ] </div>"
      ],
      "text/plain": [
       "<IPython.core.display.HTML object>"
      ]
     },
     "metadata": {},
     "output_type": "display_data"
    },
    {
     "data": {
      "text/html": [
       "<div style='width: 100%; padding-bottom: 10px'><span style='font-weight:700'>title:</span> &nbsp;&nbsp;text</div>"
      ],
      "text/plain": [
       "<IPython.core.display.HTML object>"
      ]
     },
     "metadata": {},
     "output_type": "display_data"
    }
   ],
   "source": [
    "from __future__ import division, unicode_literals\n",
    "import math\n",
    "import pandas as pd\n",
    "from IPython.display import HTML, display\n",
    "#import tabulate\n",
    "\n",
    "def BigTitle(title):\n",
    "    html=\"<div style='width: 100%; padding-bottom: 10px'><span style='font-size: 22px;font-weight:700'>\" + title + \"</span>\"\n",
    "    html +=\"</div>\"\n",
    "    display(HTML(html))\n",
    "    \n",
    "def EasyRead(title,text):\n",
    "    html=\"<div style='width: 100%; padding-bottom: 10px'><span style='font-weight:700'>\" + title + \":</span> &nbsp;&nbsp;\"\n",
    "    if type(text) is str:\n",
    "        html += text\n",
    "    elif type(text) is int:\n",
    "        html += str(text)\n",
    "    elif type(text) is float:\n",
    "        html += str(round(text,5))\n",
    "    else:\n",
    "        html += \"[ \"\n",
    "        for t in text:\n",
    "            if type(t) is int:\n",
    "                t = float(t)\n",
    "            if type(t) is list:\n",
    "                html += \" [ \"\n",
    "                for tt in t:\n",
    "                    html += str(round(tt,5)) + \" &nbsp; \"\n",
    "                html += \"] &nbsp; \"\n",
    "            else:\n",
    "                html += str(round(t,5)) + \" &nbsp; \"\n",
    "        html += \" ] \"\n",
    "        \n",
    "    html +=\"</div>\"\n",
    "    display(HTML(html))\n",
    "    \n",
    "BigTitle(\"Test\")\n",
    "EasyRead(\"title\",[1,2,3.568])\n",
    "EasyRead(\"title\",\"text\")"
   ]
  },
  {
   "cell_type": "markdown",
   "metadata": {},
   "source": [
    "## Variable Names\n",
    "#### L: List of values\n",
    "#### N: sum of values\n",
    "#### P: Probabilities\n",
    "A probability is the percentage of the total N from any element in the List (l of L)<br>\n",
    "&nbsp;&nbsp;&nbsp;_i.e. l/N_\n",
    "\n"
   ]
  },
  {
   "cell_type": "code",
   "execution_count": 13,
   "metadata": {},
   "outputs": [
    {
     "data": {
      "text/html": [
       "<div style='width: 100%; padding-bottom: 10px'><span style='font-weight:700'>l of L:</span> &nbsp;&nbsp;[ 5554.0 &nbsp; 6296.0 &nbsp; 5590.0 &nbsp; 5707.0 &nbsp; 5496.0 &nbsp; 5027.0 &nbsp; 5469.0 &nbsp; 5817.0 &nbsp; 5434.0 &nbsp; 5610.0 &nbsp;  ] </div>"
      ],
      "text/plain": [
       "<IPython.core.display.HTML object>"
      ]
     },
     "metadata": {},
     "output_type": "display_data"
    },
    {
     "data": {
      "text/html": [
       "<div style='width: 100%; padding-bottom: 10px'><span style='font-weight:700'>N:</span> &nbsp;&nbsp;56000.0</div>"
      ],
      "text/plain": [
       "<IPython.core.display.HTML object>"
      ]
     },
     "metadata": {},
     "output_type": "display_data"
    }
   ],
   "source": [
    "L = [5554, 6296, 5590, 5707, 5496, 5027, 5469, 5817, 5434, 5610]\n",
    "N = sum(L)*1.0\n",
    "EasyRead(\"l of L\",L)\n",
    "EasyRead(\"N\", N)"
   ]
  },
  {
   "cell_type": "code",
   "execution_count": 14,
   "metadata": {},
   "outputs": [
    {
     "data": {
      "text/html": [
       "<div style='width: 100%; padding-bottom: 10px'><span style='font-weight:700'>p of P:</span> &nbsp;&nbsp;[ 0.09918 &nbsp; 0.11243 &nbsp; 0.09982 &nbsp; 0.10191 &nbsp; 0.09814 &nbsp; 0.08977 &nbsp; 0.09766 &nbsp; 0.10387 &nbsp; 0.09704 &nbsp; 0.10018 &nbsp;  ] </div>"
      ],
      "text/plain": [
       "<IPython.core.display.HTML object>"
      ]
     },
     "metadata": {},
     "output_type": "display_data"
    }
   ],
   "source": [
    "P = [l/N for l in L]\n",
    "EasyRead(\"p of P\", P)"
   ]
  },
  {
   "cell_type": "markdown",
   "metadata": {},
   "source": [
    "## GINI Impurity\n",
    "<br>\n",
    "<img src=\"files/giniequation.png\"><br>\n",
    "<br>\n",
    "Sum ( (probability)(1-probability) )"
   ]
  },
  {
   "cell_type": "code",
   "execution_count": 15,
   "metadata": {
    "scrolled": true
   },
   "outputs": [
    {
     "data": {
      "text/html": [
       "<div style='width: 100%; padding-bottom: 10px'><span style='font-weight:700'>List of GINI calcs:</span> &nbsp;&nbsp;[ 0.08934 &nbsp; 0.09979 &nbsp; 0.08986 &nbsp; 0.09152 &nbsp; 0.08851 &nbsp; 0.08171 &nbsp; 0.08812 &nbsp; 0.09308 &nbsp; 0.08762 &nbsp; 0.09014 &nbsp;  ] </div>"
      ],
      "text/plain": [
       "<IPython.core.display.HTML object>"
      ]
     },
     "metadata": {},
     "output_type": "display_data"
    },
    {
     "data": {
      "text/html": [
       "<div style='width: 100%; padding-bottom: 10px'><span style='font-weight:700'>Sum of GINI calcs (aka the result of GINI):</span> &nbsp;&nbsp;0.8997</div>"
      ],
      "text/plain": [
       "<IPython.core.display.HTML object>"
      ]
     },
     "metadata": {},
     "output_type": "display_data"
    },
    {
     "name": "stdout",
     "output_type": "stream",
     "text": [
      "0.8997037206632653\n",
      "0.8997037206632652\n"
     ]
    }
   ],
   "source": [
    "# GINI Calc\n",
    "G = [p*(1-p) for p in P]\n",
    "\n",
    "# this is the equation in the picture above\n",
    "Gini = lambda Pl: sum([p * (1-p) for p in Pl])\n",
    "GiniShort= lambda Pl: 1 - sum([(p**2) for p in Pl])\n",
    "\n",
    "EasyRead(\"List of GINI calcs\",G)\n",
    "EasyRead(\"Sum of GINI calcs (aka the result of GINI)\",sum(G))\n",
    "print(GiniShort(P))\n",
    "print(Gini(P))"
   ]
  },
  {
   "cell_type": "markdown",
   "metadata": {},
   "source": [
    "# Entropy\n",
    "<br>\n",
    "<img src=\"files/entropy.png\"><br>\n"
   ]
  },
  {
   "cell_type": "code",
   "execution_count": 16,
   "metadata": {},
   "outputs": [
    {
     "data": {
      "text/html": [
       "<div style='width: 100%; padding-bottom: 10px'><span style='font-weight:700'>List of entropy calcs:</span> &nbsp;&nbsp;[ -0.33064 &nbsp; -0.35448 &nbsp; -0.33186 &nbsp; -0.33576 &nbsp; -0.32868 &nbsp; -0.31218 &nbsp; -0.32776 &nbsp; -0.33937 &nbsp; -0.32656 &nbsp; -0.33253 &nbsp;  ] </div>"
      ],
      "text/plain": [
       "<IPython.core.display.HTML object>"
      ]
     },
     "metadata": {},
     "output_type": "display_data"
    },
    {
     "data": {
      "text/html": [
       "<div style='width: 100%; padding-bottom: 10px'><span style='font-weight:700'>Entropy of L:</span> &nbsp;&nbsp;-697386.56764</div>"
      ],
      "text/plain": [
       "<IPython.core.display.HTML object>"
      ]
     },
     "metadata": {},
     "output_type": "display_data"
    }
   ],
   "source": [
    "# Entropy\n",
    "E = [p * math.log(p, 2) for p in P]\n",
    "EasyRead(\"List of entropy calcs\",E)\n",
    "\n",
    "Entropy = lambda Pl: -1 * sum([p * math.log(p, 2) if p else 0 for p in Pl]) \n",
    "EasyRead(\"Entropy of L\", Entropy(L))"
   ]
  },
  {
   "cell_type": "code",
   "execution_count": 17,
   "metadata": {},
   "outputs": [
    {
     "data": {
      "text/html": [
       "<div style='width: 100%; padding-bottom: 10px'><span style='font-weight:700'>Probabilities of L:</span> &nbsp;&nbsp;[ 0.09918 &nbsp; 0.11243 &nbsp; 0.09982 &nbsp; 0.10191 &nbsp; 0.09814 &nbsp; 0.08977 &nbsp; 0.09766 &nbsp; 0.10387 &nbsp; 0.09704 &nbsp; 0.10018 &nbsp;  ] </div>"
      ],
      "text/plain": [
       "<IPython.core.display.HTML object>"
      ]
     },
     "metadata": {},
     "output_type": "display_data"
    },
    {
     "data": {
      "text/html": [
       "<div style='width: 100%; padding-bottom: 10px'><span style='font-weight:700'>Before: GINI of the probabilities of L:</span> &nbsp;&nbsp;0.8997</div>"
      ],
      "text/plain": [
       "<IPython.core.display.HTML object>"
      ]
     },
     "metadata": {},
     "output_type": "display_data"
    },
    {
     "data": {
      "text/html": [
       "<div style='width: 100%; padding-bottom: 10px'><span style='font-weight:700'>Sum of L1:</span> &nbsp;&nbsp;21815</div>"
      ],
      "text/plain": [
       "<IPython.core.display.HTML object>"
      ]
     },
     "metadata": {},
     "output_type": "display_data"
    },
    {
     "data": {
      "text/html": [
       "<div style='width: 100%; padding-bottom: 10px'><span style='font-weight:700'>Sum of L2:</span> &nbsp;&nbsp;34185</div>"
      ],
      "text/plain": [
       "<IPython.core.display.HTML object>"
      ]
     },
     "metadata": {},
     "output_type": "display_data"
    },
    {
     "data": {
      "text/html": [
       "<div style='width: 100%; padding-bottom: 10px'><span style='font-weight:700'>Sum of sum(L1) + sum(L2):</span> &nbsp;&nbsp;56000</div>"
      ],
      "text/plain": [
       "<IPython.core.display.HTML object>"
      ]
     },
     "metadata": {},
     "output_type": "display_data"
    },
    {
     "data": {
      "text/html": [
       "<div style='width: 100%; padding-bottom: 10px'><span style='font-weight:700'>GINI of probabilities of L1:</span> &nbsp;&nbsp;0.84051</div>"
      ],
      "text/plain": [
       "<IPython.core.display.HTML object>"
      ]
     },
     "metadata": {},
     "output_type": "display_data"
    },
    {
     "data": {
      "text/html": [
       "<div style='width: 100%; padding-bottom: 10px'><span style='font-weight:700'>GINI of probabilities of L2:</span> &nbsp;&nbsp;0.87334</div>"
      ],
      "text/plain": [
       "<IPython.core.display.HTML object>"
      ]
     },
     "metadata": {},
     "output_type": "display_data"
    },
    {
     "data": {
      "text/html": [
       "<div style='width: 100%; padding-bottom: 10px'><span style='font-weight:700'>Before: Entropy of probabilities of L :</span> &nbsp;&nbsp;3.31981</div>"
      ],
      "text/plain": [
       "<IPython.core.display.HTML object>"
      ]
     },
     "metadata": {},
     "output_type": "display_data"
    },
    {
     "data": {
      "text/html": [
       "<div style='width: 100%; padding-bottom: 10px'><span style='font-weight:700'>Entropy of probabilities of L1:</span> &nbsp;&nbsp;2.87925</div>"
      ],
      "text/plain": [
       "<IPython.core.display.HTML object>"
      ]
     },
     "metadata": {},
     "output_type": "display_data"
    },
    {
     "data": {
      "text/html": [
       "<div style='width: 100%; padding-bottom: 10px'><span style='font-weight:700'>Entropy of probabilities of L2:</span> &nbsp;&nbsp;3.08392</div>"
      ],
      "text/plain": [
       "<IPython.core.display.HTML object>"
      ]
     },
     "metadata": {},
     "output_type": "display_data"
    }
   ],
   "source": [
    "Probs = lambda Lx: [i/sum(Lx) for i in Lx]\n",
    "L1 =[5371, 195, 779, 3959, 855, 3089, 1360, 3897, 540, 1770]\n",
    "L2 = [183, 6101, 4811, 1748, 4641, 1938, 4109, 1920, 4894, 3840]\n",
    "\n",
    "EasyRead(\"Probabilities of L\",Probs(L))\n",
    "EasyRead(\"Before: GINI of the probabilities of L\",Gini(Probs(L)))\n",
    "EasyRead(\"Sum of L1\",sum(L1))\n",
    "EasyRead(\"Sum of L2\", sum(L2))\n",
    "EasyRead(\"Sum of sum(L1) + sum(L2)\", sum(L1) + sum(L2))\n",
    "\n",
    "EasyRead(\"GINI of probabilities of L1\", Gini(Probs(L1)))\n",
    "EasyRead(\"GINI of probabilities of L2\", Gini(Probs(L2)))\n",
    "\n",
    "EasyRead(\"Before: Entropy of probabilities of L \",Entropy(Probs(L)))\n",
    "\n",
    "EasyRead(\"Entropy of probabilities of L1\", Entropy(Probs(L1)))\n",
    "EasyRead(\"Entropy of probabilities of L2\", Entropy(Probs(L2)))"
   ]
  },
  {
   "cell_type": "markdown",
   "metadata": {},
   "source": [
    "# Information Gain\n",
    "## Gain = Original Entropy - (weighted sum of split entropies/ginis)\n"
   ]
  },
  {
   "cell_type": "code",
   "execution_count": 18,
   "metadata": {},
   "outputs": [
    {
     "data": {
      "text/html": [
       "<div style='width: 100%; padding-bottom: 10px'><span style='font-size: 22px;font-weight:700'>GINI</span></div>"
      ],
      "text/plain": [
       "<IPython.core.display.HTML object>"
      ]
     },
     "metadata": {},
     "output_type": "display_data"
    },
    {
     "data": {
      "text/html": [
       "<div style='width: 100%; padding-bottom: 10px'><span style='font-weight:700'>Before:</span> &nbsp;&nbsp;0.8997</div>"
      ],
      "text/plain": [
       "<IPython.core.display.HTML object>"
      ]
     },
     "metadata": {},
     "output_type": "display_data"
    },
    {
     "data": {
      "text/html": [
       "<div style='width: 100%; padding-bottom: 10px'><span style='font-weight:700'>After:</span> &nbsp;&nbsp;0.86055</div>"
      ],
      "text/plain": [
       "<IPython.core.display.HTML object>"
      ]
     },
     "metadata": {},
     "output_type": "display_data"
    },
    {
     "data": {
      "text/html": [
       "<div style='width: 100%; padding-bottom: 10px'><span style='font-weight:700'>Weights Derived:</span> &nbsp;&nbsp;[ 0.38955 &nbsp; 0.61045 &nbsp;  ] </div>"
      ],
      "text/plain": [
       "<IPython.core.display.HTML object>"
      ]
     },
     "metadata": {},
     "output_type": "display_data"
    },
    {
     "data": {
      "text/html": [
       "<div style='width: 100%; padding-bottom: 10px'><span style='font-weight:700'>Information Gain:</span> &nbsp;&nbsp;0.03915</div>"
      ],
      "text/plain": [
       "<IPython.core.display.HTML object>"
      ]
     },
     "metadata": {},
     "output_type": "display_data"
    },
    {
     "data": {
      "text/html": [
       "<div style='width: 100%; padding-bottom: 10px'><span style='font-size: 22px;font-weight:700'>Entropy</span></div>"
      ],
      "text/plain": [
       "<IPython.core.display.HTML object>"
      ]
     },
     "metadata": {},
     "output_type": "display_data"
    },
    {
     "data": {
      "text/html": [
       "<div style='width: 100%; padding-bottom: 10px'><span style='font-weight:700'>Before:</span> &nbsp;&nbsp;3.31981</div>"
      ],
      "text/plain": [
       "<IPython.core.display.HTML object>"
      ]
     },
     "metadata": {},
     "output_type": "display_data"
    },
    {
     "data": {
      "text/html": [
       "<div style='width: 100%; padding-bottom: 10px'><span style='font-weight:700'>After:</span> &nbsp;&nbsp;3.00419</div>"
      ],
      "text/plain": [
       "<IPython.core.display.HTML object>"
      ]
     },
     "metadata": {},
     "output_type": "display_data"
    },
    {
     "data": {
      "text/html": [
       "<div style='width: 100%; padding-bottom: 10px'><span style='font-weight:700'>Weights Derived:</span> &nbsp;&nbsp;[ 0.38955 &nbsp; 0.61045 &nbsp;  ] </div>"
      ],
      "text/plain": [
       "<IPython.core.display.HTML object>"
      ]
     },
     "metadata": {},
     "output_type": "display_data"
    },
    {
     "data": {
      "text/html": [
       "<div style='width: 100%; padding-bottom: 10px'><span style='font-weight:700'>Information Gain:</span> &nbsp;&nbsp;0.31562</div>"
      ],
      "text/plain": [
       "<IPython.core.display.HTML object>"
      ]
     },
     "metadata": {},
     "output_type": "display_data"
    }
   ],
   "source": [
    "def WeightedSumOfSplits(PurityType,splits,weights):\n",
    "    ttl = 0\n",
    "    for i in range(len(splits)):\n",
    "        ttl += PurityType(Probs(splits[i]))*weights[i]\n",
    "    return ttl\n",
    "    \n",
    "def GetWeights(LSplit,_L):\n",
    "    return [sum(l)/sum(_L) for l in LSplit]\n",
    "\n",
    "def Gain(PurityName,PurityType,splitOfL,_L):  \n",
    "    originalPurity = PurityType(Probs(_L))\n",
    "    weights = GetWeights(splitOfL,_L)\n",
    "    \n",
    "    sumOfSplits=WeightedSumOfSplits(PurityType,splitOfL,weights)\n",
    "    \n",
    "    Ig =  originalPurity - sumOfSplits\n",
    "    \n",
    "    BigTitle(PurityName)\n",
    "    EasyRead(\"Before\", originalPurity)\n",
    "    EasyRead(\"After\", sumOfSplits)\n",
    "    #EasyRead(\"Splits\", splitOfL)\n",
    "    EasyRead(\"Weights Derived\",weights)\n",
    "    EasyRead(\"Information Gain\",Ig)\n",
    "\n",
    "Gain(\"GINI\",Gini,[L1,L2],L)\n",
    "Gain(\"Entropy\",Entropy,[L1,L2],L)"
   ]
  },
  {
   "cell_type": "markdown",
   "metadata": {},
   "source": [
    "# Restaurant Problem\n",
    "<img src=\"files/restprob.png\">"
   ]
  },
  {
   "cell_type": "code",
   "execution_count": 19,
   "metadata": {},
   "outputs": [
    {
     "data": {
      "text/html": [
       "<div style='width: 100%; padding-bottom: 10px'><span style='font-size: 22px;font-weight:700'>Entropy</span></div>"
      ],
      "text/plain": [
       "<IPython.core.display.HTML object>"
      ]
     },
     "metadata": {},
     "output_type": "display_data"
    },
    {
     "data": {
      "text/html": [
       "<div style='width: 100%; padding-bottom: 10px'><span style='font-weight:700'>Before:</span> &nbsp;&nbsp;1.0</div>"
      ],
      "text/plain": [
       "<IPython.core.display.HTML object>"
      ]
     },
     "metadata": {},
     "output_type": "display_data"
    },
    {
     "data": {
      "text/html": [
       "<div style='width: 100%; padding-bottom: 10px'><span style='font-weight:700'>After:</span> &nbsp;&nbsp;0.45915</div>"
      ],
      "text/plain": [
       "<IPython.core.display.HTML object>"
      ]
     },
     "metadata": {},
     "output_type": "display_data"
    },
    {
     "data": {
      "text/html": [
       "<div style='width: 100%; padding-bottom: 10px'><span style='font-weight:700'>Weights Derived:</span> &nbsp;&nbsp;[ 0.16667 &nbsp; 0.33333 &nbsp; 0.5 &nbsp;  ] </div>"
      ],
      "text/plain": [
       "<IPython.core.display.HTML object>"
      ]
     },
     "metadata": {},
     "output_type": "display_data"
    },
    {
     "data": {
      "text/html": [
       "<div style='width: 100%; padding-bottom: 10px'><span style='font-weight:700'>Information Gain:</span> &nbsp;&nbsp;0.54085</div>"
      ],
      "text/plain": [
       "<IPython.core.display.HTML object>"
      ]
     },
     "metadata": {},
     "output_type": "display_data"
    },
    {
     "data": {
      "text/html": [
       "<div style='width: 100%; padding-bottom: 10px'><span style='font-size: 22px;font-weight:700'>GINI</span></div>"
      ],
      "text/plain": [
       "<IPython.core.display.HTML object>"
      ]
     },
     "metadata": {},
     "output_type": "display_data"
    },
    {
     "data": {
      "text/html": [
       "<div style='width: 100%; padding-bottom: 10px'><span style='font-weight:700'>Before:</span> &nbsp;&nbsp;0.5</div>"
      ],
      "text/plain": [
       "<IPython.core.display.HTML object>"
      ]
     },
     "metadata": {},
     "output_type": "display_data"
    },
    {
     "data": {
      "text/html": [
       "<div style='width: 100%; padding-bottom: 10px'><span style='font-weight:700'>After:</span> &nbsp;&nbsp;0.22222</div>"
      ],
      "text/plain": [
       "<IPython.core.display.HTML object>"
      ]
     },
     "metadata": {},
     "output_type": "display_data"
    },
    {
     "data": {
      "text/html": [
       "<div style='width: 100%; padding-bottom: 10px'><span style='font-weight:700'>Weights Derived:</span> &nbsp;&nbsp;[ 0.16667 &nbsp; 0.33333 &nbsp; 0.5 &nbsp;  ] </div>"
      ],
      "text/plain": [
       "<IPython.core.display.HTML object>"
      ]
     },
     "metadata": {},
     "output_type": "display_data"
    },
    {
     "data": {
      "text/html": [
       "<div style='width: 100%; padding-bottom: 10px'><span style='font-weight:700'>Information Gain:</span> &nbsp;&nbsp;0.27778</div>"
      ],
      "text/plain": [
       "<IPython.core.display.HTML object>"
      ]
     },
     "metadata": {},
     "output_type": "display_data"
    }
   ],
   "source": [
    "Restaurant = [6, 6]\n",
    "Split = [ [2, 0], [0,4], [4, 2]]\n",
    "\n",
    "Gain(\"Entropy\",Entropy,Split,Restaurant)\n",
    "Gain(\"GINI\",Gini,Split,Restaurant)"
   ]
  },
  {
   "cell_type": "markdown",
   "metadata": {},
   "source": [
    "# Some Example Table\n",
    "<img src=\"files/exampletable2.png\">"
   ]
  },
  {
   "cell_type": "code",
   "execution_count": 20,
   "metadata": {},
   "outputs": [
    {
     "data": {
      "text/html": [
       "<div style='width: 100%; padding-bottom: 10px'><span style='font-size: 22px;font-weight:700'>Split on A1 using Entropy</span></div>"
      ],
      "text/plain": [
       "<IPython.core.display.HTML object>"
      ]
     },
     "metadata": {},
     "output_type": "display_data"
    },
    {
     "data": {
      "text/html": [
       "<div style='width: 100%; padding-bottom: 10px'><span style='font-weight:700'>Before:</span> &nbsp;&nbsp;0.86312</div>"
      ],
      "text/plain": [
       "<IPython.core.display.HTML object>"
      ]
     },
     "metadata": {},
     "output_type": "display_data"
    },
    {
     "data": {
      "text/html": [
       "<div style='width: 100%; padding-bottom: 10px'><span style='font-weight:700'>After:</span> &nbsp;&nbsp;0.57143</div>"
      ],
      "text/plain": [
       "<IPython.core.display.HTML object>"
      ]
     },
     "metadata": {},
     "output_type": "display_data"
    },
    {
     "data": {
      "text/html": [
       "<div style='width: 100%; padding-bottom: 10px'><span style='font-weight:700'>Weights Derived:</span> &nbsp;&nbsp;[ 0.14286 &nbsp; 0.57143 &nbsp;  ] </div>"
      ],
      "text/plain": [
       "<IPython.core.display.HTML object>"
      ]
     },
     "metadata": {},
     "output_type": "display_data"
    },
    {
     "data": {
      "text/html": [
       "<div style='width: 100%; padding-bottom: 10px'><span style='font-weight:700'>Information Gain:</span> &nbsp;&nbsp;0.29169</div>"
      ],
      "text/plain": [
       "<IPython.core.display.HTML object>"
      ]
     },
     "metadata": {},
     "output_type": "display_data"
    },
    {
     "data": {
      "text/html": [
       "<div style='width: 100%; padding-bottom: 10px'><span style='font-size: 22px;font-weight:700'>Split on A2 using Entropy</span></div>"
      ],
      "text/plain": [
       "<IPython.core.display.HTML object>"
      ]
     },
     "metadata": {},
     "output_type": "display_data"
    },
    {
     "data": {
      "text/html": [
       "<div style='width: 100%; padding-bottom: 10px'><span style='font-weight:700'>Before:</span> &nbsp;&nbsp;0.86312</div>"
      ],
      "text/plain": [
       "<IPython.core.display.HTML object>"
      ]
     },
     "metadata": {},
     "output_type": "display_data"
    },
    {
     "data": {
      "text/html": [
       "<div style='width: 100%; padding-bottom: 10px'><span style='font-weight:700'>After:</span> &nbsp;&nbsp;0.39356</div>"
      ],
      "text/plain": [
       "<IPython.core.display.HTML object>"
      ]
     },
     "metadata": {},
     "output_type": "display_data"
    },
    {
     "data": {
      "text/html": [
       "<div style='width: 100%; padding-bottom: 10px'><span style='font-weight:700'>Weights Derived:</span> &nbsp;&nbsp;[ 0.28571 &nbsp; 0.42857 &nbsp;  ] </div>"
      ],
      "text/plain": [
       "<IPython.core.display.HTML object>"
      ]
     },
     "metadata": {},
     "output_type": "display_data"
    },
    {
     "data": {
      "text/html": [
       "<div style='width: 100%; padding-bottom: 10px'><span style='font-weight:700'>Information Gain:</span> &nbsp;&nbsp;0.46957</div>"
      ],
      "text/plain": [
       "<IPython.core.display.HTML object>"
      ]
     },
     "metadata": {},
     "output_type": "display_data"
    },
    {
     "data": {
      "text/html": [
       "<div style='width: 100%; padding-bottom: 10px'><span style='font-size: 22px;font-weight:700'>Split on A3 using Entropy</span></div>"
      ],
      "text/plain": [
       "<IPython.core.display.HTML object>"
      ]
     },
     "metadata": {},
     "output_type": "display_data"
    },
    {
     "data": {
      "text/html": [
       "<div style='width: 100%; padding-bottom: 10px'><span style='font-weight:700'>Before:</span> &nbsp;&nbsp;0.86312</div>"
      ],
      "text/plain": [
       "<IPython.core.display.HTML object>"
      ]
     },
     "metadata": {},
     "output_type": "display_data"
    },
    {
     "data": {
      "text/html": [
       "<div style='width: 100%; padding-bottom: 10px'><span style='font-weight:700'>After:</span> &nbsp;&nbsp;0.67927</div>"
      ],
      "text/plain": [
       "<IPython.core.display.HTML object>"
      ]
     },
     "metadata": {},
     "output_type": "display_data"
    },
    {
     "data": {
      "text/html": [
       "<div style='width: 100%; padding-bottom: 10px'><span style='font-weight:700'>Weights Derived:</span> &nbsp;&nbsp;[ 0.42857 &nbsp; 0.28571 &nbsp;  ] </div>"
      ],
      "text/plain": [
       "<IPython.core.display.HTML object>"
      ]
     },
     "metadata": {},
     "output_type": "display_data"
    },
    {
     "data": {
      "text/html": [
       "<div style='width: 100%; padding-bottom: 10px'><span style='font-weight:700'>Information Gain:</span> &nbsp;&nbsp;0.18385</div>"
      ],
      "text/plain": [
       "<IPython.core.display.HTML object>"
      ]
     },
     "metadata": {},
     "output_type": "display_data"
    },
    {
     "name": "stdout",
     "output_type": "stream",
     "text": [
      "\n",
      "\n",
      "\n"
     ]
    },
    {
     "data": {
      "text/html": [
       "<div style='width: 100%; padding-bottom: 10px'><span style='font-size: 22px;font-weight:700'>Split on A1 using GINI</span></div>"
      ],
      "text/plain": [
       "<IPython.core.display.HTML object>"
      ]
     },
     "metadata": {},
     "output_type": "display_data"
    },
    {
     "data": {
      "text/html": [
       "<div style='width: 100%; padding-bottom: 10px'><span style='font-weight:700'>Before:</span> &nbsp;&nbsp;0.40816</div>"
      ],
      "text/plain": [
       "<IPython.core.display.HTML object>"
      ]
     },
     "metadata": {},
     "output_type": "display_data"
    },
    {
     "data": {
      "text/html": [
       "<div style='width: 100%; padding-bottom: 10px'><span style='font-weight:700'>After:</span> &nbsp;&nbsp;0.28571</div>"
      ],
      "text/plain": [
       "<IPython.core.display.HTML object>"
      ]
     },
     "metadata": {},
     "output_type": "display_data"
    },
    {
     "data": {
      "text/html": [
       "<div style='width: 100%; padding-bottom: 10px'><span style='font-weight:700'>Weights Derived:</span> &nbsp;&nbsp;[ 0.14286 &nbsp; 0.57143 &nbsp;  ] </div>"
      ],
      "text/plain": [
       "<IPython.core.display.HTML object>"
      ]
     },
     "metadata": {},
     "output_type": "display_data"
    },
    {
     "data": {
      "text/html": [
       "<div style='width: 100%; padding-bottom: 10px'><span style='font-weight:700'>Information Gain:</span> &nbsp;&nbsp;0.12245</div>"
      ],
      "text/plain": [
       "<IPython.core.display.HTML object>"
      ]
     },
     "metadata": {},
     "output_type": "display_data"
    },
    {
     "data": {
      "text/html": [
       "<div style='width: 100%; padding-bottom: 10px'><span style='font-size: 22px;font-weight:700'>Split on A2 using GINI</span></div>"
      ],
      "text/plain": [
       "<IPython.core.display.HTML object>"
      ]
     },
     "metadata": {},
     "output_type": "display_data"
    },
    {
     "data": {
      "text/html": [
       "<div style='width: 100%; padding-bottom: 10px'><span style='font-weight:700'>Before:</span> &nbsp;&nbsp;0.40816</div>"
      ],
      "text/plain": [
       "<IPython.core.display.HTML object>"
      ]
     },
     "metadata": {},
     "output_type": "display_data"
    },
    {
     "data": {
      "text/html": [
       "<div style='width: 100%; padding-bottom: 10px'><span style='font-weight:700'>After:</span> &nbsp;&nbsp;0.19048</div>"
      ],
      "text/plain": [
       "<IPython.core.display.HTML object>"
      ]
     },
     "metadata": {},
     "output_type": "display_data"
    },
    {
     "data": {
      "text/html": [
       "<div style='width: 100%; padding-bottom: 10px'><span style='font-weight:700'>Weights Derived:</span> &nbsp;&nbsp;[ 0.28571 &nbsp; 0.42857 &nbsp;  ] </div>"
      ],
      "text/plain": [
       "<IPython.core.display.HTML object>"
      ]
     },
     "metadata": {},
     "output_type": "display_data"
    },
    {
     "data": {
      "text/html": [
       "<div style='width: 100%; padding-bottom: 10px'><span style='font-weight:700'>Information Gain:</span> &nbsp;&nbsp;0.21769</div>"
      ],
      "text/plain": [
       "<IPython.core.display.HTML object>"
      ]
     },
     "metadata": {},
     "output_type": "display_data"
    },
    {
     "data": {
      "text/html": [
       "<div style='width: 100%; padding-bottom: 10px'><span style='font-size: 22px;font-weight:700'>Split on A3 using GINI</span></div>"
      ],
      "text/plain": [
       "<IPython.core.display.HTML object>"
      ]
     },
     "metadata": {},
     "output_type": "display_data"
    },
    {
     "data": {
      "text/html": [
       "<div style='width: 100%; padding-bottom: 10px'><span style='font-weight:700'>Before:</span> &nbsp;&nbsp;0.40816</div>"
      ],
      "text/plain": [
       "<IPython.core.display.HTML object>"
      ]
     },
     "metadata": {},
     "output_type": "display_data"
    },
    {
     "data": {
      "text/html": [
       "<div style='width: 100%; padding-bottom: 10px'><span style='font-weight:700'>After:</span> &nbsp;&nbsp;0.33333</div>"
      ],
      "text/plain": [
       "<IPython.core.display.HTML object>"
      ]
     },
     "metadata": {},
     "output_type": "display_data"
    },
    {
     "data": {
      "text/html": [
       "<div style='width: 100%; padding-bottom: 10px'><span style='font-weight:700'>Weights Derived:</span> &nbsp;&nbsp;[ 0.42857 &nbsp; 0.28571 &nbsp;  ] </div>"
      ],
      "text/plain": [
       "<IPython.core.display.HTML object>"
      ]
     },
     "metadata": {},
     "output_type": "display_data"
    },
    {
     "data": {
      "text/html": [
       "<div style='width: 100%; padding-bottom: 10px'><span style='font-weight:700'>Information Gain:</span> &nbsp;&nbsp;0.07483</div>"
      ],
      "text/plain": [
       "<IPython.core.display.HTML object>"
      ]
     },
     "metadata": {},
     "output_type": "display_data"
    }
   ],
   "source": [
    "# Output y:  3 F, 1 T\n",
    "Binary = [5, 2]\n",
    "\n",
    "# 1 match of F, 0 mismatches of F\n",
    "# 2 match of T, 2 mismatches of T\n",
    "A1=[[1,0], [2, 2]]\n",
    "\n",
    "# 2 match of F, 0 mismatches of F\n",
    "# 2 match of T, 1 mismatches of T\n",
    "A2=[[2,0], [2,1]]\n",
    "\n",
    "# 2 match of F, 1 mismatches of F\n",
    "# 1 match of T, 1 mismatches of T\n",
    "A3=[[2,1], [1,1]]\n",
    "\n",
    "Gain(\"Split on A1 using Entropy\",Entropy,A1,Binary)\n",
    "\n",
    "Gain(\"Split on A2 using Entropy\",Entropy,A2,Binary)\n",
    "\n",
    "Gain(\"Split on A3 using Entropy\",Entropy,A3,Binary)\n",
    "\n",
    "print(\"\\n\\n\")\n",
    "\n",
    "Gain(\"Split on A1 using GINI\",Gini,A1,Binary)\n",
    "\n",
    "Gain(\"Split on A2 using GINI\",Gini,A2,Binary)\n",
    "\n",
    "Gain(\"Split on A3 using GINI\",Gini,A3,Binary)"
   ]
  },
  {
   "cell_type": "markdown",
   "metadata": {},
   "source": [
    "<img src=\"./files/table.png\">"
   ]
  },
  {
   "cell_type": "code",
   "execution_count": 21,
   "metadata": {},
   "outputs": [
    {
     "data": {
      "text/html": [
       "<div style='width: 100%; padding-bottom: 10px'><span style='font-size: 22px;font-weight:700'>Split on A1 using Entropy</span></div>"
      ],
      "text/plain": [
       "<IPython.core.display.HTML object>"
      ]
     },
     "metadata": {},
     "output_type": "display_data"
    },
    {
     "data": {
      "text/html": [
       "<div style='width: 100%; padding-bottom: 10px'><span style='font-weight:700'>Before:</span> &nbsp;&nbsp;1.0</div>"
      ],
      "text/plain": [
       "<IPython.core.display.HTML object>"
      ]
     },
     "metadata": {},
     "output_type": "display_data"
    },
    {
     "data": {
      "text/html": [
       "<div style='width: 100%; padding-bottom: 10px'><span style='font-weight:700'>After:</span> &nbsp;&nbsp;0.0</div>"
      ],
      "text/plain": [
       "<IPython.core.display.HTML object>"
      ]
     },
     "metadata": {},
     "output_type": "display_data"
    },
    {
     "data": {
      "text/html": [
       "<div style='width: 100%; padding-bottom: 10px'><span style='font-weight:700'>Weights Derived:</span> &nbsp;&nbsp;[ 0.5 &nbsp; 0.5 &nbsp;  ] </div>"
      ],
      "text/plain": [
       "<IPython.core.display.HTML object>"
      ]
     },
     "metadata": {},
     "output_type": "display_data"
    },
    {
     "data": {
      "text/html": [
       "<div style='width: 100%; padding-bottom: 10px'><span style='font-weight:700'>Information Gain:</span> &nbsp;&nbsp;1.0</div>"
      ],
      "text/plain": [
       "<IPython.core.display.HTML object>"
      ]
     },
     "metadata": {},
     "output_type": "display_data"
    },
    {
     "data": {
      "text/html": [
       "<div style='width: 100%; padding-bottom: 10px'><span style='font-size: 22px;font-weight:700'>Split on A2 using Entropy</span></div>"
      ],
      "text/plain": [
       "<IPython.core.display.HTML object>"
      ]
     },
     "metadata": {},
     "output_type": "display_data"
    },
    {
     "data": {
      "text/html": [
       "<div style='width: 100%; padding-bottom: 10px'><span style='font-weight:700'>Before:</span> &nbsp;&nbsp;1.0</div>"
      ],
      "text/plain": [
       "<IPython.core.display.HTML object>"
      ]
     },
     "metadata": {},
     "output_type": "display_data"
    },
    {
     "data": {
      "text/html": [
       "<div style='width: 100%; padding-bottom: 10px'><span style='font-weight:700'>After:</span> &nbsp;&nbsp;1.0</div>"
      ],
      "text/plain": [
       "<IPython.core.display.HTML object>"
      ]
     },
     "metadata": {},
     "output_type": "display_data"
    },
    {
     "data": {
      "text/html": [
       "<div style='width: 100%; padding-bottom: 10px'><span style='font-weight:700'>Weights Derived:</span> &nbsp;&nbsp;[ 0.6 &nbsp; 0.4 &nbsp;  ] </div>"
      ],
      "text/plain": [
       "<IPython.core.display.HTML object>"
      ]
     },
     "metadata": {},
     "output_type": "display_data"
    },
    {
     "data": {
      "text/html": [
       "<div style='width: 100%; padding-bottom: 10px'><span style='font-weight:700'>Information Gain:</span> &nbsp;&nbsp;0.0</div>"
      ],
      "text/plain": [
       "<IPython.core.display.HTML object>"
      ]
     },
     "metadata": {},
     "output_type": "display_data"
    },
    {
     "data": {
      "text/html": [
       "<div style='width: 100%; padding-bottom: 10px'><span style='font-size: 22px;font-weight:700'>Split on A3 using Entropy</span></div>"
      ],
      "text/plain": [
       "<IPython.core.display.HTML object>"
      ]
     },
     "metadata": {},
     "output_type": "display_data"
    },
    {
     "data": {
      "text/html": [
       "<div style='width: 100%; padding-bottom: 10px'><span style='font-weight:700'>Before:</span> &nbsp;&nbsp;1.0</div>"
      ],
      "text/plain": [
       "<IPython.core.display.HTML object>"
      ]
     },
     "metadata": {},
     "output_type": "display_data"
    },
    {
     "data": {
      "text/html": [
       "<div style='width: 100%; padding-bottom: 10px'><span style='font-weight:700'>After:</span> &nbsp;&nbsp;1.0</div>"
      ],
      "text/plain": [
       "<IPython.core.display.HTML object>"
      ]
     },
     "metadata": {},
     "output_type": "display_data"
    },
    {
     "data": {
      "text/html": [
       "<div style='width: 100%; padding-bottom: 10px'><span style='font-weight:700'>Weights Derived:</span> &nbsp;&nbsp;[ 0.4 &nbsp; 0.6 &nbsp;  ] </div>"
      ],
      "text/plain": [
       "<IPython.core.display.HTML object>"
      ]
     },
     "metadata": {},
     "output_type": "display_data"
    },
    {
     "data": {
      "text/html": [
       "<div style='width: 100%; padding-bottom: 10px'><span style='font-weight:700'>Information Gain:</span> &nbsp;&nbsp;0.0</div>"
      ],
      "text/plain": [
       "<IPython.core.display.HTML object>"
      ]
     },
     "metadata": {},
     "output_type": "display_data"
    },
    {
     "name": "stdout",
     "output_type": "stream",
     "text": [
      "\n",
      "\n",
      "\n"
     ]
    },
    {
     "data": {
      "text/html": [
       "<div style='width: 100%; padding-bottom: 10px'><span style='font-size: 22px;font-weight:700'>Split on A1 using GINI</span></div>"
      ],
      "text/plain": [
       "<IPython.core.display.HTML object>"
      ]
     },
     "metadata": {},
     "output_type": "display_data"
    },
    {
     "data": {
      "text/html": [
       "<div style='width: 100%; padding-bottom: 10px'><span style='font-weight:700'>Before:</span> &nbsp;&nbsp;0.5</div>"
      ],
      "text/plain": [
       "<IPython.core.display.HTML object>"
      ]
     },
     "metadata": {},
     "output_type": "display_data"
    },
    {
     "data": {
      "text/html": [
       "<div style='width: 100%; padding-bottom: 10px'><span style='font-weight:700'>After:</span> &nbsp;&nbsp;0.0</div>"
      ],
      "text/plain": [
       "<IPython.core.display.HTML object>"
      ]
     },
     "metadata": {},
     "output_type": "display_data"
    },
    {
     "data": {
      "text/html": [
       "<div style='width: 100%; padding-bottom: 10px'><span style='font-weight:700'>Weights Derived:</span> &nbsp;&nbsp;[ 0.5 &nbsp; 0.5 &nbsp;  ] </div>"
      ],
      "text/plain": [
       "<IPython.core.display.HTML object>"
      ]
     },
     "metadata": {},
     "output_type": "display_data"
    },
    {
     "data": {
      "text/html": [
       "<div style='width: 100%; padding-bottom: 10px'><span style='font-weight:700'>Information Gain:</span> &nbsp;&nbsp;0.5</div>"
      ],
      "text/plain": [
       "<IPython.core.display.HTML object>"
      ]
     },
     "metadata": {},
     "output_type": "display_data"
    },
    {
     "data": {
      "text/html": [
       "<div style='width: 100%; padding-bottom: 10px'><span style='font-size: 22px;font-weight:700'>Split on A2 using GINI</span></div>"
      ],
      "text/plain": [
       "<IPython.core.display.HTML object>"
      ]
     },
     "metadata": {},
     "output_type": "display_data"
    },
    {
     "data": {
      "text/html": [
       "<div style='width: 100%; padding-bottom: 10px'><span style='font-weight:700'>Before:</span> &nbsp;&nbsp;0.5</div>"
      ],
      "text/plain": [
       "<IPython.core.display.HTML object>"
      ]
     },
     "metadata": {},
     "output_type": "display_data"
    },
    {
     "data": {
      "text/html": [
       "<div style='width: 100%; padding-bottom: 10px'><span style='font-weight:700'>After:</span> &nbsp;&nbsp;0.5</div>"
      ],
      "text/plain": [
       "<IPython.core.display.HTML object>"
      ]
     },
     "metadata": {},
     "output_type": "display_data"
    },
    {
     "data": {
      "text/html": [
       "<div style='width: 100%; padding-bottom: 10px'><span style='font-weight:700'>Weights Derived:</span> &nbsp;&nbsp;[ 0.6 &nbsp; 0.4 &nbsp;  ] </div>"
      ],
      "text/plain": [
       "<IPython.core.display.HTML object>"
      ]
     },
     "metadata": {},
     "output_type": "display_data"
    },
    {
     "data": {
      "text/html": [
       "<div style='width: 100%; padding-bottom: 10px'><span style='font-weight:700'>Information Gain:</span> &nbsp;&nbsp;0.0</div>"
      ],
      "text/plain": [
       "<IPython.core.display.HTML object>"
      ]
     },
     "metadata": {},
     "output_type": "display_data"
    },
    {
     "data": {
      "text/html": [
       "<div style='width: 100%; padding-bottom: 10px'><span style='font-size: 22px;font-weight:700'>Split on A3 using GINI</span></div>"
      ],
      "text/plain": [
       "<IPython.core.display.HTML object>"
      ]
     },
     "metadata": {},
     "output_type": "display_data"
    },
    {
     "data": {
      "text/html": [
       "<div style='width: 100%; padding-bottom: 10px'><span style='font-weight:700'>Before:</span> &nbsp;&nbsp;0.5</div>"
      ],
      "text/plain": [
       "<IPython.core.display.HTML object>"
      ]
     },
     "metadata": {},
     "output_type": "display_data"
    },
    {
     "data": {
      "text/html": [
       "<div style='width: 100%; padding-bottom: 10px'><span style='font-weight:700'>After:</span> &nbsp;&nbsp;0.5</div>"
      ],
      "text/plain": [
       "<IPython.core.display.HTML object>"
      ]
     },
     "metadata": {},
     "output_type": "display_data"
    },
    {
     "data": {
      "text/html": [
       "<div style='width: 100%; padding-bottom: 10px'><span style='font-weight:700'>Weights Derived:</span> &nbsp;&nbsp;[ 0.4 &nbsp; 0.6 &nbsp;  ] </div>"
      ],
      "text/plain": [
       "<IPython.core.display.HTML object>"
      ]
     },
     "metadata": {},
     "output_type": "display_data"
    },
    {
     "data": {
      "text/html": [
       "<div style='width: 100%; padding-bottom: 10px'><span style='font-weight:700'>Information Gain:</span> &nbsp;&nbsp;0.0</div>"
      ],
      "text/plain": [
       "<IPython.core.display.HTML object>"
      ]
     },
     "metadata": {},
     "output_type": "display_data"
    }
   ],
   "source": [
    "# Output y:  3 F, 1 T\n",
    "Binary = [5, 5]\n",
    "\n",
    "A1=[[0,5], [5, 0]]\n",
    "A2=[[3,3], [2,2]]\n",
    "A3=[[2,2], [3,3]]\n",
    "\n",
    "Gain(\"Split on A1 using Entropy\",Entropy,A1,Binary)\n",
    "\n",
    "Gain(\"Split on A2 using Entropy\",Entropy,A2,Binary)\n",
    "\n",
    "Gain(\"Split on A3 using Entropy\",Entropy,A3,Binary)\n",
    "\n",
    "print(\"\\n\\n\")\n",
    "\n",
    "Gain(\"Split on A1 using GINI\",Gini,A1,Binary)\n",
    "\n",
    "Gain(\"Split on A2 using GINI\",Gini,A2,Binary)\n",
    "\n",
    "Gain(\"Split on A3 using GINI\",Gini,A3,Binary)"
   ]
  },
  {
   "cell_type": "code",
   "execution_count": null,
   "metadata": {},
   "outputs": [],
   "source": []
  }
 ],
 "metadata": {
  "kernelspec": {
   "display_name": "Python 3",
   "language": "python",
   "name": "python3"
  },
  "language_info": {
   "codemirror_mode": {
    "name": "ipython",
    "version": 3
   },
   "file_extension": ".py",
   "mimetype": "text/x-python",
   "name": "python",
   "nbconvert_exporter": "python",
   "pygments_lexer": "ipython3",
   "version": "3.6.8"
  }
 },
 "nbformat": 4,
 "nbformat_minor": 2
}
