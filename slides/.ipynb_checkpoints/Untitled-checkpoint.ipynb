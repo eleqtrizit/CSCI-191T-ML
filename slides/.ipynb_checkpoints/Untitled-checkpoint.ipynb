{
 "cells": [
  {
   "cell_type": "code",
   "execution_count": 8,
   "metadata": {},
   "outputs": [
    {
     "name": "stdout",
     "output_type": "stream",
     "text": [
      "Deltas:  [0.1 0.2 0.3 0.4 0.5 0.6 0.7 0.8 0.9]\n",
      "\n"
     ]
    },
    {
     "data": {
      "image/png": "[encoded data removed]",
      "text/plain": [
       "<Figure size 432x288 with 1 Axes>"
      ]
     },
     "metadata": {
      "needs_background": "light"
     },
     "output_type": "display_data"
    },
    {
     "name": "stdout",
     "output_type": "stream",
     "text": [
      "The # of samples needed to get a error rate < 0.1 is:  147.55517816455745\n",
      "\n"
     ]
    }
   ],
   "source": [
    "import math\n",
    "import numpy as np\n",
    "import matplotlib.pyplot as plt\n",
    "\n",
    "# np.arange (Start,end] i.e. inclusive, exclusive\n",
    "# in steps of 0.1\n",
    "ds = np.arange(0.1, 1, 0.1)\n",
    "\n",
    "# epislon\n",
    "e = 0.1\n",
    "\n",
    "# d is delta\n",
    "def fN(e, d): return (4/e)*math.log(4/d)\n",
    "\n",
    "ns = np.array([fN(e, d) for d in ds])\n",
    "plt.title(\"N for epislon=0.1, delta=0.1..0.9\")\n",
    "plt.plot(ds, ns, 'b-')\n",
    "plt.show()\n",
    "\n",
    "# %%\n",
    "print(\"The # of samples needed to get a error rate < 0.1 is: \",\n",
    "      fN(e, 0.1), end='\\n\\n')\n"
   ]
  },
  {
   "cell_type": "code",
   "execution_count": null,
   "metadata": {},
   "outputs": [],
   "source": []
  }
 ],
 "metadata": {
  "kernelspec": {
   "display_name": "Python 3",
   "language": "python",
   "name": "python3"
  },
  "language_info": {
   "codemirror_mode": {
    "name": "ipython",
    "version": 3
   },
   "file_extension": ".py",
   "mimetype": "text/x-python",
   "name": "python",
   "nbconvert_exporter": "python",
   "pygments_lexer": "ipython3",
   "version": "3.6.8"
  }
 },
 "nbformat": 4,
 "nbformat_minor": 2
}
