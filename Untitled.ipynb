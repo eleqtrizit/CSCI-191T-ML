{
 "cells": [
  {
   "cell_type": "markdown",
   "metadata": {},
   "source": [
    "# classes"
   ]
  },
  {
   "cell_type": "code",
   "execution_count": 2,
   "metadata": {},
   "outputs": [
    {
     "name": "stdout",
     "output_type": "stream",
     "text": [
      "56000\n"
     ]
    }
   ],
   "source": [
    "L = [5554,6296,5590,5707,5496,5027,5469,5817,5434,5610]\n",
    "N=sum(L)\n",
    "print(N)"
   ]
  },
  {
   "cell_type": "markdown",
   "metadata": {},
   "source": [
    "# probability\n",
    "    p is the superscript i values  i.e. p[i]"
   ]
  },
  {
   "cell_type": "code",
   "execution_count": 3,
   "metadata": {},
   "outputs": [
    {
     "name": "stdout",
     "output_type": "stream",
     "text": [
      "0.09917857142857144\n",
      "[0.09917857142857144, 0.11242857142857143, 0.09982142857142857, 0.10191071428571429, 0.09814285714285714, 0.08976785714285715, 0.09766071428571428, 0.103875, 0.09703571428571428, 0.10017857142857142]\n"
     ]
    }
   ],
   "source": [
    "P = [i/N for i in L]\n",
    "print(P[0])\n",
    "print(P)"
   ]
  },
  {
   "cell_type": "markdown",
   "metadata": {},
   "source": [
    "# GINI calc"
   ]
  },
  {
   "cell_type": "code",
   "execution_count": 4,
   "metadata": {},
   "outputs": [
    {
     "name": "stdout",
     "output_type": "stream",
     "text": [
      "[0.08934218239795919, 0.09978838775510204, 0.08985711096938775, 0.0915249205994898, 0.08851083673469388, 0.08170958896683674, 0.08812309917091836, 0.093084984375, 0.0876197844387755, 0.09014282525510203]\n",
      "\n",
      "0.8997037206632652\n"
     ]
    }
   ],
   "source": [
    "G = [p*(1-p) for p in P]\n",
    "Gini=lambda Gx: sum([p*(1-p) for p in Gx])\n",
    "print(G, end='\\n\\n')\n",
    "print(sum(G))"
   ]
  },
  {
   "cell_type": "markdown",
   "metadata": {},
   "source": [
    "# Entropy"
   ]
  },
  {
   "cell_type": "code",
   "execution_count": 8,
   "metadata": {},
   "outputs": [
    {
     "name": "stdout",
     "output_type": "stream",
     "text": [
      "[-0.33064427312820166, -0.3544782218591436, -0.3318570019990944, -0.3357573179117817, -0.32867777065691334, -0.3121818376859514, -0.32775696100210644, -0.3393678953085048, -0.32655820530729623, -0.3325281569350721]\n",
      "\n",
      "-697386.567635835\n",
      "\n",
      "-697386.567635835\n"
     ]
    }
   ],
   "source": [
    "import math\n",
    "E = [p * math.log(p,2) for p in P] # log base 2\n",
    "print(E, end='\\n\\n')\n",
    "\n",
    "# if p else 0 is protecting from doing a log base 2 on zero, which is undefined\n",
    "Entropy = lambda Pl: -1 * sum([p * math.log(p,2) if p else 0 for p in Pl]) \n",
    "print(Entropy(L), end='\\n\\n')\n",
    "\n",
    "print(-1 * sum([p * math.log(p,2) for p in L]))"
   ]
  },
  {
   "cell_type": "markdown",
   "metadata": {},
   "source": [
    "# Split"
   ]
  },
  {
   "cell_type": "code",
   "execution_count": 13,
   "metadata": {
    "scrolled": true
   },
   "outputs": [
    {
     "name": "stdout",
     "output_type": "stream",
     "text": [
      "[0.09917857142857144, 0.11242857142857143, 0.09982142857142857, 0.10191071428571429, 0.09814285714285714, 0.08976785714285715, 0.09766071428571428, 0.103875, 0.09703571428571428, 0.10017857142857142]\n",
      "3.3198076417940654\n",
      "Before:  0.8997037206632652\n",
      "56000\n",
      "G1:  0.8405111072738907\n",
      "G2:  0.8733382207460293\n"
     ]
    }
   ],
   "source": [
    "Probs = lambda Lx: [i/sum(Lx) for i in Lx]\n",
    "L1 =[5371, 195, 779, 3959, 855, 3089, 1360, 3897, 540, 1770]\n",
    "L2 = [183, 6101, 4811, 1748, 4641, 1938, 4109, 1920, 4894, 3840]\n",
    "\n",
    "print(Probs(L))\n",
    "print(Entropy(Probs(L)))\n",
    "print(\"Before: \",Gini(Probs(L)))\n",
    "print(sum(L1) + sum(L2))\n",
    "\n",
    "print(\"G1: \", Gini(Probs(L1)))\n",
    "print(\"G2: \", Gini(Probs(L2)))"
   ]
  },
  {
   "cell_type": "code",
   "execution_count": 6,
   "metadata": {},
   "outputs": [
    {
     "name": "stdout",
     "output_type": "stream",
     "text": [
      "[550.8377857142857, 707.8502857142857, 558.0017857142857, 581.6044464285715, 539.3931428571428, 451.26301785714287, 534.1064464285714, 604.240875, 527.2920714285714, 562.0017857142857]\n",
      "\n",
      "-51347.68570482407\n",
      "\n",
      "-32867.25331468765\n",
      "\n",
      "-40080.81685579808\n",
      "\n"
     ]
    }
   ],
   "source": [
    "# I don't know what is going on anymore.  But this is AFTER\n",
    "print(Probs(L),end='\\n\\n')\n",
    "\n",
    "print(Entropy(Probs(L)),end='\\n\\n')\n",
    "\n",
    "print(Entropy(Probs(L1)),end='\\n\\n')\n",
    "print(Entropy(Probs(L2)),end='\\n\\n')"
   ]
  },
  {
   "cell_type": "code",
   "execution_count": 7,
   "metadata": {},
   "outputs": [
    {
     "name": "stdout",
     "output_type": "stream",
     "text": [
      "0.38955357142857144\n",
      "0.6104464285714286\n",
      "-14076.93828919249\n",
      "Before: -3187330.3672010163\n",
      "After: -37270.74741563158\n",
      "Information Gained: -14076.93828919249\n"
     ]
    }
   ],
   "source": [
    "# use the values for the weights \n",
    "# like from the equation N.mj/N.m\n",
    "print(sum(L1)/sum(L))\n",
    "print(sum(L2)/sum(L))\n",
    "\n",
    "Purity = Entropy\n",
    "Split = Purity(Probs(L1))*sum(L1)/sum(L) + Purity(Probs(L2))*sum(L2)/sum(L)\n",
    "Ig = Purity(Probs(L)) - Split\n",
    "\n",
    "print(Ig)\n",
    "\n",
    "print(\"Before:\",Gini(Probs(L)))\n",
    "print(\"After:\", Split)\n",
    "print(\"Information Gained:\", Ig)"
   ]
  },
  {
   "cell_type": "code",
   "execution_count": 8,
   "metadata": {},
   "outputs": [
    {
     "name": "stdout",
     "output_type": "stream",
     "text": [
      "Before: -12.0\n",
      "Split entropy: [-2.0, -12.0, -4.222222222222221]\n"
     ]
    }
   ],
   "source": [
    "Purity = Gini\n",
    "Restaurant = [6,6]\n",
    "# [num nos,num yes] foreach in full some empty\n",
    "# you can't do entropy of 0 because the log base 2 of 0 is undefined\n",
    "# do you really need to add 1 to zeros\n",
    "# Purity used to equal Entropy, so why we did we switch to GINI????\n",
    "Split = [[2,0],[0,4],[4,2]]\n",
    "SplitEntropy = [Purity(Probs(l)) for l in Split]\n",
    "print(\"Before:\", Purity(Probs(Restaurant)))\n",
    "print(\"Split entropy:\", SplitEntropy)\n",
    "\n",
    "SplitEntropyFun = lambda Sp: sum([Purity(Probs(l)) for l in Split])"
   ]
  },
  {
   "cell_type": "code",
   "execution_count": 9,
   "metadata": {},
   "outputs": [
    {
     "name": "stdout",
     "output_type": "stream",
     "text": [
      "[1.8, 0.8]\n",
      "-1.2688519558890203\n"
     ]
    }
   ],
   "source": [
    "Binary = [3,2]\n",
    "# Question 18.6 A1 A2 A3 as 1 2 3\n",
    "# a1 [0 matches 1, mismatches 0] , [1 matches 2, 1 mismatches 2]\n",
    "BinarySplit1=[[1,0],[2,2]]\n",
    "BinarySplit2=[[2,0],[2,1]]\n",
    "BinarySplit3=[[2,1],[1,1]]\n",
    "print(Probs(Binary))\n",
    "print(Entropy(Probs(Binary)))\n",
    "\n",
    "print(\"Split on A1\")\n",
    "print(Entropy(Probs([1,0])))\n",
    "print(Entropy(Probs([2,2])))\n",
    "print(1.0/5.0*Entropy(Probs[1,0])) + 4.0/5.0*Entropy(Probs([2,2]))\n",
    "\n",
    "print SplitEntropyFun(BinarySplit1)\n",
    "print SplitEntropyFun(BinarySplit2)\n",
    "print SplitEntropyFun(BinarySplit3)\n",
    "\n"
   ]
  },
  {
   "cell_type": "code",
   "execution_count": null,
   "metadata": {},
   "outputs": [],
   "source": []
  }
 ],
 "metadata": {
  "kernelspec": {
   "display_name": "Python 3",
   "language": "python",
   "name": "python3"
  },
  "language_info": {
   "codemirror_mode": {
    "name": "ipython",
    "version": 3
   },
   "file_extension": ".py",
   "mimetype": "text/x-python",
   "name": "python",
   "nbconvert_exporter": "python",
   "pygments_lexer": "ipython3",
   "version": "3.6.7"
  }
 },
 "nbformat": 4,
 "nbformat_minor": 2
}
